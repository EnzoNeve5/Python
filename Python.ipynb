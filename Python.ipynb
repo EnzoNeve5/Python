{
 "cells": [
  {
   "cell_type": "markdown",
   "id": "496b1e7d-6625-4f63-a6e3-0a7a1e180ba3",
   "metadata": {},
   "source": [
    "# Python\n",
    "## Lição 1 - Ordem Decrescente"
   ]
  },
  {
   "cell_type": "code",
   "execution_count": 1,
   "id": "5eef2265-cd5d-498d-9be6-680315eef78c",
   "metadata": {},
   "outputs": [
    {
     "name": "stdin",
     "output_type": "stream",
     "text": [
      "Digite um valor:  5\n"
     ]
    },
    {
     "name": "stdout",
     "output_type": "stream",
     "text": [
      "6 5 4\n"
     ]
    }
   ],
   "source": [
    "n1 = int(input ('Digite um valor: '))\n",
    "s = n1 + 1\n",
    "m = n1\n",
    "d = n1 - 1\n",
    "print('{} {} {}'.format(s, m, d))"
   ]
  },
  {
   "cell_type": "markdown",
   "id": "7254f2a0-bf5c-49b5-a0a7-55a40da3c1d2",
   "metadata": {},
   "source": [
    "## Lição 2 - Dobro, Triplo e Divisão por ela mesma"
   ]
  },
  {
   "cell_type": "code",
   "execution_count": 2,
   "id": "2415f23b-8eb0-4cba-b582-898131419598",
   "metadata": {},
   "outputs": [
    {
     "name": "stdin",
     "output_type": "stream",
     "text": [
      "Digite um valor:  5\n"
     ]
    },
    {
     "name": "stdout",
     "output_type": "stream",
     "text": [
      "10 15 1.0\n"
     ]
    }
   ],
   "source": [
    "n1 = int(input ('Digite um valor: '))\n",
    "s = n1 + n1\n",
    "m = n1 + n1 + n1\n",
    "d = n1 / n1\n",
    "print('{} {} {}'.format(s, m, d))"
   ]
  },
  {
   "cell_type": "markdown",
   "id": "7e4618b9-4757-4ba0-ab9b-9a2ed94ce2ef",
   "metadata": {},
   "source": [
    "## Lição 3 - Soma e Média dos Números"
   ]
  },
  {
   "cell_type": "code",
   "execution_count": 3,
   "id": "a159db57-207d-4275-9dcf-61b36f291e77",
   "metadata": {},
   "outputs": [
    {
     "name": "stdin",
     "output_type": "stream",
     "text": [
      "Digite um valor:  8\n",
      "Digite outro valor:  4\n"
     ]
    },
    {
     "name": "stdout",
     "output_type": "stream",
     "text": [
      "12.0 6.0\n"
     ]
    }
   ],
   "source": [
    "n1 = float(input ('Digite um valor: '))\n",
    "n2 = float(input ('Digite outro valor: '))\n",
    "s = n1 + n2\n",
    "m = (n1 + n2) / 2\n",
    "print ('{:.1f} {:.1f}'.format(s, m))"
   ]
  },
  {
   "cell_type": "markdown",
   "id": "dc42ac08-3be9-4e45-ab76-acff6c7bba04",
   "metadata": {},
   "source": [
    "## Lição 4 - m, dm, cm, mm, hm, dam e km"
   ]
  },
  {
   "cell_type": "code",
   "execution_count": 1,
   "id": "c8d13724-5c2d-40e6-8681-c859732bb6c5",
   "metadata": {},
   "outputs": [
    {
     "name": "stdin",
     "output_type": "stream",
     "text": [
      "Digite um valor:  5\n"
     ]
    },
    {
     "name": "stdout",
     "output_type": "stream",
     "text": [
      "5.0m 50.0dm 500.0cm 5000.0mm 0.05hm 0.5dam 0.005km\n"
     ]
    }
   ],
   "source": [
    "n1 = float(input ('Digite um valor: '))\n",
    "s = n1\n",
    "g = n1 * 10\n",
    "m = n1 * 100\n",
    "d = n1 * 1000\n",
    "h = n1 / 100\n",
    "q = n1 / 10\n",
    "y = n1 / 1000\n",
    "print ('{}m {}dm {}cm {}mm {}hm {}dam {}km'.format(s, g, m, d, h, q, y))"
   ]
  },
  {
   "cell_type": "markdown",
   "id": "5fe70c57-7a38-4bb0-adc8-eb98f1f05323",
   "metadata": {},
   "source": [
    "## Lição 5 - Tabuada de Multiplicação"
   ]
  },
  {
   "cell_type": "code",
   "execution_count": 2,
   "id": "f3593315-bc60-49c1-b5de-c29a5058e43a",
   "metadata": {},
   "outputs": [
    {
     "name": "stdin",
     "output_type": "stream",
     "text": [
      "Digite um valor:  7\n"
     ]
    },
    {
     "name": "stdout",
     "output_type": "stream",
     "text": [
      "7 14 21 28 35 42 49 56 63 70\n"
     ]
    }
   ],
   "source": [
    "n1 = int(input ('Digite um valor: '))\n",
    "a = n1 * 1\n",
    "b = n1 * 2\n",
    "c = n1 * 3\n",
    "d = n1 * 4\n",
    "e = n1 * 5\n",
    "f = n1 * 6\n",
    "g = n1 * 7\n",
    "h = n1 * 8\n",
    "i = n1 * 9\n",
    "j = n1 * 10\n",
    "print ('{} {} {} {} {} {} {} {} {} {}'.format(a, b, c, d, e, f, g, h, i, j))"
   ]
  },
  {
   "cell_type": "markdown",
   "id": "92ca9f09-7ae1-4a08-8f53-2451bd119b19",
   "metadata": {},
   "source": [
    "## Lição 6 - Conversor de Moedas"
   ]
  },
  {
   "cell_type": "code",
   "execution_count": 3,
   "id": "3c61f422-852d-4e3f-81ec-7ce1636e270e",
   "metadata": {},
   "outputs": [
    {
     "name": "stdin",
     "output_type": "stream",
     "text": [
      "Digite um valor:  1\n"
     ]
    },
    {
     "name": "stdout",
     "output_type": "stream",
     "text": [
      "₿1.00 = R$553550.54 = $97121.36 = €93090.18\n"
     ]
    }
   ],
   "source": [
    "n1 = float(input ('Digite um valor: '))\n",
    "s = n1\n",
    "m = n1 * 553550.54\n",
    "d = n1 * 97121.36\n",
    "e = n1 * 93090.18\n",
    "print ('₿{:.2f} = R${:.2f} = ${:.2f} = €{:.2f}'.format(s, m, d, e))"
   ]
  },
  {
   "cell_type": "markdown",
   "id": "dedc0089-a81a-4636-9e46-f309543cf542",
   "metadata": {},
   "source": [
    "## Lição 7 - Altura, Largura, Metro Quadrado e Litros"
   ]
  },
  {
   "cell_type": "code",
   "execution_count": 4,
   "id": "1dc10060-d74c-4b32-8294-7196d5036731",
   "metadata": {},
   "outputs": [
    {
     "name": "stdin",
     "output_type": "stream",
     "text": [
      "Digite um valor:  4\n",
      "Digite outro valor:  6\n"
     ]
    },
    {
     "name": "stdout",
     "output_type": "stream",
     "text": [
      "LA4m AL6m 24m² 12.0L\n"
     ]
    }
   ],
   "source": [
    "n1 = int(input ('Digite um valor: '))\n",
    "n2 = int(input ('Digite outro valor: '))\n",
    "s = n1\n",
    "m = n2\n",
    "d = n1 * n2\n",
    "y = (n1 * n2) / 2\n",
    "print ('LA{}m AL{}m {}m² {}L'.format(s, m, d, y))"
   ]
  },
  {
   "cell_type": "markdown",
   "id": "e7cd331a-bedb-407c-9d7a-bd1409885eaf",
   "metadata": {},
   "source": [
    "## Lição 8 - Imposto"
   ]
  },
  {
   "cell_type": "code",
   "execution_count": 5,
   "id": "031b0e9f-84fd-4e46-8902-6340721412f7",
   "metadata": {},
   "outputs": [
    {
     "name": "stdin",
     "output_type": "stream",
     "text": [
      "Digite um valor:  1200\n"
     ]
    },
    {
     "name": "stdout",
     "output_type": "stream",
     "text": [
      "R$1200 -R$60.0 = R$1140.0\n"
     ]
    }
   ],
   "source": [
    "n1 = int(input ('Digite um valor: '))\n",
    "s = n1\n",
    "m = n1 * 5 / 100\n",
    "d = n1 - m\n",
    "print ('R${} -R${} = R${}'.format(s, m, d))"
   ]
  },
  {
   "cell_type": "markdown",
   "id": "9a903039-85c2-4996-80dd-91df132a7944",
   "metadata": {},
   "source": [
    "## Lição 9 - Aumento de Salário"
   ]
  },
  {
   "cell_type": "code",
   "execution_count": 6,
   "id": "e825738b-c981-4044-a126-5246008e3fa4",
   "metadata": {},
   "outputs": [
    {
     "name": "stdin",
     "output_type": "stream",
     "text": [
      "Digite um valor:  800\n"
     ]
    },
    {
     "name": "stdout",
     "output_type": "stream",
     "text": [
      "R$800 R$120.0 R$920.0\n"
     ]
    }
   ],
   "source": [
    "n1 = int(input ('Digite um valor: '))\n",
    "s = n1\n",
    "m = n1 / 2 / 10 / 2 * 6\n",
    "d = n1 + m\n",
    "print ('R${} R${} R${}'.format(s, m, d))"
   ]
  },
  {
   "cell_type": "markdown",
   "id": "f910753d-98bd-4744-ae04-af08df78b551",
   "metadata": {},
   "source": [
    "## Lição 10 - Dobro, Triplo e Raíz Quadrada"
   ]
  },
  {
   "cell_type": "code",
   "execution_count": 8,
   "id": "0355b136-01a7-4adb-a590-9c2587d38f5b",
   "metadata": {},
   "outputs": [
    {
     "name": "stdin",
     "output_type": "stream",
     "text": [
      "Digite um valor:  144\n"
     ]
    },
    {
     "name": "stdout",
     "output_type": "stream",
     "text": [
      "288 432 12.0\n"
     ]
    }
   ],
   "source": [
    "n1 = int(input ('Digite um valor: '))\n",
    "s = n1 + n1\n",
    "m = n1 + n1 + n1\n",
    "d = n1 ** (1/2)\n",
    "print ('{} {} {}'.format(s, m, d))"
   ]
  },
  {
   "cell_type": "markdown",
   "id": "2440260b-611d-4918-950e-1c586c09ac48",
   "metadata": {},
   "source": [
    "## Lição 11 - Celsius e Fanherit"
   ]
  },
  {
   "cell_type": "code",
   "execution_count": 2,
   "id": "2d652704-3884-4ad6-a594-3630b290fdb4",
   "metadata": {},
   "outputs": [
    {
     "name": "stdin",
     "output_type": "stream",
     "text": [
      "Digite um valor:  32\n"
     ]
    },
    {
     "name": "stdout",
     "output_type": "stream",
     "text": [
      "32ºC 89.6ºF\n"
     ]
    }
   ],
   "source": [
    "n1 = int(input ('Digite um valor: '))\n",
    "s = n1\n",
    "m = ((9 * s) / 5) + 32\n",
    "print ('{}ºC {}ºF'.format(s, m))"
   ]
  },
  {
   "cell_type": "markdown",
   "id": "ab2bf3a7-0f64-4c29-a188-8f30a4f78c35",
   "metadata": {},
   "source": [
    "## Lição 12 - Aluguel de Carros"
   ]
  },
  {
   "cell_type": "code",
   "execution_count": 3,
   "id": "f7ff5286-503e-43b8-bd08-81e31a3f0f9b",
   "metadata": {},
   "outputs": [
    {
     "name": "stdin",
     "output_type": "stream",
     "text": [
      "Quantos dias alugados?  3\n",
      "Quantos km rodados?  15\n"
     ]
    },
    {
     "name": "stdout",
     "output_type": "stream",
     "text": [
      "o total a pagar é de R$182.25\n"
     ]
    }
   ],
   "source": [
    "dias = int(input ('Quantos dias alugados? '))\n",
    "km = float(input ('Quantos km rodados? '))\n",
    "pago = (dias * 60) + (km * 0.15)\n",
    "print ('o total a pagar é de R${:.2f}'.format(pago))"
   ]
  },
  {
   "cell_type": "markdown",
   "id": "681d9a9d-9482-47da-b8f7-dbc53b38edcc",
   "metadata": {},
   "source": [
    "## Lição 13 - Jogos de Azar"
   ]
  },
  {
   "cell_type": "code",
   "execution_count": 4,
   "id": "c7d81a47-07ec-4caf-9a6f-9bb63a5403ed",
   "metadata": {},
   "outputs": [
    {
     "name": "stdout",
     "output_type": "stream",
     "text": [
      "78\n"
     ]
    }
   ],
   "source": [
    "import random\n",
    "num = random.randint(1, 90)\n",
    "print(num)"
   ]
  },
  {
   "cell_type": "markdown",
   "id": "4551dd31-180a-4628-864f-27daa6d2de56",
   "metadata": {},
   "source": [
    "## Lição 14 - Converter Números Naturais Para Números Inteiros"
   ]
  },
  {
   "cell_type": "code",
   "execution_count": 5,
   "id": "1f841ded-248d-43b5-85a6-9c8ae0d5c7f9",
   "metadata": {},
   "outputs": [
    {
     "name": "stdin",
     "output_type": "stream",
     "text": [
      "Digite um valor:  7.25781\n"
     ]
    },
    {
     "name": "stdout",
     "output_type": "stream",
     "text": [
      "O valor digitado foi 7.25781 e a sua porção inteira é 7\n"
     ]
    }
   ],
   "source": [
    "'''from math import trunc\n",
    "num = float(input('Digite um valor: '))\n",
    "print('O valor digitado foi {} e a sua porção inteira é {}'.format(num, trunc(num)))'''\n",
    "\n",
    "num = float(input('Digite um valor: '))\n",
    "print('O valor digitado foi {} e a sua porção inteira é {}'.format(num, int(num)))"
   ]
  },
  {
   "cell_type": "markdown",
   "id": "7c14e11f-4acf-40d6-88f3-5362bc862999",
   "metadata": {},
   "source": [
    "## Lição 15 - O Cateto e a Hipotenusa"
   ]
  },
  {
   "cell_type": "code",
   "execution_count": 6,
   "id": "24e2e824-2716-498a-93ef-936110e5771e",
   "metadata": {},
   "outputs": [
    {
     "name": "stdin",
     "output_type": "stream",
     "text": [
      "Comprimento do cateto oposto:  8\n",
      "Comprimento do cateto adjacente:  3\n"
     ]
    },
    {
     "name": "stdout",
     "output_type": "stream",
     "text": [
      "A hipotenusa vai medir 8.54\n"
     ]
    }
   ],
   "source": [
    "from math import hypot\n",
    "co = float(input('Comprimento do cateto oposto: '))\n",
    "ca = float(input('Comprimento do cateto adjacente: '))\n",
    "hi = hypot(co, ca)\n",
    "print('A hipotenusa vai medir {:.2f}'.format(hi))"
   ]
  },
  {
   "cell_type": "markdown",
   "id": "cbde2448-19d0-458d-bf56-dc1ae9e650f4",
   "metadata": {},
   "source": [
    "## Lição 16 - Como usar e instalar Emojis?"
   ]
  },
  {
   "cell_type": "code",
   "execution_count": 7,
   "id": "8a81eafe-1b19-4d97-8e4d-36060aeacd8f",
   "metadata": {},
   "outputs": [
    {
     "name": "stdout",
     "output_type": "stream",
     "text": [
      "👨\n",
      "🟦\n",
      "👨\n",
      "👩\n",
      "🐉\n",
      "🐨\n",
      "🎙\n",
      "📩\n",
      "🅙\n",
      "🝑\n",
      "🍇\n",
      "🅸\n",
      "💙\n"
     ]
    }
   ],
   "source": [
    "print('\\U0001F468')\n",
    "print('\\U0001F7E6')\n",
    "print('\\U0001F468')\n",
    "print('\\U0001F469')\n",
    "print('\\U0001F409')\n",
    "print('\\U0001F428')\n",
    "print('\\U0001F399')\n",
    "print('\\U0001F4E9')\n",
    "print('\\U0001F159')\n",
    "print('\\U0001F751')\n",
    "print('\\U0001F347')\n",
    "print('\\U0001F178')\n",
    "print('\\U0001f499')"
   ]
  },
  {
   "cell_type": "markdown",
   "id": "fbb005cf-27c1-45d6-b743-1533055de343",
   "metadata": {},
   "source": [
    "Dica: um emoji precisa ser instalado para funcionar e não vem instalado no pacote Python (**É recomendável instalar o Emoji 1.6.1 Emoji for Python**)"
   ]
  },
  {
   "cell_type": "markdown",
   "id": "185f0539-cf7f-4b29-8172-1965194efe47",
   "metadata": {},
   "source": [
    "## Lição 17 - Seno, Cosseno e Tangente"
   ]
  },
  {
   "cell_type": "code",
   "execution_count": 8,
   "id": "f85ce5fe-49f7-4647-8db1-0faf7483a818",
   "metadata": {},
   "outputs": [
    {
     "name": "stdin",
     "output_type": "stream",
     "text": [
      "Digite o ângulo que você deseja:  45\n"
     ]
    },
    {
     "name": "stdout",
     "output_type": "stream",
     "text": [
      "O ângulo de 45.0 tem o SENO de 0.71\n",
      "O ângulo de 45.0 tem o COSSENO de 0.71\n",
      "O ângulo de 45.0 tem a TANGENTE de 1.00\n"
     ]
    }
   ],
   "source": [
    "from math import radians, sin, cos, tan\n",
    "ângulo = float(input('Digite o ângulo que você deseja: '))\n",
    "seno = sin(radians(ângulo))\n",
    "print('O ângulo de {} tem o SENO de {:.2f}'.format(ângulo, seno))\n",
    "cosseno = cos(radians(ângulo))\n",
    "print('O ângulo de {} tem o COSSENO de {:.2f}'.format(ângulo, cosseno))\n",
    "tangente = tan(radians(ângulo))\n",
    "print('O ângulo de {} tem a TANGENTE de {:.2f}'.format(ângulo, tangente))"
   ]
  },
  {
   "cell_type": "markdown",
   "id": "78af7866-ffe8-4909-83ed-63317f525754",
   "metadata": {},
   "source": [
    "## Lição 18 - Sorteio de Alunos"
   ]
  },
  {
   "cell_type": "code",
   "execution_count": 9,
   "id": "09ddd04d-fdf1-49a0-b658-0ddfb73ab66c",
   "metadata": {},
   "outputs": [
    {
     "name": "stdin",
     "output_type": "stream",
     "text": [
      "Primeiro aluno:  Vitor\n",
      "Segundo aluno:  Lucas\n",
      "Terceiro aluno:  Maria\n",
      "Quarto aluno:  Giovana\n"
     ]
    },
    {
     "name": "stdout",
     "output_type": "stream",
     "text": [
      "O aluno escolhido foi Maria\n"
     ]
    }
   ],
   "source": [
    "from random import choice\n",
    "n1 = str(input('Primeiro aluno: '))\n",
    "n2 = str(input('Segundo aluno: '))\n",
    "n3 = str(input('Terceiro aluno: '))\n",
    "n4 = str(input('Quarto aluno: '))\n",
    "lista = [n1, n2, n3, n4]\n",
    "escolhido = choice(lista)\n",
    "print('O aluno escolhido foi {}'.format(escolhido))"
   ]
  },
  {
   "cell_type": "markdown",
   "id": "2b9294aa-5dd7-43bc-b7cc-d4a97999bd0f",
   "metadata": {},
   "source": [
    "## Lição 19 - Sorteio de Ordem de Apresentação"
   ]
  },
  {
   "cell_type": "code",
   "execution_count": 10,
   "id": "725288a5-7f71-4beb-acbe-e64059e2945c",
   "metadata": {},
   "outputs": [
    {
     "name": "stdin",
     "output_type": "stream",
     "text": [
      "Primeiro aluno:  Ana\n",
      "Segundo aluno:  Lucas\n",
      "Terceiro aluno:  Vitor\n",
      "Quarto aluno:  Luísa\n"
     ]
    },
    {
     "name": "stdout",
     "output_type": "stream",
     "text": [
      "A ordem de apresentação será \n",
      "['Vitor', 'Luísa', 'Ana', 'Lucas']\n"
     ]
    }
   ],
   "source": [
    "from random import shuffle\n",
    "n1 = str(input('Primeiro aluno: '))\n",
    "n2 = str(input('Segundo aluno: '))\n",
    "n3 = str(input('Terceiro aluno: '))\n",
    "n4 = str(input('Quarto aluno: '))\n",
    "lista = [n1, n2, n3, n4]\n",
    "shuffle(lista)\n",
    "print('A ordem de apresentação será ')\n",
    "print(lista)"
   ]
  },
  {
   "cell_type": "markdown",
   "id": "ff00ed4a-0d5e-4891-a8c3-1b24e3db37ca",
   "metadata": {},
   "source": [
    "## Lição 20 - Executar e Criar Arquivo .mp3"
   ]
  },
  {
   "cell_type": "code",
   "execution_count": 11,
   "id": "e01cd556-8fdf-4064-9b97-d8ccd0ea0985",
   "metadata": {},
   "outputs": [
    {
     "ename": "ModuleNotFoundError",
     "evalue": "No module named 'playsound'",
     "output_type": "error",
     "traceback": [
      "\u001b[0;31m---------------------------------------------------------------------------\u001b[0m",
      "\u001b[0;31mModuleNotFoundError\u001b[0m                       Traceback (most recent call last)",
      "Cell \u001b[0;32mIn[11], line 1\u001b[0m\n\u001b[0;32m----> 1\u001b[0m \u001b[38;5;28;01mimport\u001b[39;00m \u001b[38;5;21;01mplaysound\u001b[39;00m\n\u001b[1;32m      2\u001b[0m playsound\u001b[38;5;241m.\u001b[39mplaysound(\u001b[38;5;124m'\u001b[39m\u001b[38;5;124mfloatinghomebrianbolger.mp3\u001b[39m\u001b[38;5;124m'\u001b[39m)\n",
      "\u001b[0;31mModuleNotFoundError\u001b[0m: No module named 'playsound'"
     ]
    }
   ],
   "source": [
    "import playsound\n",
    "playsound.playsound('floatinghomebrianbolger.mp3')"
   ]
  },
  {
   "cell_type": "markdown",
   "id": "5b80c0f5-3ee9-471c-b5f0-0e5dba4dec03",
   "metadata": {},
   "source": [
    "***pip install playsound*** No Prompt de Comando **(.cmd)**"
   ]
  },
  {
   "cell_type": "markdown",
   "id": "5d6ffafc-4854-48f7-85b8-e9ebbc6662c4",
   "metadata": {},
   "source": [
    "## Lição 21 - Analizando as Letras"
   ]
  },
  {
   "cell_type": "code",
   "execution_count": 12,
   "id": "3a7ae789-3837-469f-9bd6-b47e014a197d",
   "metadata": {},
   "outputs": [
    {
     "name": "stdin",
     "output_type": "stream",
     "text": [
      "Digite seu nome completo:  Enzo dos Santos Neves\n"
     ]
    },
    {
     "name": "stdout",
     "output_type": "stream",
     "text": [
      "Analizando seu nome...\n",
      "Seu nome em maiúsculas é ENZO DOS SANTOS NEVES\n",
      "Seu nome em minúsculas é enzo dos santos neves\n",
      "Seu nome tem ao todo 18 letras\n",
      "Seu primeiro nome é Enzo e ele tem 4 letras\n"
     ]
    }
   ],
   "source": [
    "nome = str(input('Digite seu nome completo: ')).strip()\n",
    "print('Analizando seu nome...')\n",
    "print('Seu nome em maiúsculas é {}'.format(nome.upper()))\n",
    "print('Seu nome em minúsculas é {}'.format(nome.lower()))\n",
    "print('Seu nome tem ao todo {} letras'.format(len(nome) - nome.count(' ')))\n",
    "#print('Seu primeiro nome tem {} letras'.format(nome.find(' ')))\n",
    "separa = nome.split()\n",
    "print('Seu primeiro nome é {} e ele tem {} letras'.format(separa[0], len(separa[0])))"
   ]
  },
  {
   "cell_type": "markdown",
   "id": "6f9b03f0-3e1b-439f-a38d-0c9fa4228abd",
   "metadata": {},
   "source": [
    "## Lição 22 - Unidade, Dezena, Centena e Milhar"
   ]
  },
  {
   "cell_type": "code",
   "execution_count": 13,
   "id": "89b47dc2-68e0-4415-991f-8313fc872011",
   "metadata": {},
   "outputs": [
    {
     "name": "stdin",
     "output_type": "stream",
     "text": [
      "Informe um número:  7865\n"
     ]
    },
    {
     "name": "stdout",
     "output_type": "stream",
     "text": [
      "Analisando o número 7865\n",
      "Unidade: 5\n",
      "Dezena: 6\n",
      "Centena: 8\n",
      "Milhar: 7\n"
     ]
    }
   ],
   "source": [
    "num = int(input('Informe um número: '))\n",
    "u = num // 1 % 10\n",
    "d = num // 10 % 10\n",
    "c = num // 100 % 10\n",
    "m = num // 1000 % 10\n",
    "print('Analisando o número {}'.format(num))\n",
    "print('Unidade: {}'.format(u))\n",
    "print('Dezena: {}'.format(d))\n",
    "print('Centena: {}'.format(c))\n",
    "print('Milhar: {}'.format(m))"
   ]
  },
  {
   "cell_type": "markdown",
   "id": "7c906cc4-ac8a-4a30-a6ef-1434f1af7a6c",
   "metadata": {},
   "source": [
    "## Lição 23 - Identificando Falsas Cidades"
   ]
  },
  {
   "cell_type": "code",
   "execution_count": 14,
   "id": "16612f85-4765-4b3b-b90d-856852975e59",
   "metadata": {},
   "outputs": [
    {
     "name": "stdin",
     "output_type": "stream",
     "text": [
      "Em que cidade você nasceu?  Santo André\n"
     ]
    },
    {
     "name": "stdout",
     "output_type": "stream",
     "text": [
      "False\n"
     ]
    }
   ],
   "source": [
    "cid = str(input('Em que cidade você nasceu? ')).strip()\n",
    "print(cid[:5].upper() == 'MAUÁ')"
   ]
  },
  {
   "cell_type": "markdown",
   "id": "370f5bd5-2cc4-4ba2-8307-8eafc004482b",
   "metadata": {},
   "source": [
    "## Lição 24 - Identificando Nomes Falsos"
   ]
  },
  {
   "cell_type": "code",
   "execution_count": 15,
   "id": "8f69a87a-4338-4472-998b-8441b9f7a680",
   "metadata": {},
   "outputs": [
    {
     "name": "stdin",
     "output_type": "stream",
     "text": [
      "Qual é seu nome completo?  Enzo dos Santos Neves\n"
     ]
    },
    {
     "name": "stdout",
     "output_type": "stream",
     "text": [
      "Seu nome tem Silva? False\n"
     ]
    }
   ],
   "source": [
    "nome = str(input('Qual é seu nome completo? ')).strip()\n",
    "print('Seu nome tem Silva? {}'.format('silva' in nome.lower()))"
   ]
  },
  {
   "cell_type": "markdown",
   "id": "1d389238-a6f7-4992-9187-19d3eb2eecde",
   "metadata": {},
   "source": [
    "## Lição 25 - Quantas Letras \"A\" tem em uma Palavra?"
   ]
  },
  {
   "cell_type": "code",
   "execution_count": 16,
   "id": "f7966d45-6ece-4f2c-920b-a89993a77267",
   "metadata": {},
   "outputs": [
    {
     "name": "stdin",
     "output_type": "stream",
     "text": [
      "Digite uma frase:  Arara Azul\n"
     ]
    },
    {
     "name": "stdout",
     "output_type": "stream",
     "text": [
      "A letra A aparece 4 vezes na frase.\n",
      "A primeira letra A apareceu na posição 1.\n",
      "A última letra A apareceu na posição 7.\n"
     ]
    }
   ],
   "source": [
    "frase = str(input('Digite uma frase: ')).upper().strip()\n",
    "print ('A letra A aparece {} vezes na frase.'.format(frase.count('A')))\n",
    "print ('A primeira letra A apareceu na posição {}.'.format(frase.find('A')+1))\n",
    "print ('A última letra A apareceu na posição {}.'.format(frase.rfind('A')+1))"
   ]
  },
  {
   "cell_type": "markdown",
   "id": "666c097e-c67d-41f9-972c-be1a15af5c76",
   "metadata": {},
   "source": [
    "## Lição 26 - Primeiro e Último Nome"
   ]
  },
  {
   "cell_type": "code",
   "execution_count": 1,
   "id": "6a0a5b22-3bef-45d9-be30-ff38161722d4",
   "metadata": {},
   "outputs": [
    {
     "name": "stdin",
     "output_type": "stream",
     "text": [
      "Digite seu nome completo:  Enzo dos Santos Neves\n"
     ]
    },
    {
     "name": "stdout",
     "output_type": "stream",
     "text": [
      "Muito prazer em te conhecer!\n",
      "Seu primeiro nome é Enzo\n",
      "Seu último nome é Neves\n"
     ]
    }
   ],
   "source": [
    "n = str(input('Digite seu nome completo: ')).strip()\n",
    "nome = n.split()\n",
    "print('Muito prazer em te conhecer!')\n",
    "print('Seu primeiro nome é {}'.format(nome[0]))\n",
    "print('Seu último nome é {}'.format(nome[len(nome)-1]))"
   ]
  },
  {
   "cell_type": "markdown",
   "id": "ce352ce5-3431-4962-a653-9e7e39062ecf",
   "metadata": {},
   "source": [
    "## Lição 27 - Jogo da Adivinhação"
   ]
  },
  {
   "cell_type": "code",
   "execution_count": 4,
   "id": "4570072a-b36e-4d78-963a-ef1f216b2391",
   "metadata": {},
   "outputs": [
    {
     "name": "stdout",
     "output_type": "stream",
     "text": [
      "-=--=--=--=--=--=--=--=--=--=--=--=--=--=--=--=--=--=--=--=-\n",
      "Vou pensar em um número entre 0 e 5. Tente adivinhar...\n",
      "-=--=--=--=--=--=--=--=--=--=--=--=--=--=--=--=--=--=--=--=-\n"
     ]
    },
    {
     "name": "stdin",
     "output_type": "stream",
     "text": [
      "Em que número eu pensei?  2\n"
     ]
    },
    {
     "name": "stdout",
     "output_type": "stream",
     "text": [
      "PROCESSANDO...\n",
      "PARABÉNS! Você conseguiu me vencer!\n"
     ]
    }
   ],
   "source": [
    "from random import randint\n",
    "from time import sleep\n",
    "computador = randint(0, 5) # Faz o computador \"PENSAR\"\n",
    "print('-=-' * 20)\n",
    "print('Vou pensar em um número entre 0 e 5. Tente adivinhar...')\n",
    "print('-=-' * 20)\n",
    "jogador = int(input('Em que número eu pensei? ')) # Jogador tenta adivinhar\n",
    "print('PROCESSANDO...')\n",
    "sleep(3)\n",
    "if jogador == computador:\n",
    "    print('PARABÉNS! Você conseguiu me vencer!')\n",
    "else:\n",
    "    print('GANHEI! Eu pensei no número {} e não no {}!'.format(computador, jogador))"
   ]
  },
  {
   "cell_type": "markdown",
   "id": "f230f25a-d039-4c9f-a0e9-28a9a0170d39",
   "metadata": {},
   "source": [
    "## Lição 28 - Radar de Velocidade"
   ]
  },
  {
   "cell_type": "code",
   "execution_count": 3,
   "id": "b5047297-e3d8-4176-9a04-a28a84c8e434",
   "metadata": {},
   "outputs": [
    {
     "name": "stdin",
     "output_type": "stream",
     "text": [
      "Qual é a velocidade atual do carro?  90\n"
     ]
    },
    {
     "name": "stdout",
     "output_type": "stream",
     "text": [
      "MULTADO! Você excedeu o limite permitido que é de 80km/h\n",
      "Você deve pagar uma multa de R$70.00\n",
      "Tenha um bom dia! Dirija com segurança!\n"
     ]
    }
   ],
   "source": [
    "velocidade = float(input('Qual é a velocidade atual do carro? '))\n",
    "if velocidade > 80:\n",
    "    print('MULTADO! Você excedeu o limite permitido que é de 80km/h')\n",
    "    multa = (velocidade-80) * 7\n",
    "    print('Você deve pagar uma multa de R${:.2f}'.format(multa))\n",
    "print('Tenha um bom dia! Dirija com segurança!')"
   ]
  },
  {
   "cell_type": "markdown",
   "id": "70ce6a5b-58bd-41d0-99ec-23d0b79d11c1",
   "metadata": {},
   "source": [
    "## Lição 29 - Par ou Ímpar"
   ]
  },
  {
   "cell_type": "code",
   "execution_count": 5,
   "id": "a7117fae-2b6b-4c8c-9546-8e7ff7d599f9",
   "metadata": {},
   "outputs": [
    {
     "name": "stdin",
     "output_type": "stream",
     "text": [
      "Me diga um número qualquer:  4\n"
     ]
    },
    {
     "name": "stdout",
     "output_type": "stream",
     "text": [
      "O número 4 é PAR\n"
     ]
    }
   ],
   "source": [
    "número = int(input('Me diga um número qualquer: '))\n",
    "resultado = número % 2\n",
    "if resultado == 0:\n",
    "    print('O número {} é PAR'.format(número))\n",
    "else:\n",
    "    print('O número {} é ÍMPAR'.format(número))"
   ]
  },
  {
   "cell_type": "markdown",
   "id": "20337910-4ec8-4dbe-bc64-8f9c02065d92",
   "metadata": {},
   "source": [
    "## Lição 30 - Custo de Viagem"
   ]
  },
  {
   "cell_type": "code",
   "execution_count": 6,
   "id": "ed0ec1a9-e8f8-4c31-a55c-6509cec54a01",
   "metadata": {},
   "outputs": [
    {
     "name": "stdin",
     "output_type": "stream",
     "text": [
      "Qual é a distância da sua viagem?  1971\n"
     ]
    },
    {
     "name": "stdout",
     "output_type": "stream",
     "text": [
      "Você está prestes a começar uma viagem de 1971.0km.\n",
      "E o preço da sua passagem será de R$886.95\n"
     ]
    }
   ],
   "source": [
    "distância = float(input('Qual é a distância da sua viagem? '))\n",
    "print('Você está prestes a começar uma viagem de {}km.'.format(distância))\n",
    "preço = distância * 0.50 if distância <= 200 else distância * 0.45\n",
    "print('E o preço da sua passagem será de R${:.2f}'.format(preço))"
   ]
  },
  {
   "cell_type": "markdown",
   "id": "8949055e-aa76-4efe-9426-b981e2a2d5dc",
   "metadata": {},
   "source": [
    "## Lição 31 - Ano Bissexto"
   ]
  },
  {
   "cell_type": "code",
   "execution_count": 7,
   "id": "410200ef-babc-419f-8e4b-0d865fe93ddc",
   "metadata": {},
   "outputs": [
    {
     "name": "stdin",
     "output_type": "stream",
     "text": [
      "Que ano quer analisar? Coloque 0 para analisar o ano atual:  0\n"
     ]
    },
    {
     "name": "stdout",
     "output_type": "stream",
     "text": [
      "O ano 2025 NÃO é BISSEXTO\n"
     ]
    }
   ],
   "source": [
    "from datetime import date \n",
    "ano = int(input('Que ano quer analisar? Coloque 0 para analisar o ano atual: '))\n",
    "if ano == 0:\n",
    "    ano = date.today().year\n",
    "if ano % 4 == 0 and ano % 100 != 0 or ano % 400 == 0:\n",
    "    print('O ano {} é BISSEXTO'.format(ano))\n",
    "else:\n",
    "    print('O ano {} NÃO é BISSEXTO'.format(ano))"
   ]
  },
  {
   "cell_type": "markdown",
   "id": "fd3ce1be-832a-4cea-909e-db00a9fad4b5",
   "metadata": {},
   "source": [
    "## Lição 32 - Maior e Menor Número"
   ]
  },
  {
   "cell_type": "code",
   "execution_count": 8,
   "id": "4833c13a-965a-41a8-8d9f-e40f4ea4952f",
   "metadata": {},
   "outputs": [
    {
     "name": "stdin",
     "output_type": "stream",
     "text": [
      "Primeiro valor:  5\n",
      "Segundo valor:  8\n",
      "Terceiro valor:  3\n"
     ]
    },
    {
     "name": "stdout",
     "output_type": "stream",
     "text": [
      "O menor valor digitado foi 3\n",
      "O maior valor digitado foi 8\n"
     ]
    }
   ],
   "source": [
    "a = int(input('Primeiro valor: '))\n",
    "b = int(input('Segundo valor: '))\n",
    "c = int(input('Terceiro valor: '))\n",
    "# Verificando quem é menor\n",
    "menor = a\n",
    "if b < a and b < c:\n",
    "    menor = b\n",
    "if c < a and c < b:\n",
    "    menor = c\n",
    "# Verificando quem é maior\n",
    "maior = a\n",
    "if b > a and b > c:\n",
    "    maior = b\n",
    "if c > a and c > b:\n",
    "    maior = c\n",
    "print('O menor valor digitado foi {}'.format(menor))\n",
    "print('O maior valor digitado foi {}'.format(maior))"
   ]
  },
  {
   "cell_type": "markdown",
   "id": "dbc537c9-87f2-4e89-a857-5ebf330dfb15",
   "metadata": {},
   "source": [
    "## Lição 33 - Reajuste Salarial"
   ]
  },
  {
   "cell_type": "code",
   "execution_count": 9,
   "id": "f10924fb-870c-4b9f-b345-704aa4c05130",
   "metadata": {},
   "outputs": [
    {
     "name": "stdin",
     "output_type": "stream",
     "text": [
      "Qual é o salário do funcionário? R$ 150000\n"
     ]
    },
    {
     "name": "stdout",
     "output_type": "stream",
     "text": [
      "Quem ganhava R$150000.00 passa a ganhar R$165000.00 agora.\n"
     ]
    }
   ],
   "source": [
    "salário = float(input('Qual é o salário do funcionário? R$'))\n",
    "if salário <= 1250:\n",
    "    novo = salário + (salário * 15 / 100)\n",
    "else:\n",
    "    novo = salário + (salário * 10 / 100)\n",
    "print('Quem ganhava R${:.2f} passa a ganhar R${:.2f} agora.'.format(salário, novo))"
   ]
  },
  {
   "cell_type": "markdown",
   "id": "1f41dba7-240e-4b4b-af97-1126c8b8e016",
   "metadata": {},
   "source": [
    "## Lição 34 - Analisador de Triângulos"
   ]
  },
  {
   "cell_type": "code",
   "execution_count": 10,
   "id": "45194683-caed-4dad-bd72-fb281aec9a03",
   "metadata": {},
   "outputs": [
    {
     "name": "stdout",
     "output_type": "stream",
     "text": [
      "-=-=-=-=-=-=-=-=-=-=-=-=-=-=-=-=-=-=-=-=\n",
      "Analisador de triângulos\n",
      "-=-=-=-=-=-=-=-=-=-=-=-=-=-=-=-=-=-=-=-=\n"
     ]
    },
    {
     "name": "stdin",
     "output_type": "stream",
     "text": [
      "Primeiro segmento:  2\n",
      "Segundo segmento:  2\n",
      "Terceiro segmento:  2\n"
     ]
    },
    {
     "name": "stdout",
     "output_type": "stream",
     "text": [
      "Os segmentos acima PODEM FORMAR triângulo!\n"
     ]
    }
   ],
   "source": [
    "print('-='*20)\n",
    "print('Analisador de triângulos')\n",
    "print('-='*20)\n",
    "r1 = float(input('Primeiro segmento: '))\n",
    "r2 = float(input('Segundo segmento: '))\n",
    "r3 = float(input('Terceiro segmento: '))\n",
    "if r1 < r2 + r3 and r2 < r1 + r3 and r3 < r1 + r2:\n",
    "    print('Os segmentos acima PODEM FORMAR triângulo!')\n",
    "else:\n",
    "    print('Os segmentos acima NÃO PODEM FORMAR triângulo')"
   ]
  },
  {
   "cell_type": "markdown",
   "id": "0032fb9a-5419-4ac9-996a-7de5a364dc0d",
   "metadata": {},
   "source": [
    "## Lição 35 - (if...elif), (for) e (while)"
   ]
  },
  {
   "cell_type": "code",
   "execution_count": 11,
   "id": "2eb832cf-c7fb-492d-b536-9f51ca17f46f",
   "metadata": {},
   "outputs": [
    {
     "name": "stdin",
     "output_type": "stream",
     "text": [
      "Qual é o seu nome?  Paula\n"
     ]
    },
    {
     "name": "stdout",
     "output_type": "stream",
     "text": [
      "Seu nome é bem normal.\n",
      "Tenha um bom dia, Paula!\n"
     ]
    }
   ],
   "source": [
    "nome = str(input('Qual é o seu nome? '))\n",
    "if nome == 'Gustavo':\n",
    "    print('Que nome bonito!')\n",
    "elif nome == 'Pedro' or nome == 'Maria' or nome == 'Paulo':\n",
    "    print('Seu nome é bem popular no Brasil.')\n",
    "elif nome in 'Ana Cláudia Jéssica Juliana':\n",
    "    print('Belo nome feminino!')\n",
    "else:\n",
    "    print('Seu nome é bem normal.')\n",
    "print('Tenha um bom dia, {}!'.format(nome))"
   ]
  },
  {
   "cell_type": "markdown",
   "id": "f3175396-0731-4cf1-8f6e-356560675fc7",
   "metadata": {},
   "source": [
    "## Lição 36 - Aprovando Empréstimo"
   ]
  },
  {
   "cell_type": "code",
   "execution_count": 12,
   "id": "9a023404-d8c1-492b-9a60-1037a523ea6f",
   "metadata": {},
   "outputs": [
    {
     "name": "stdin",
     "output_type": "stream",
     "text": [
      "Valor da casa: R$ 120000\n",
      "Salário do comprador: R$ 5000\n",
      "Quantos anos de financiamento?  10\n"
     ]
    },
    {
     "name": "stdout",
     "output_type": "stream",
     "text": [
      "Para pagar uma casa de R$120000.00 em 10 anos a prestação será de R$1000.00\n",
      "Empréstimo deve ser CONCEDIDO!\n"
     ]
    }
   ],
   "source": [
    "casa = float(input('Valor da casa: R$'))\n",
    "salário = float(input('Salário do comprador: R$'))\n",
    "anos = int(input('Quantos anos de financiamento? '))\n",
    "prestação = casa / (anos * 12)\n",
    "mínimo = salário * 30 / 100\n",
    "print('Para pagar uma casa de R${:.2f} em {} anos'.format(casa, anos), end='')\n",
    "print(' a prestação será de R${:.2f}'.format(prestação))\n",
    "if prestação <= mínimo:\n",
    "    print('Empréstimo deve ser CONCEDIDO!')\n",
    "else:\n",
    "    print('Empréstimo NEGADO!')"
   ]
  },
  {
   "cell_type": "markdown",
   "id": "43007d25-8368-416b-817e-9010cfbd6237",
   "metadata": {},
   "source": [
    "## Lição 37 - Conversor de Bases Numéricas"
   ]
  },
  {
   "cell_type": "code",
   "execution_count": 13,
   "id": "50027f6e-d5fb-4b84-ac0a-a6fe98d998a8",
   "metadata": {},
   "outputs": [
    {
     "name": "stdin",
     "output_type": "stream",
     "text": [
      "Digite um número inteiro:  250\n"
     ]
    },
    {
     "name": "stdout",
     "output_type": "stream",
     "text": [
      "Escolha uma das bases para conversão:\n",
      "[ 1 ] converter para BINÁRIO\n",
      "[ 2 ] converter para OCTAL\n",
      "[ 3 ] converter para HEXADECIMAL\n"
     ]
    },
    {
     "name": "stdin",
     "output_type": "stream",
     "text": [
      "Sua opção:  1\n"
     ]
    },
    {
     "name": "stdout",
     "output_type": "stream",
     "text": [
      "250 convertido para BINÁRIO é igual a 0b11111010\n"
     ]
    }
   ],
   "source": [
    "num = int(input('Digite um número inteiro: '))\n",
    "print('''Escolha uma das bases para conversão:\n",
    "[ 1 ] converter para BINÁRIO\n",
    "[ 2 ] converter para OCTAL\n",
    "[ 3 ] converter para HEXADECIMAL''')\n",
    "opção = int(input('Sua opção: '))\n",
    "if opção == 1:\n",
    "    print('{} convertido para BINÁRIO é igual a {}'.format(num, bin(num)))\n",
    "elif opção == 2:\n",
    "    print('{} convertido para OCTAL é igual a {}'.format(num, oct(num)))\n",
    "elif opção == 3:\n",
    "    print('{} convertido para HEXADECIMAL é igual a {}'.format(num, hex(num)))\n",
    "else:\n",
    "    print('Opção inválida. tente novamente.')"
   ]
  },
  {
   "cell_type": "markdown",
   "id": "8e145972-0eca-4851-957b-10e1f048218b",
   "metadata": {},
   "source": [
    "## Lição 38 - Comparando Números"
   ]
  },
  {
   "cell_type": "code",
   "execution_count": 14,
   "id": "ac56bf08-9441-4e0f-81fb-02e31d6a890f",
   "metadata": {},
   "outputs": [
    {
     "name": "stdin",
     "output_type": "stream",
     "text": [
      "Primeiro número:  7\n",
      "Segundo número:  7\n"
     ]
    },
    {
     "name": "stdout",
     "output_type": "stream",
     "text": [
      "Os dois valores são IGUAIS\n"
     ]
    }
   ],
   "source": [
    "n1 = (int(input('Primeiro número: ')))\n",
    "n2 = (int(input('Segundo número: ')))\n",
    "if n1 > n2:\n",
    "    print('O PRIMEIRO valor é maior')\n",
    "elif n2 > n1:\n",
    "    print('O SEGUNDO valor é maior')\n",
    "else:\n",
    "    print('Os dois valores são IGUAIS')"
   ]
  },
  {
   "cell_type": "markdown",
   "id": "38ade660-aee9-4f66-89ae-f98126e4500e",
   "metadata": {},
   "source": [
    "## Lição 39 - Alistamento Militar"
   ]
  },
  {
   "cell_type": "code",
   "execution_count": 15,
   "id": "f6bfe256-7e2e-4356-b17d-b211dc4d378b",
   "metadata": {},
   "outputs": [
    {
     "name": "stdin",
     "output_type": "stream",
     "text": [
      "Em que ano você nasceu?  2005\n",
      "Você é HOMEM ou MULHER?  Homem\n"
     ]
    },
    {
     "name": "stdout",
     "output_type": "stream",
     "text": [
      "BEM-VINDO ao Serviço Militar\n",
      "Você já deveria ter se alistado há 2 ano(s)\n",
      "Seu alistamento foi em 2023\n"
     ]
    }
   ],
   "source": [
    "from datetime import date\n",
    "ano_nascimento = int(input('Em que ano você nasceu? '))\n",
    "sexo = str(input('Você é HOMEM ou MULHER? ')).title().strip()\n",
    "idade = date.today().year - ano_nascimento\n",
    "if sexo == 'Mulher':\n",
    " print('Você não é obrigada ao alistamento.')\n",
    " sim_nao = str(input('Você Gostaria de se alistar nas Forças Armadas? Sim ou Não? ')).title().strip()\n",
    " if sim_nao == 'Não':\n",
    "  print('Tenha um bom dia Senhorita!')\n",
    " elif sim_nao == 'Sim':\n",
    "  print('BEM-VINDA Ao Serviço Militar!')\n",
    "  if idade == 18: \n",
    "   print('Você tem que se alistar IMEDIATAMENTE!') \n",
    "  elif idade > 18:\n",
    "   alistamento = idade - 18\n",
    "   ano = date.today().year - alistamento \n",
    "   print('Você já deveria ter se alistado há {} ano(s)'.format(alistamento))\n",
    "   print('Seu alistamento foi em {}'.format(ano))\n",
    "  else:\n",
    "   alistamento = 18 - idade\n",
    "   ano = alistamento + date.today().year\n",
    "   print('Ainda faltam {} ano(s) para o alistamento'.format(alistamento))\n",
    "   print('Seu alistamento será em {}'.format(ano))\n",
    " else:\n",
    "  print('Entrada inválida, escolhar Sim ou Não')\n",
    "elif sexo == 'Homem':\n",
    " print('BEM-VINDO ao Serviço Militar')\n",
    " if idade == 18:\n",
    "  alistamento = 18  \n",
    "  print('Você tem que se alistar IMEDIATAMENTE!') \n",
    " elif idade > 18:\n",
    "  alistamento = idade - 18\n",
    "  ano = date.today().year - alistamento \n",
    "  print('Você já deveria ter se alistado há {} ano(s)'.format(alistamento))\n",
    "  print('Seu alistamento foi em {}'.format(ano))\n",
    " else:\n",
    "  alistamento = 18 - idade\n",
    "  ano = alistamento + date.today().year\n",
    "  print('Ainda faltam {} ano(s) para o alistamento'.format(alistamento))\n",
    "  print('Seu alistamento será em {}'.format(ano))\n",
    "else:\n",
    " print('As Forças Armadas não aceita DEGENERADO(A)!')"
   ]
  },
  {
   "cell_type": "markdown",
   "id": "895040e9-927e-4eb0-bcd6-f5ee0bf83f0c",
   "metadata": {},
   "source": [
    "## Lição 40 - Média Escolar"
   ]
  },
  {
   "cell_type": "code",
   "execution_count": 16,
   "id": "e3d9d47b-6faf-4b96-a132-f24971e32e50",
   "metadata": {},
   "outputs": [
    {
     "name": "stdin",
     "output_type": "stream",
     "text": [
      "Primeira nota:  2.5\n",
      "Segunda nota:  9.5\n"
     ]
    },
    {
     "name": "stdout",
     "output_type": "stream",
     "text": [
      "Tirando 2.5 e 9.5, a média do aluno é 6.0\n",
      "O aluno está de RECUPERAÇÃO.\n"
     ]
    }
   ],
   "source": [
    "nota1 = float(input('Primeira nota: '))\n",
    "nota2 = float(input('Segunda nota: '))\n",
    "média = (nota1 + nota2) / 2\n",
    "print('Tirando {:.1f} e {:.1f}, a média do aluno é {:.1f}'.format(nota1, nota2, média))\n",
    "if 7 > média >=5:\n",
    "    print('O aluno está de RECUPERAÇÃO.')\n",
    "elif média < 5:\n",
    "    print('O aluno está REPROVADO.')\n",
    "elif média >= 7:\n",
    "    print('O aluno está APROVADO.')"
   ]
  },
  {
   "cell_type": "markdown",
   "id": "7dcb3f89-0fdc-402c-9944-43bf87603833",
   "metadata": {},
   "source": [
    "## Lição 41 - Classificando Atletas"
   ]
  },
  {
   "cell_type": "code",
   "execution_count": 17,
   "id": "2fdeff10-19cb-4873-8cc0-cb2f8cc9c4f1",
   "metadata": {},
   "outputs": [
    {
     "name": "stdin",
     "output_type": "stream",
     "text": [
      "Ano de Nascimento:  2005\n"
     ]
    },
    {
     "name": "stdout",
     "output_type": "stream",
     "text": [
      "O atleta tem 20 anos\n",
      "Classificação: SÊNIOR\n"
     ]
    }
   ],
   "source": [
    "from datetime import date\n",
    "atual = date.today().year\n",
    "nascimento = int(input('Ano de Nascimento: '))\n",
    "idade = atual - nascimento\n",
    "print('O atleta tem {} anos'.format(idade))\n",
    "if idade <= 9:\n",
    "    print('Classificação: MIRIM')\n",
    "elif idade <= 14:\n",
    "    print('Classificação: INFANTIL')\n",
    "elif idade <= 19:\n",
    "    print('Classificação: JUNIOR')\n",
    "elif idade <= 25:\n",
    "    print('Classificação: SÊNIOR')\n",
    "else:\n",
    "    print('Classificação: MASTER')"
   ]
  },
  {
   "cell_type": "markdown",
   "id": "3eefba29-33a9-4c4b-b6b1-79e4e7c9f52e",
   "metadata": {},
   "source": [
    "## Lição 42 - Analisador de Triângulos 2.0"
   ]
  },
  {
   "cell_type": "code",
   "execution_count": 18,
   "id": "135ae6cc-2d31-4a2f-9143-2af515abde27",
   "metadata": {},
   "outputs": [
    {
     "name": "stdin",
     "output_type": "stream",
     "text": [
      "Primeiro segmento:  2\n",
      "Segundo segmento:  2\n",
      "Terceiro segmento:  2\n"
     ]
    },
    {
     "name": "stdout",
     "output_type": "stream",
     "text": [
      "Os segmentos acima PODEM FORMAR triângulo EQUILÁTERO!\n"
     ]
    }
   ],
   "source": [
    "r1 = float(input('Primeiro segmento: '))\n",
    "r2 = float(input('Segundo segmento: '))\n",
    "r3 = float(input('Terceiro segmento: '))\n",
    "if r1 < r2 + r3 and r2 < r1 + r3 and r3 < r1 + r2:\n",
    "    print('Os segmentos acima PODEM FORMAR triângulo ', end='')\n",
    "    if r1 == r2 == r3:\n",
    "        print('EQUILÁTERO!')\n",
    "    elif r1 != r2 != r3 != r1:\n",
    "        print('ESCALENO!')\n",
    "    else:\n",
    "        print('ISÓCELES')\n",
    "else:\n",
    "    print('Os segmentos acima NÃO PODEM FORMAR triângulo!')"
   ]
  },
  {
   "cell_type": "markdown",
   "id": "e53f0b4f-c695-434f-858b-e95318d3fde8",
   "metadata": {},
   "source": [
    "## Lição 43 - Índice de Massa Corporal"
   ]
  },
  {
   "cell_type": "code",
   "execution_count": 19,
   "id": "556ded42-1f72-4557-a413-12422b3ac22c",
   "metadata": {},
   "outputs": [
    {
     "name": "stdin",
     "output_type": "stream",
     "text": [
      "Qual é seu peso? (kg)  52\n",
      "Qual é sua altura? (m)  1.60\n"
     ]
    },
    {
     "name": "stdout",
     "output_type": "stream",
     "text": [
      "O IMC dessa pessoa é de 20.3\n",
      "PARABÉNS, você está na faixa do PESO NORMAL\n"
     ]
    }
   ],
   "source": [
    "peso = float(input('Qual é seu peso? (kg) '))\n",
    "altura = float(input('Qual é sua altura? (m) '))\n",
    "imc = peso / (altura ** 2)\n",
    "print('O IMC dessa pessoa é de {:.1f}'.format(imc))\n",
    "if imc < 18.5:\n",
    "    print('Você está ABAIXO DO PESO normal')\n",
    "elif 18.5 <= imc < 25:\n",
    "    print('PARABÉNS, você está na faixa do PESO NORMAL')\n",
    "elif 25 <= imc < 30:\n",
    "    print('Você está em SOBREPESO')\n",
    "elif 30 <= imc < 40:\n",
    "    print('Você está em OBESIDADE')\n",
    "elif imc >= 40:\n",
    "    print('Você está em OBESIDADE MÓRBIDA, cuidado!')"
   ]
  },
  {
   "cell_type": "markdown",
   "id": "88037c4d-942a-4ca4-9e22-8f8d9f2b08a4",
   "metadata": {},
   "source": [
    "## Lição 44 - Tuplas"
   ]
  },
  {
   "cell_type": "code",
   "execution_count": 20,
   "id": "4f613c51-f52b-4f56-ba29-b50906abcc75",
   "metadata": {},
   "outputs": [
    {
     "name": "stdout",
     "output_type": "stream",
     "text": [
      "('Gustavo', 39, 'M', 99.88)\n"
     ]
    }
   ],
   "source": [
    "pessoa = ('Gustavo', 39, 'M', 99.88)\n",
    "print(pessoa)"
   ]
  },
  {
   "cell_type": "markdown",
   "id": "f89492fb-05b8-4834-95e5-1978d5a2cad5",
   "metadata": {},
   "source": [
    "Esse é apenas um exemplo de tupla"
   ]
  },
  {
   "cell_type": "markdown",
   "id": "732a85d3-aae2-4142-ba84-f0eb7a875fe9",
   "metadata": {},
   "source": [
    "## Lição 45 - Número por Extenso"
   ]
  },
  {
   "cell_type": "code",
   "execution_count": 21,
   "id": "f4e66dd3-3117-4185-88f2-b94a9a03426f",
   "metadata": {},
   "outputs": [
    {
     "name": "stdin",
     "output_type": "stream",
     "text": [
      "Digite um número entre 0 e 20:  8\n"
     ]
    },
    {
     "name": "stdout",
     "output_type": "stream",
     "text": [
      "Você digitou o número oito\n"
     ]
    }
   ],
   "source": [
    "cont = ('zero', 'um', 'dois', 'três', 'quatro',\n",
    "        'cinco', 'seis', 'sete', 'oito', 'nove',\n",
    "        'dez', 'onze', 'doze', 'treze', 'catorze',\n",
    "        'quinze', 'dezesseis', 'dezessete', 'dezoito',\n",
    "        'dezenove', 'vinte')\n",
    "while True:\n",
    "    núm = int(input('Digite um número entre 0 e 20: '))\n",
    "    if 0 <= núm <= 20:\n",
    "        break\n",
    "    print('Tente novamente. ', end='')\n",
    "print(f'Você digitou o número {cont[núm]}')"
   ]
  },
  {
   "cell_type": "markdown",
   "id": "ab2edb89-0955-46e4-ab32-e78721fe1fe9",
   "metadata": {},
   "source": [
    "## Lição 46 - Tuplas com Times de Futebol"
   ]
  },
  {
   "cell_type": "code",
   "execution_count": 22,
   "id": "62bf25f9-33ef-4862-989b-6d09ab7a749d",
   "metadata": {},
   "outputs": [
    {
     "name": "stdout",
     "output_type": "stream",
     "text": [
      "-=-=-=-=-=-=-=-=-=-=-=-=-=-=-=\n",
      "Lista de times do Brasileirão: ('Corintians', 'Palmeiras', 'Santos', 'Grêmio', 'Cruzeiro', 'Flamengo', 'Vasco', 'Chapecoense', 'Atlético', 'Botafogo', 'Atlético-PR', 'Bahia', 'São Paulo', 'Fluminense', 'Sport Recife', 'EC Vitória', 'Coritiba', 'Avaí', 'Ponte Preta', 'Atlético-GO')\n",
      "-=-=-=-=-=-=-=-=-=-=-=-=-=-=-=\n",
      "Os 5 primeiros são ('Corintians', 'Palmeiras', 'Santos', 'Grêmio', 'Cruzeiro')\n",
      "-=-=-=-=-=-=-=-=-=-=-=-=-=-=-=\n",
      "Os 4 últimos são ('Coritiba', 'Avaí', 'Ponte Preta', 'Atlético-GO')\n",
      "-=-=-=-=-=-=-=-=-=-=-=-=-=-=-=\n",
      "Times em ordem alfabética: ['Atlético', 'Atlético-GO', 'Atlético-PR', 'Avaí', 'Bahia', 'Botafogo', 'Chapecoense', 'Corintians', 'Coritiba', 'Cruzeiro', 'EC Vitória', 'Flamengo', 'Fluminense', 'Grêmio', 'Palmeiras', 'Ponte Preta', 'Santos', 'Sport Recife', 'São Paulo', 'Vasco']\n",
      "-=-=-=-=-=-=-=-=-=-=-=-=-=-=-=\n",
      "O Chapecoense está na 8ª posição\n"
     ]
    }
   ],
   "source": [
    "times = ('Corintians', 'Palmeiras', 'Santos', 'Grêmio',\n",
    "         'Cruzeiro', 'Flamengo', 'Vasco', 'Chapecoense',\n",
    "         'Atlético', 'Botafogo', 'Atlético-PR', 'Bahia',\n",
    "         'São Paulo', 'Fluminense', 'Sport Recife',\n",
    "         'EC Vitória', 'Coritiba', 'Avaí', 'Ponte Preta',\n",
    "         'Atlético-GO')\n",
    "print('-=' * 15)\n",
    "print(f'Lista de times do Brasileirão: {times}')\n",
    "print('-=' * 15)\n",
    "print(f'Os 5 primeiros são {times[0:5]}')\n",
    "print('-=' * 15)\n",
    "print(f'Os 4 últimos são {times[-4:]}')\n",
    "print('-=' * 15)\n",
    "print(f'Times em ordem alfabética: {sorted(times)}')\n",
    "print('-=' * 15)\n",
    "print(f'O Chapecoense está na {times.index(\"Chapecoense\")+1}ª posição')"
   ]
  },
  {
   "cell_type": "markdown",
   "id": "1a911343-4ce2-4692-bdb1-2af43417472a",
   "metadata": {},
   "source": [
    "## Lição 47 - Maior e Menor Valores em Tupla"
   ]
  },
  {
   "cell_type": "code",
   "execution_count": 23,
   "id": "8107c3e3-884e-4fd2-9ed6-f4712b563c64",
   "metadata": {},
   "outputs": [
    {
     "name": "stdout",
     "output_type": "stream",
     "text": [
      "Os valores sorteados foram: 7 1 6 10 9 \n",
      "O maior valor sorteado foi 10\n",
      "O menor valor sorteado foi 1\n"
     ]
    }
   ],
   "source": [
    "from random import randint\n",
    "numeros = (randint(1, 10), randint(1, 10), randint(1, 10), \n",
    "    randint(1, 10), randint(1, 10))\n",
    "print('Os valores sorteados foram: ', end='')\n",
    "for n in numeros:\n",
    "    print(f'{n} ', end='')\n",
    "print(f'\\nO maior valor sorteado foi {max(numeros)}')\n",
    "print(f'O menor valor sorteado foi {min(numeros)}')"
   ]
  },
  {
   "cell_type": "markdown",
   "id": "6b664491-253d-43ec-ac81-9168f464d9db",
   "metadata": {},
   "source": [
    "## Lição 48 - Análise de Dados em uma Tupla"
   ]
  },
  {
   "cell_type": "code",
   "execution_count": 24,
   "id": "9c762014-3300-42ee-a424-98674507e498",
   "metadata": {},
   "outputs": [
    {
     "name": "stdin",
     "output_type": "stream",
     "text": [
      "Digite um número:  4\n",
      "Digite outro número:  8\n",
      "Digite mais um número:  2\n",
      "Digite o último número:  6\n"
     ]
    },
    {
     "name": "stdout",
     "output_type": "stream",
     "text": [
      "Você digitou os valores (4, 8, 2, 6)\n",
      "O valor 9 apareceu 0 vezes\n",
      "O valor 3 não foi digitado em nenhuma posição\n",
      "Os valores pares digitados foram 4 8 2 6 "
     ]
    }
   ],
   "source": [
    "núm = (int(input('Digite um número: ')),\n",
    "       int(input('Digite outro número: ')),\n",
    "       int(input('Digite mais um número: ')),\n",
    "       int(input('Digite o último número: ')))\n",
    "print(f'Você digitou os valores {núm}')\n",
    "print(f'O valor 9 apareceu {núm.count(9)} vezes')\n",
    "if 3 in núm:\n",
    "    print(f'O valor 3 apareceu na {núm.index(3)+1}ª posição')\n",
    "else:\n",
    "    print('O valor 3 não foi digitado em nenhuma posição')\n",
    "print('Os valores pares digitados foram ', end='')\n",
    "for n in núm:\n",
    "    if n % 2 == 0:\n",
    "        print(n, end=' ')"
   ]
  },
  {
   "cell_type": "markdown",
   "id": "5e042ea8-bab0-4da6-b390-64bb11fcddda",
   "metadata": {},
   "source": [
    "## Lição 49 - Lista de Preços com Tupla"
   ]
  },
  {
   "cell_type": "code",
   "execution_count": 25,
   "id": "ce5173dd-b0c4-473f-86b6-3faacbad000c",
   "metadata": {},
   "outputs": [
    {
     "name": "stdout",
     "output_type": "stream",
     "text": [
      "----------------------------------------\n",
      "           LISTAGEM DE PREÇOS           \n",
      "----------------------------------------\n",
      "Lápis.........................R$   1.75\n",
      "Borracha......................R$   2.00\n",
      "Caderno.......................R$  15.90\n",
      "Estojo........................R$  25.00\n",
      "Transferidor..................R$   4.20\n",
      "Compasso......................R$   9.99\n",
      "Mochila.......................R$ 120.32\n",
      "Canetas.......................R$  22.30\n",
      "Livro.........................R$  34.90\n",
      "----------------------------------------\n"
     ]
    }
   ],
   "source": [
    "listagem = ('Lápis', 1.75,\n",
    "            'Borracha', 2,\n",
    "            'Caderno', 15.90,\n",
    "            'Estojo', 25,\n",
    "            'Transferidor', 4.20,\n",
    "            'Compasso', 9.99,\n",
    "            'Mochila', 120.32,\n",
    "            'Canetas', 22.30,\n",
    "            'Livro', 34.90)\n",
    "print('-' * 40)\n",
    "print(f'{\"LISTAGEM DE PREÇOS\":^40}')\n",
    "print('-' * 40)\n",
    "for pos in range(0, len(listagem)):\n",
    "    if pos % 2 == 0:\n",
    "        print(f'{listagem[pos]:.<30}', end='')\n",
    "    else:\n",
    "        print(f'R${listagem[pos]:>7.2f}')\n",
    "print('-' * 40)"
   ]
  },
  {
   "cell_type": "markdown",
   "id": "3eb40205-445e-4c1c-ba28-673cf9f38663",
   "metadata": {},
   "source": [
    "## Lição 50 - Contando Vogais em Tupla"
   ]
  },
  {
   "cell_type": "code",
   "execution_count": 26,
   "id": "bf366f6c-9ea8-45f6-b121-c8ad959ef5c1",
   "metadata": {},
   "outputs": [
    {
     "name": "stdout",
     "output_type": "stream",
     "text": [
      "\n",
      "Na palavra APRENDER temos a e e \n",
      "Na palavra PROGRAMAR temos o a a \n",
      "Na palavra LINGUAGEM temos i u a e \n",
      "Na palavra PYTHON temos o \n",
      "Na palavra CURSO temos u o \n",
      "Na palavra GRÁTIS temos i \n",
      "Na palavra ESTUDAR temos e u a \n",
      "Na palavra PRATICAR temos a i a \n",
      "Na palavra TRABALHAR temos a a a \n",
      "Na palavra MERCADO temos e a o \n",
      "Na palavra PROGRAMADOR temos o a a o \n",
      "Na palavra FUTURO temos u u o "
     ]
    }
   ],
   "source": [
    "palavras = ('aprender', 'programar', 'linguagem', 'python',\n",
    "            'curso', 'grátis', 'estudar', 'praticar',\n",
    "            'trabalhar', 'mercado', 'programador', 'futuro')\n",
    "for p in palavras:\n",
    "    print(f'\\nNa palavra {p.upper()} temos ', end='')\n",
    "    for letra in p:\n",
    "        if letra.lower() in 'aeiou':\n",
    "            print(letra, end=' ')"
   ]
  },
  {
   "cell_type": "markdown",
   "id": "d714cd0e-a2e9-44a2-a58a-0e02f72c4203",
   "metadata": {},
   "source": [
    "## Lição 51 - Listas (Parte 1)"
   ]
  },
  {
   "cell_type": "code",
   "execution_count": 27,
   "id": "ef4540c1-0422-4d7e-8f8b-6a4109c24314",
   "metadata": {},
   "outputs": [
    {
     "name": "stdout",
     "output_type": "stream",
     "text": [
      "Lista A: [2, 3, 4, 7]\n",
      "Lista B: [2, 3, 8, 7]\n"
     ]
    }
   ],
   "source": [
    "a = [2, 3, 4, 7]\n",
    "b = a[:]\n",
    "b[2] = 8\n",
    "print(f'Lista A: {a}')\n",
    "print(f'Lista B: {b}')"
   ]
  },
  {
   "cell_type": "markdown",
   "id": "3fcbb718-f2f5-4aee-b8f7-9d9bfc64a658",
   "metadata": {},
   "source": [
    "Esse é apenas um exemplo de lista"
   ]
  },
  {
   "cell_type": "markdown",
   "id": "9120ce34-4177-47c4-8213-bbfc97717b7c",
   "metadata": {},
   "source": [
    "## Lição 52 - Maior e Menor Valores da Lista"
   ]
  },
  {
   "cell_type": "code",
   "execution_count": 28,
   "id": "066d5c75-1924-42e5-94e8-c287bb3d4cb0",
   "metadata": {},
   "outputs": [
    {
     "name": "stdin",
     "output_type": "stream",
     "text": [
      "Digite um valor para a Posição 0:  4\n",
      "Digite um valor para a Posição 1:  8\n",
      "Digite um valor para a Posição 2:  6\n",
      "Digite um valor para a Posição 3:  5\n",
      "Digite um valor para a Posição 4:  3\n"
     ]
    },
    {
     "name": "stdout",
     "output_type": "stream",
     "text": [
      "=-=-=-=-=-=-=-=-=-=-=-=-=-=-=-=-=-=-=-=-=-=-=-=-=-=-=-=-=-=-\n",
      "Você digitou os valores [4, 8, 6, 5, 3]\n",
      "O maior número digitado foi 8 nas posições 1... \n",
      "O menor número digitado foi 3 nas posições 4... \n"
     ]
    }
   ],
   "source": [
    "listanum = []\n",
    "mai = 0\n",
    "men = 0\n",
    "for c in range(0, 5):\n",
    "    listanum.append(int(input(f'Digite um valor para a Posição {c}: ')))\n",
    "    if c == 0:\n",
    "        mai = men = listanum[c]\n",
    "    else:\n",
    "        if listanum[c] > mai:\n",
    "            mai = listanum[c]\n",
    "        if listanum[c] < men:\n",
    "            men = listanum[c]\n",
    "print('=-' * 30)\n",
    "print(f'Você digitou os valores {listanum}')\n",
    "print(f'O maior número digitado foi {mai} nas posições ', end='')\n",
    "for i, v in enumerate(listanum):\n",
    "    if v == mai:\n",
    "        print(f'{i}... ', end='')\n",
    "print()\n",
    "print(f'O menor número digitado foi {men} nas posições ', end='')\n",
    "for i, v in enumerate(listanum):\n",
    "    if v == men:\n",
    "        print(f'{i}... ', end='')\n",
    "print()"
   ]
  },
  {
   "cell_type": "markdown",
   "id": "6584358a-38e4-4a47-8020-611629a42e05",
   "metadata": {},
   "source": [
    "## Lição 53 - Valores Únicos em uma Lista"
   ]
  },
  {
   "cell_type": "code",
   "execution_count": 29,
   "id": "d647b1a1-2f7e-4a61-9fc7-b7764f0f4c9d",
   "metadata": {},
   "outputs": [
    {
     "name": "stdin",
     "output_type": "stream",
     "text": [
      "Digite um valor:  8\n"
     ]
    },
    {
     "name": "stdout",
     "output_type": "stream",
     "text": [
      "Valor adicionado com sucesso...\n"
     ]
    },
    {
     "name": "stdin",
     "output_type": "stream",
     "text": [
      "Quer continuar? [S/N]  S\n",
      "Digite um valor:  6\n"
     ]
    },
    {
     "name": "stdout",
     "output_type": "stream",
     "text": [
      "Valor adicionado com sucesso...\n"
     ]
    },
    {
     "name": "stdin",
     "output_type": "stream",
     "text": [
      "Quer continuar? [S/N]  S\n",
      "Digite um valor:  6\n"
     ]
    },
    {
     "name": "stdout",
     "output_type": "stream",
     "text": [
      "Valor duplicado! não vou adicionar...\n"
     ]
    },
    {
     "name": "stdin",
     "output_type": "stream",
     "text": [
      "Quer continuar? [S/N]  S\n",
      "Digite um valor:  7\n"
     ]
    },
    {
     "name": "stdout",
     "output_type": "stream",
     "text": [
      "Valor adicionado com sucesso...\n"
     ]
    },
    {
     "name": "stdin",
     "output_type": "stream",
     "text": [
      "Quer continuar? [S/N]  N\n"
     ]
    },
    {
     "name": "stdout",
     "output_type": "stream",
     "text": [
      "-=-=-=-=-=-=-=-=-=-=-=-=-=-=-=-=-=-=-=-=-=-=-=-=-=-=-=-=-=-=\n",
      "Você digitou os valores [6, 7, 8]\n"
     ]
    }
   ],
   "source": [
    "números = list()\n",
    "while True:\n",
    "    n = int(input('Digite um valor: '))\n",
    "    if n not in números:\n",
    "        números.append(n)\n",
    "        print('Valor adicionado com sucesso...')\n",
    "    else:\n",
    "        print('Valor duplicado! não vou adicionar...')\n",
    "    r = str(input('Quer continuar? [S/N] '))\n",
    "    if r in 'Nn':\n",
    "        break\n",
    "print('-=' * 30)\n",
    "números.sort()\n",
    "print(f'Você digitou os valores {números}')"
   ]
  },
  {
   "cell_type": "markdown",
   "id": "2de5ff36-5525-43ae-b5eb-40f4a3e9248d",
   "metadata": {},
   "source": [
    "## Lição 54 - Lista Ordenada sem Repetições"
   ]
  },
  {
   "cell_type": "code",
   "execution_count": 30,
   "id": "9a101595-472a-4a14-894b-fa0ff95c7479",
   "metadata": {},
   "outputs": [
    {
     "name": "stdin",
     "output_type": "stream",
     "text": [
      "Digite um valor:  2\n"
     ]
    },
    {
     "name": "stdout",
     "output_type": "stream",
     "text": [
      "Adicionando ao final da lista...\n"
     ]
    },
    {
     "name": "stdin",
     "output_type": "stream",
     "text": [
      "Digite um valor:  8\n"
     ]
    },
    {
     "name": "stdout",
     "output_type": "stream",
     "text": [
      "Adicionando ao final da lista...\n"
     ]
    },
    {
     "name": "stdin",
     "output_type": "stream",
     "text": [
      "Digite um valor:  9\n"
     ]
    },
    {
     "name": "stdout",
     "output_type": "stream",
     "text": [
      "Adicionando ao final da lista...\n"
     ]
    },
    {
     "name": "stdin",
     "output_type": "stream",
     "text": [
      "Digite um valor:  2\n"
     ]
    },
    {
     "name": "stdout",
     "output_type": "stream",
     "text": [
      "Adicionando na posição 0 da lista...\n"
     ]
    },
    {
     "name": "stdin",
     "output_type": "stream",
     "text": [
      "Digite um valor:  2\n"
     ]
    },
    {
     "name": "stdout",
     "output_type": "stream",
     "text": [
      "Adicionando na posição 0 da lista...\n",
      "-=-=-=-=-=-=-=-=-=-=-=-=-=-=-=-=-=-=-=-=-=-=-=-=-=-=-=-=-=-=\n",
      "Os valores digitados em ordem foram [2, 2, 2, 8, 9]\n"
     ]
    }
   ],
   "source": [
    "lista = []\n",
    "for c in range(0, 5):\n",
    "    n = int(input('Digite um valor: '))\n",
    "    if c == 0 or n > lista[-1]:\n",
    "        lista.append(n)\n",
    "        print('Adicionando ao final da lista...')\n",
    "    else:\n",
    "        pos = 0\n",
    "        while pos < len(lista):\n",
    "            if n <= lista[pos]:\n",
    "                lista.insert(pos, n)\n",
    "                print(f'Adicionando na posição {pos} da lista...')\n",
    "                break\n",
    "        pos += 1\n",
    "print('-=' * 30)\n",
    "print(f'Os valores digitados em ordem foram {lista}')"
   ]
  },
  {
   "cell_type": "markdown",
   "id": "5e84b00c-7343-4439-ae11-67e9e25796fe",
   "metadata": {},
   "source": [
    "## Lição 55 - Extraindo Dados de uma Lista"
   ]
  },
  {
   "cell_type": "code",
   "execution_count": 31,
   "id": "4e26177a-010a-4795-900a-1fbe3355f576",
   "metadata": {},
   "outputs": [
    {
     "name": "stdin",
     "output_type": "stream",
     "text": [
      "Digite um valor:  5\n",
      "Quer continuar? [S/N]  S\n",
      "Digite um valor:  3\n",
      "Quer continuar? [S/N]  S\n",
      "Digite um valor:  7\n",
      "Quer continuar? [S/N]  S\n",
      "Digite um valor:  9\n",
      "Quer continuar? [S/N]  N\n"
     ]
    },
    {
     "name": "stdout",
     "output_type": "stream",
     "text": [
      "-=-=-=-=-=-=-=-=-=-=-=-=-=-=-=-=-=-=-=-=-=-=-=-=-=-=-=-=-=-=\n",
      "Você digitou 4 elementos.\n",
      "Os valores em ordem decrescente são [9, 7, 5, 3]\n",
      "O valor 5 faz parte da lista!\n"
     ]
    }
   ],
   "source": [
    "valores = []\n",
    "while True:\n",
    "    valores.append(int(input('Digite um valor: ')))\n",
    "    resp = str(input('Quer continuar? [S/N] '))\n",
    "    if resp in 'Nn':\n",
    "        break\n",
    "print('-=' * 30)\n",
    "print(f'Você digitou {len(valores)} elementos.')\n",
    "valores.sort(reverse=True)\n",
    "print(f'Os valores em ordem decrescente são {valores}')\n",
    "if 5 in valores:\n",
    "    print('O valor 5 faz parte da lista!')\n",
    "else:\n",
    "    print('O valor 5 não foi encontrado na lista!')"
   ]
  },
  {
   "cell_type": "markdown",
   "id": "78e685c3-5a41-4e12-816d-1e3ce2b31b71",
   "metadata": {},
   "source": [
    "## Lição 56 - Dividindo Valor em Várias Listas"
   ]
  },
  {
   "cell_type": "code",
   "execution_count": 32,
   "id": "9c50a02f-2dbd-4a6c-9bf2-e1236a3db8a8",
   "metadata": {},
   "outputs": [
    {
     "name": "stdin",
     "output_type": "stream",
     "text": [
      "Digite um número:  4\n",
      "Quer continuar? [S/N]  S\n",
      "Digite um número:  5\n",
      "Quer continuar? [S/N]  N\n"
     ]
    },
    {
     "name": "stdout",
     "output_type": "stream",
     "text": [
      "-=-=-=-=-=-=-=-=-=-=-=-=-=-=-=-=-=-=-=-=-=-=-=-=-=-=-=-=-=-=\n",
      "A lista completa é [4, 5]\n",
      "A lista de pares é [4]\n",
      "A lista de ímpares é [5]\n"
     ]
    }
   ],
   "source": [
    "num = list()\n",
    "pares = list()\n",
    "ímpares = list()\n",
    "while True:\n",
    "    num.append(int(input('Digite um número: ')))\n",
    "    resp = str(input('Quer continuar? [S/N] '))\n",
    "    if resp in 'Nn':\n",
    "        break\n",
    "for i, v in enumerate(num):\n",
    "    if v % 2 == 0:\n",
    "        pares.append(v)\n",
    "    elif v % 2 == 1:\n",
    "        ímpares.append(v)\n",
    "print('-=' * 30)\n",
    "print(f'A lista completa é {num}')\n",
    "print(f'A lista de pares é {pares}')\n",
    "print(f'A lista de ímpares é {ímpares}')"
   ]
  },
  {
   "cell_type": "markdown",
   "id": "5fa19b76-6f20-441a-916e-a977d477ffa1",
   "metadata": {},
   "source": [
    "## Lição 57 - Validando Expressões Matemáticas"
   ]
  },
  {
   "cell_type": "code",
   "execution_count": 33,
   "id": "04793aa2-50ae-466d-b632-6eef1a0aa196",
   "metadata": {},
   "outputs": [
    {
     "name": "stdin",
     "output_type": "stream",
     "text": [
      "Digite a expressão:  A+B\n"
     ]
    },
    {
     "name": "stdout",
     "output_type": "stream",
     "text": [
      "Sua expressão está valida!\n"
     ]
    }
   ],
   "source": [
    "expr = str(input('Digite a expressão: '))\n",
    "pilha = []\n",
    "for simb in expr:\n",
    "    if simb == '(':\n",
    "        pilha.append('(')\n",
    "    elif simb == ')':\n",
    "        if len(pilha) > 0:\n",
    "            pilha.pop()\n",
    "        else:\n",
    "            pilha.append(')')\n",
    "            break\n",
    "if len(pilha) == 0:\n",
    "    print('Sua expressão está valida!')\n",
    "else:\n",
    "    print('Sua expressão está errada!')"
   ]
  },
  {
   "cell_type": "markdown",
   "id": "dd430f6a-22c3-4588-9d2d-269f414851dc",
   "metadata": {},
   "source": [
    "## Lição 58 - Listas (Parte 2)"
   ]
  },
  {
   "cell_type": "code",
   "execution_count": 34,
   "id": "16ad2a49-3b7b-4177-a9a3-427725b79eec",
   "metadata": {},
   "outputs": [
    {
     "name": "stdin",
     "output_type": "stream",
     "text": [
      "Nome:  Geovana\n",
      "Idade:  21\n",
      "Nome:  Nicolly\n",
      "Idade:  16\n",
      "Nome:  Kelly\n",
      "Idade:  30\n"
     ]
    },
    {
     "name": "stdout",
     "output_type": "stream",
     "text": [
      "Geovana é maior de idade.\n",
      "Nicolly é menor de idade.\n",
      "Kelly é maior de idade.\n",
      "Temos 2 maiores e 1 menores de idade.\n"
     ]
    }
   ],
   "source": [
    "galera = list()\n",
    "dado = list()\n",
    "totmai = totmen = 0\n",
    "for c in range(0, 3):\n",
    "    dado.append(str(input('Nome: ')))\n",
    "    dado.append(int(input('Idade: ')))\n",
    "    galera.append(dado[:])\n",
    "    dado.clear()\n",
    "\n",
    "for p in galera:\n",
    "    if p[1] >= 21:\n",
    "        print(f'{p[0]} é maior de idade.')\n",
    "        totmai += 1\n",
    "    else:\n",
    "        print(f'{p[0]} é menor de idade.')\n",
    "        totmen += 1\n",
    "\n",
    "print(f'Temos {totmai} maiores e {totmen} menores de idade.')"
   ]
  },
  {
   "cell_type": "markdown",
   "id": "7d31d5c5-e7f9-4202-b377-9d769abe26b2",
   "metadata": {},
   "source": [
    "Esse é mais um dos exemplos de listas"
   ]
  },
  {
   "cell_type": "markdown",
   "id": "095c7889-a1ee-4c72-8f00-8e3644542c50",
   "metadata": {},
   "source": [
    "## Lição 59 - Lista Composta e Análise de Dados"
   ]
  },
  {
   "cell_type": "code",
   "execution_count": 36,
   "id": "c3e99643-ae9a-4571-9ff1-e8647e3b8b25",
   "metadata": {},
   "outputs": [
    {
     "name": "stdin",
     "output_type": "stream",
     "text": [
      "Nome:  Curiosildo\n",
      "Peso:  70\n",
      "Quer continuar? [S/N]  S\n",
      "Nome:  Gustavo\n",
      "Peso:  100\n",
      "Quer continuar? [S/N]  S\n",
      "Nome:  Antônio\n",
      "Peso:  85\n",
      "Quer continuar? [S/N]  N\n"
     ]
    },
    {
     "name": "stdout",
     "output_type": "stream",
     "text": [
      "-=-=-=-=-=-=-=-=-=-=-=-=-=-=-=-=-=-=-=-=-=-=-=-=-=-=-=-=-=-=\n",
      "Ao todo, você cadastrou 3 pessoas. \n",
      "O maior peso foi de 100.0Kg. Peso de [Gustavo] \n",
      "O menor peso foi de 70.0Kg. Peso de [Curiosildo] \n"
     ]
    }
   ],
   "source": [
    "temp = []\n",
    "princ = []\n",
    "mai = men = 0\n",
    "while True:\n",
    "    temp.append(str(input('Nome: ')))\n",
    "    temp.append(float(input('Peso: ')))\n",
    "    if len(princ) == 0:\n",
    "        mai = men = temp[1]\n",
    "    else:\n",
    "        if temp[1] > mai:\n",
    "            mai = temp[1]\n",
    "        if temp[1] < men:\n",
    "            men = temp[1]\n",
    "    princ.append(temp[:])\n",
    "    temp.clear()\n",
    "    resp = str(input('Quer continuar? [S/N] '))\n",
    "    if resp in 'Nn':\n",
    "        break\n",
    "print('-=' * 30)\n",
    "print(f'Ao todo, você cadastrou {len(princ)} pessoas. ')\n",
    "print(f'O maior peso foi de {mai}Kg. Peso de ', end='')\n",
    "for p in princ:\n",
    "    if p[1] == mai:\n",
    "        print(f'[{p[0]}] ', end='')\n",
    "print()\n",
    "print(f'O menor peso foi de {men}Kg. Peso de ', end='')\n",
    "for p in princ:\n",
    "    if p[1] == men:\n",
    "        print(f'[{p[0]}] ', end='')\n",
    "print()"
   ]
  },
  {
   "cell_type": "markdown",
   "id": "127ad563-ce65-424a-99ad-98d5f551b3b7",
   "metadata": {},
   "source": [
    "## Lição 60 - Listas com Pares e ímpares"
   ]
  },
  {
   "cell_type": "code",
   "execution_count": 37,
   "id": "6a27ec03-648f-4610-8e3a-46831cc043bd",
   "metadata": {},
   "outputs": [
    {
     "name": "stdin",
     "output_type": "stream",
     "text": [
      "Digite o 1o. valor:  4\n",
      "Digite o 2o. valor:  5\n",
      "Digite o 3o. valor:  7\n",
      "Digite o 4o. valor:  8\n",
      "Digite o 5o. valor:  2\n",
      "Digite o 6o. valor:  1\n",
      "Digite o 7o. valor:  6\n"
     ]
    },
    {
     "name": "stdout",
     "output_type": "stream",
     "text": [
      "-=-=-=-=-=-=-=-=-=-=-=-=-=-=-=-=-=-=-=-=-=-=-=-=-=-=-=-=-=-=\n",
      "Os valores pares digitados foram: [2, 4, 6, 8]\n",
      "Os valores ímpares digitados foram: [1, 5, 7]\n"
     ]
    }
   ],
   "source": [
    "núm = [[], []]\n",
    "valor = 0\n",
    "for c in range(1, 8):\n",
    "    valor = int(input(f'Digite o {c}o. valor: '))\n",
    "    if valor % 2 == 0:\n",
    "        núm[0].append(valor)\n",
    "    else:\n",
    "        núm[1].append(valor)\n",
    "print('-=' * 30)\n",
    "núm[0].sort()\n",
    "núm[1].sort()\n",
    "print(f'Os valores pares digitados foram: {núm[0]}')\n",
    "print(f'Os valores ímpares digitados foram: {núm[1]}')"
   ]
  },
  {
   "cell_type": "markdown",
   "id": "8518f9a8-86fd-4fbb-b01e-ec363e985b1c",
   "metadata": {},
   "source": [
    "## Lição 61 - Matriz em Python"
   ]
  },
  {
   "cell_type": "code",
   "execution_count": 38,
   "id": "9a529b7e-8f3e-4600-b095-9b11cbbcfbd1",
   "metadata": {},
   "outputs": [
    {
     "name": "stdin",
     "output_type": "stream",
     "text": [
      "Digite um valor para [0, 0]:  7\n",
      "Digite um valor para [0, 1]:  5\n",
      "Digite um valor para [0, 2]:  6\n",
      "Digite um valor para [1, 0]:  1\n",
      "Digite um valor para [1, 1]:  4\n",
      "Digite um valor para [1, 2]:  8\n",
      "Digite um valor para [2, 0]:  9\n",
      "Digite um valor para [2, 1]:  2\n",
      "Digite um valor para [2, 2]:  6\n"
     ]
    },
    {
     "name": "stdout",
     "output_type": "stream",
     "text": [
      "-=-=-=-=-=-=-=-=-=-=-=-=-=-=-=-=-=-=-=-=-=-=-=-=-=-=-=-=-=-=\n",
      "[  7  ][  5  ][  6  ]\n",
      "[  1  ][  4  ][  8  ]\n",
      "[  9  ][  2  ][  6  ]\n"
     ]
    }
   ],
   "source": [
    "matriz = [[0, 0, 0], [0, 0, 0], [0, 0, 0]]\n",
    "for l in range(0, 3):\n",
    "    for c in range(0, 3):\n",
    "        matriz[l][c] = int(input(f'Digite um valor para [{l}, {c}]: '))\n",
    "print('-=' * 30)\n",
    "for l in range(0, 3):\n",
    "    for c in range(0, 3):\n",
    "        print(f'[{matriz[l][c]:^5}]', end='')\n",
    "    print()"
   ]
  },
  {
   "cell_type": "markdown",
   "id": "64f1ec93-bf2a-4cb0-a833-4539ba67366f",
   "metadata": {},
   "source": [
    "## Lição 62 - Mais Sobre Matriz em Python"
   ]
  },
  {
   "cell_type": "code",
   "execution_count": 39,
   "id": "64239b64-fab2-40c6-b582-044493d71ff2",
   "metadata": {},
   "outputs": [
    {
     "name": "stdin",
     "output_type": "stream",
     "text": [
      "Digite um valor para [0, 0]:  4\n",
      "Digite um valor para [0, 1]:  5\n",
      "Digite um valor para [0, 2]:  8\n",
      "Digite um valor para [1, 0]:  1\n",
      "Digite um valor para [1, 1]:  9\n",
      "Digite um valor para [1, 2]:  3\n",
      "Digite um valor para [2, 0]:  2\n",
      "Digite um valor para [2, 1]:  7\n",
      "Digite um valor para [2, 2]:  6\n"
     ]
    },
    {
     "name": "stdout",
     "output_type": "stream",
     "text": [
      "-=-=-=-=-=-=-=-=-=-=-=-=-=-=-=-=-=-=-=-=-=-=-=-=-=-=-=-=-=-=\n",
      "[  4  ][  5  ][  8  ]\n",
      "[  1  ][  9  ][  3  ]\n",
      "[  2  ][  7  ][  6  ]\n",
      "-=-=-=-=-=-=-=-=-=-=-=-=-=-=-=-=-=-=-=-=-=-=-=-=-=-=-=-=-=-=\n",
      "A soma dos valores pares é 20\n",
      "A soma dos valores da terceira coluna é 17.\n",
      "O maior valor da segunda linha é 9.\n"
     ]
    }
   ],
   "source": [
    "matriz = [[0, 0, 0], [0, 0, 0], [0, 0, 0]]\n",
    "spar = mai = scol = 0\n",
    "for l in range(0, 3):\n",
    "    for c in range(0, 3):\n",
    "        matriz[l][c] = int(input(f'Digite um valor para [{l}, {c}]: '))\n",
    "print('-=' * 30)\n",
    "for l in range(0, 3):\n",
    "    for c in range(0, 3):\n",
    "        print(f'[{matriz[l][c]:^5}]', end='')\n",
    "        if matriz[l][c] % 2 == 0:\n",
    "            spar += matriz[l][c]\n",
    "    print()\n",
    "print('-=' * 30)\n",
    "print(f'A soma dos valores pares é {spar}')\n",
    "for l in range(0, 3):\n",
    "    scol += matriz[l][2]\n",
    "print(f'A soma dos valores da terceira coluna é {scol}.')\n",
    "for c in range(0, 3):\n",
    "    if c == 0:\n",
    "        mai = matriz[1][c]\n",
    "    elif matriz[1][c] > mai:\n",
    "        mai = matriz[1][c]\n",
    "print(f'O maior valor da segunda linha é {mai}.')"
   ]
  },
  {
   "cell_type": "markdown",
   "id": "fca44004-0c4b-4e4d-94e3-0fc5b62c6b90",
   "metadata": {},
   "source": [
    "## Lição 63 - Palpites Para a Mega Sena"
   ]
  },
  {
   "cell_type": "code",
   "execution_count": 40,
   "id": "23bcca1e-72db-48eb-abb4-c1c66e58a0bc",
   "metadata": {},
   "outputs": [
    {
     "name": "stdout",
     "output_type": "stream",
     "text": [
      "------------------------------\n",
      "      JOGA NA MEGA SENA       \n",
      "------------------------------\n"
     ]
    },
    {
     "name": "stdin",
     "output_type": "stream",
     "text": [
      "Quantos jogos você quer que eu sorteie?  8\n"
     ]
    },
    {
     "name": "stdout",
     "output_type": "stream",
     "text": [
      "-=-=-=  SORTEANDO 8 JOGOS  -=-=-=\n",
      "Jogo 1: [31, 33, 42, 50, 59, 60]\n",
      "Jogo 2: [16, 17, 19, 42, 51, 53]\n",
      "Jogo 3: [6, 8, 30, 39, 43, 51]\n",
      "Jogo 4: [14, 24, 25, 29, 38, 42]\n",
      "Jogo 5: [6, 9, 25, 38, 48, 53]\n",
      "Jogo 6: [9, 14, 20, 35, 48, 49]\n",
      "Jogo 7: [29, 33, 39, 46, 49, 52]\n",
      "Jogo 8: [8, 24, 26, 31, 42, 56]\n",
      "-=-=-=-=-= < BOA SORTE! > -=-=-=-=-=\n"
     ]
    }
   ],
   "source": [
    "from random import randint\n",
    "from time import sleep\n",
    "lista = list()\n",
    "jogos = list()\n",
    "print('-' * 30)\n",
    "print('      JOGA NA MEGA SENA       ')\n",
    "print('-' * 30)\n",
    "quant = int(input('Quantos jogos você quer que eu sorteie? '))\n",
    "tot = 1\n",
    "while tot <= quant:\n",
    "    cont = 0\n",
    "    while True:\n",
    "        num = randint(1, 60)\n",
    "        if num not in lista:\n",
    "            lista.append(num)\n",
    "            cont += 1\n",
    "        if cont >= 6:\n",
    "            break\n",
    "    lista.sort()\n",
    "    jogos.append(lista[:])\n",
    "    lista.clear()\n",
    "    tot += 1\n",
    "print('-=' * 3, f' SORTEANDO {quant} JOGOS ', '-=' * 3)\n",
    "for i, l in enumerate(jogos):\n",
    "    print(f'Jogo {i+1}: {l}')\n",
    "    sleep(1)\n",
    "print('-=' * 5, '< BOA SORTE! >', '-=' * 5)"
   ]
  },
  {
   "cell_type": "markdown",
   "id": "8dbb1f15-1627-4c0b-8ba5-539b9da5dd7d",
   "metadata": {},
   "source": [
    "## Lição 64 - Boletim com Notas Compostas"
   ]
  },
  {
   "cell_type": "code",
   "execution_count": 41,
   "id": "2d17b0db-be4d-45eb-b459-55fd450bed15",
   "metadata": {},
   "outputs": [
    {
     "name": "stdin",
     "output_type": "stream",
     "text": [
      "Nome:  Ricardo\n",
      "Nota 1:  8\n",
      "Nota 2:  4\n",
      "Quer continuar? [S/N]  S\n",
      "Nome:  Jennifer\n",
      "Nota 1:  9\n",
      "Nota 2:  7\n",
      "Quer continuar? [S/N]  N\n"
     ]
    },
    {
     "name": "stdout",
     "output_type": "stream",
     "text": [
      "-=-=-=-=-=-=-=-=-=-=-=-=-=-=-=-=-=-=-=-=-=-=-=-=-=-=-=-=-=-=\n",
      "No. NOME         MÉDIA\n",
      "--------------------------\n",
      "0   Ricardo        6.0\n",
      "1   Jennifer       8.0\n",
      "-----------------------------------\n"
     ]
    },
    {
     "name": "stdin",
     "output_type": "stream",
     "text": [
      "Mostrar notas de qual aluno? (999 interrompe):  0\n"
     ]
    },
    {
     "name": "stdout",
     "output_type": "stream",
     "text": [
      "Notas de Ricardo são [8.0, 4.0]\n",
      "-----------------------------------\n"
     ]
    },
    {
     "name": "stdin",
     "output_type": "stream",
     "text": [
      "Mostrar notas de qual aluno? (999 interrompe):  999\n"
     ]
    },
    {
     "name": "stdout",
     "output_type": "stream",
     "text": [
      "FINALIZANDO...\n",
      "<<< VOLTE SEMPRE! >>>\n"
     ]
    }
   ],
   "source": [
    "ficha = list()\n",
    "while True:\n",
    "    nome = str(input('Nome: '))\n",
    "    nota1 = float(input('Nota 1: '))\n",
    "    nota2 = float(input('Nota 2: '))\n",
    "    media = (nota1 + nota2) / 2\n",
    "    ficha.append([nome, [nota1, nota2], media])\n",
    "    resp = str(input('Quer continuar? [S/N] '))\n",
    "    if resp in 'Nn':\n",
    "        break\n",
    "print('-=' * 30)\n",
    "print(f'{\"No.\":<4}{\"NOME\":<10}{\"MÉDIA\":>8}')\n",
    "print('-' * 26)\n",
    "for i, a in enumerate(ficha):\n",
    "    print(f'{i:<4}{a[0]:<10}{a[2]:>8.1f}')\n",
    "while True:\n",
    "    print('-' * 35)\n",
    "    opc = int(input('Mostrar notas de qual aluno? (999 interrompe): '))\n",
    "    if opc == 999:\n",
    "        print('FINALIZANDO...')\n",
    "        break\n",
    "    if opc <= len(ficha) - 1:\n",
    "        print(f'Notas de {ficha[opc][0]} são {ficha[opc][1]}')\n",
    "print('<<< VOLTE SEMPRE! >>>')"
   ]
  },
  {
   "cell_type": "markdown",
   "id": "468220a4-f16b-4308-b5e7-830408f41d41",
   "metadata": {},
   "source": [
    "## Lição 65 - Dicionários em Python"
   ]
  },
  {
   "cell_type": "code",
   "execution_count": 42,
   "id": "a0aafe96-b7a4-494c-8a8d-48649b171f41",
   "metadata": {},
   "outputs": [
    {
     "name": "stdin",
     "output_type": "stream",
     "text": [
      "Unidade Federativa:  AMazonas\n",
      "Sigla do Estado:  AM\n",
      "Unidade Federativa:  TOcantins\n",
      "Sigla do Estado:  TO\n",
      "Unidade Federativa:  BaHia\n",
      "Sigla do Estado:  BH\n"
     ]
    },
    {
     "name": "stdout",
     "output_type": "stream",
     "text": [
      "AMazonas AM \n",
      "TOcantins TO \n",
      "BaHia BH \n"
     ]
    }
   ],
   "source": [
    "estado = dict()\n",
    "brasil = list()\n",
    "for c in range(0, 3):\n",
    "    estado['uf'] = str(input('Unidade Federativa: '))\n",
    "    estado['sigla'] = str(input('Sigla do Estado: '))\n",
    "    brasil.append(estado.copy())\n",
    "for e in brasil:\n",
    "    for v in e.values():\n",
    "        print(v, end=' ')\n",
    "    print()"
   ]
  },
  {
   "cell_type": "markdown",
   "id": "13afe6ff-f205-4780-bcd8-c8c38fcb3170",
   "metadata": {},
   "source": [
    "## Lição 66 - Dicionário em Python"
   ]
  },
  {
   "cell_type": "code",
   "execution_count": 43,
   "id": "82335a9f-9baa-4cf3-a924-569689b0c1e5",
   "metadata": {},
   "outputs": [
    {
     "name": "stdin",
     "output_type": "stream",
     "text": [
      "Nome:  Fernanda Souza de Moraes\n",
      "Média de Fernanda Souza de Moraes:  10\n"
     ]
    },
    {
     "name": "stdout",
     "output_type": "stream",
     "text": [
      "-=-=-=-=-=-=-=-=-=-=-=-=-=-=-=-=-=-=-=-=-=-=-=-=-=-=-=-=-=-=\n",
      "  - nome é igual a Fernanda Souza de Moraes\n",
      "  - média é igual a 10.0\n",
      "  - situação é igual a Aprovado\n"
     ]
    }
   ],
   "source": [
    "aluno = dict()\n",
    "aluno['nome'] = str(input('Nome: '))\n",
    "aluno['média'] = float(input(f'Média de {aluno[\"nome\"]}: '))\n",
    "if aluno['média'] >= 7:\n",
    "    aluno['situação'] = 'Aprovado'\n",
    "elif 5 <= aluno['média'] < 7:\n",
    "    aluno['situação'] = 'Recuperação'\n",
    "else:\n",
    "    aluno['situação'] = 'Reprovado'\n",
    "print('-=' * 30)\n",
    "for k, v in aluno.items():\n",
    "    print(f'  - {k} é igual a {v}')"
   ]
  },
  {
   "cell_type": "markdown",
   "id": "706dbf9b-6d99-4b23-a996-536839673a22",
   "metadata": {},
   "source": [
    "## Lição 67 - Jogo de Dados em Python"
   ]
  },
  {
   "cell_type": "code",
   "execution_count": 44,
   "id": "608cc458-9620-4ac3-80e4-945850d2c821",
   "metadata": {},
   "outputs": [
    {
     "name": "stdout",
     "output_type": "stream",
     "text": [
      "Valores Sorteados:\n",
      "jogador1 tirou 6 no dado.\n",
      "jogador2 tirou 3 no dado.\n",
      "jogador3 tirou 3 no dado.\n",
      "jogador4 tirou 5 no dado.\n",
      "-=-=-=-=-=-=-=-=-=-=-=-=-=-=-=-=-=-=-=-=-=-=-=-=-=-=-=-=-=-=\n",
      "  == RANKING DOS JOGADORES ==\n",
      "    1º lugar: jogador1 com 6.\n",
      "    2º lugar: jogador4 com 5.\n",
      "    3º lugar: jogador2 com 3.\n",
      "    4º lugar: jogador3 com 3.\n"
     ]
    }
   ],
   "source": [
    "from random import randint\n",
    "from time import sleep\n",
    "from operator import itemgetter\n",
    "jogo = {'jogador1': randint(1, 6),\n",
    "        'jogador2': randint(1, 6),\n",
    "        'jogador3': randint(1, 6),\n",
    "        'jogador4': randint(1, 6)}\n",
    "ranking = list()\n",
    "print('Valores Sorteados:')\n",
    "for k, v in jogo.items():\n",
    "    print(f'{k} tirou {v} no dado.')\n",
    "    sleep(1)\n",
    "ranking = sorted(jogo.items(), key=itemgetter(1), reverse=True)\n",
    "print('-=' * 30)\n",
    "print('  == RANKING DOS JOGADORES ==')\n",
    "for i, v in enumerate(ranking):\n",
    "    print(f'    {i+1}º lugar: {v[0]} com {v[1]}.')\n",
    "    sleep(1)"
   ]
  },
  {
   "cell_type": "markdown",
   "id": "32bf3e40-3b28-44f3-9054-cca9dea6cd46",
   "metadata": {},
   "source": [
    "## Lição 68 - Cadastro de Trabalhador em Python"
   ]
  },
  {
   "cell_type": "code",
   "execution_count": 45,
   "id": "7fe99324-dedb-49c9-a489-0d1c050ce775",
   "metadata": {},
   "outputs": [
    {
     "name": "stdin",
     "output_type": "stream",
     "text": [
      "Nome:  José Vieira dos Santos\n",
      "Ano de nascimento:  1967\n",
      "Carteira de trabalho (0 não tem):  37\n",
      "Ano de contratação:  1985\n",
      "Salário: R$ 1000\n"
     ]
    },
    {
     "name": "stdout",
     "output_type": "stream",
     "text": [
      "-=-=-=-=-=-=-=-=-=-=-=-=-=-=-=-=-=-=-=-=-=-=-=-=-=-=-=-=-=-=\n",
      "  - nome tem o valor José Vieira dos Santos\n",
      "  - idade tem o valor 58\n",
      "  - ctps tem o valor 37\n",
      "  - contratação tem o valor 1985\n",
      "  - salário tem o valor 1000.0\n",
      "  - aposentadoria tem o valor 53\n"
     ]
    }
   ],
   "source": [
    "from datetime import datetime\n",
    "dados = dict()\n",
    "dados['nome'] = str(input('Nome: '))\n",
    "nasc = int(input('Ano de nascimento: '))\n",
    "dados['idade'] = datetime.now().year - nasc\n",
    "dados['ctps'] = int(input('Carteira de trabalho (0 não tem): '))\n",
    "if dados['ctps'] != 0:\n",
    "    dados['contratação'] = int(input('Ano de contratação: '))\n",
    "    dados['salário'] = float(input('Salário: R$'))\n",
    "    dados['aposentadoria'] = dados['idade'] + ((dados['contratação'] + 35) - datetime.now().year)\n",
    "print('-=' * 30)\n",
    "for k, v in dados.items():\n",
    "    print(f'  - {k} tem o valor {v}')"
   ]
  },
  {
   "cell_type": "markdown",
   "id": "6f1c695c-3180-48b7-805d-d9985e7ae6b8",
   "metadata": {},
   "source": [
    "## Lição 69 - Cadastro de Jogador de Futebol"
   ]
  },
  {
   "cell_type": "code",
   "execution_count": 46,
   "id": "d59b3d09-07b8-4a65-8173-ba7c670917d1",
   "metadata": {},
   "outputs": [
    {
     "name": "stdin",
     "output_type": "stream",
     "text": [
      "Nome do jogador:  Brunão\n",
      "Quantas partidas Brunão já jogou?  4\n",
      "    quantos gols na partida 0?  3\n",
      "    quantos gols na partida 1?  2\n",
      "    quantos gols na partida 2?  0\n",
      "    quantos gols na partida 3?  4\n"
     ]
    },
    {
     "name": "stdout",
     "output_type": "stream",
     "text": [
      "-=-=-=-=-=-=-=-=-=-=-=-=-=-=-=-=-=-=-=-=-=-=-=-=-=-=-=-=-=-=\n",
      "{'nome': 'Brunão', 'gols': [3, 2, 0, 4], 'total': 9}\n",
      "-=-=-=-=-=-=-=-=-=-=-=-=-=-=-=-=-=-=-=-=-=-=-=-=-=-=-=-=-=-=\n",
      "O campo nome tem o valor Brunão\n",
      "O campo gols tem o valor [3, 2, 0, 4]\n",
      "O campo total tem o valor 9\n",
      "-=-=-=-=-=-=-=-=-=-=-=-=-=-=-=-=-=-=-=-=-=-=-=-=-=-=-=-=-=-=\n",
      "O jogador Brunão jogou 4 partidas.\n",
      "    => Na partida 0, fez 3 gols.\n",
      "    => Na partida 1, fez 2 gols.\n",
      "    => Na partida 2, fez 0 gols.\n",
      "    => Na partida 3, fez 4 gols.\n",
      "Foi um total de 9 gols.\n"
     ]
    }
   ],
   "source": [
    "jogador = dict()\n",
    "partidas = list()\n",
    "jogador['nome'] = str(input('Nome do jogador: '))\n",
    "tot = int(input(f'Quantas partidas {jogador[\"nome\"]} já jogou? '))\n",
    "for c in range(0, tot):\n",
    "    partidas.append(int(input(f'    quantos gols na partida {c}? ')))\n",
    "jogador['gols'] = partidas[:]\n",
    "jogador['total'] = sum(partidas)\n",
    "print('-=' * 30)\n",
    "print(jogador)\n",
    "print('-=' * 30)\n",
    "for k, v in jogador.items():\n",
    "    print(f'O campo {k} tem o valor {v}')\n",
    "print('-=' * 30)\n",
    "print(f'O jogador {jogador[\"nome\"]} jogou {len(jogador[\"gols\"])} partidas.')\n",
    "for i, v in enumerate(jogador['gols']):\n",
    "    print(f'    => Na partida {i}, fez {v} gols.')\n",
    "print(f'Foi um total de {jogador[\"total\"]} gols.')"
   ]
  },
  {
   "cell_type": "markdown",
   "id": "4de90c4b-6c3f-410f-aac6-eb3f692232f8",
   "metadata": {},
   "source": [
    "## Lição 70 - Unindo Dicionários e Listas"
   ]
  },
  {
   "cell_type": "code",
   "execution_count": 47,
   "id": "cd82934d-1433-4d65-9ad3-4cf0f94303ea",
   "metadata": {},
   "outputs": [
    {
     "name": "stdin",
     "output_type": "stream",
     "text": [
      "Nome:  Ana\n",
      "Sexo: [M/F]  F\n",
      "Idade:  22\n",
      "Quer continuar? [S/N]  S\n",
      "Nome:  Pedro\n",
      "Sexo: [M/F]  M\n",
      "Idade:  17\n",
      "Quer continuar? [S/N]  S\n",
      "Nome:  Carolina\n",
      "Sexo: [M/F]  F\n",
      "Idade:  25\n",
      "Quer continuar? [S/N]  S\n",
      "Nome:  João\n",
      "Sexo: [M/F]  M\n",
      "Idade:  16\n",
      "Quer continuar? [S/N]  N\n"
     ]
    },
    {
     "name": "stdout",
     "output_type": "stream",
     "text": [
      "-=-=-=-=-=-=-=-=-=-=-=-=-=-=-=-=-=-=-=-=-=-=-=-=-=-=-=-=-=-=\n",
      "A) Ao todo temos 4 pessoas cadastradas.\n",
      "B) A média de idade é de 20.00 anos.\n",
      "C) As mulheres cadastradas foram Ana Carolina \n",
      "D) Lista das pessoas que estão acima da média: \n",
      "    nome = Ana; sexo = F; idade = 22; \n",
      "    nome = Carolina; sexo = F; idade = 25; \n",
      "<< ENCERRADO >>\n"
     ]
    }
   ],
   "source": [
    "galera = list()\n",
    "pessoa = dict()\n",
    "soma = média = 0\n",
    "while True:\n",
    "    pessoa.clear()\n",
    "    pessoa['nome'] = str(input('Nome: '))\n",
    "    while True:\n",
    "        pessoa['sexo'] = str(input('Sexo: [M/F] ')).upper()[0]\n",
    "        if pessoa['sexo'] in 'MF':\n",
    "            break\n",
    "        print('ERRO! Por favor, digite apenas M ou F.')\n",
    "    pessoa['idade'] = int(input('Idade: '))\n",
    "    soma += pessoa['idade']\n",
    "    galera.append(pessoa.copy())\n",
    "    while True:\n",
    "        resp = str(input('Quer continuar? [S/N] ')).upper()[0]\n",
    "        if resp in 'SN':\n",
    "            break\n",
    "        print('ERRO! Responda apenas S ou N.')\n",
    "    if resp == 'N':\n",
    "        break\n",
    "print('-=' * 30)\n",
    "print(f'A) Ao todo temos {len(galera)} pessoas cadastradas.')\n",
    "média = soma / len(galera)\n",
    "print(f'B) A média de idade é de {média:5.2f} anos.')\n",
    "print('C) As mulheres cadastradas foram ', end='')\n",
    "for p in galera:\n",
    "    if p['sexo'] in 'Ff':\n",
    "        print(f'{p[\"nome\"]} ', end='')\n",
    "print()\n",
    "print('D) Lista das pessoas que estão acima da média: ')\n",
    "for p in galera:\n",
    "    if p['idade'] >= média:\n",
    "        print('    ', end='')\n",
    "        for k, v in p.items():\n",
    "            print(f'{k} = {v}; ', end='')\n",
    "        print()\n",
    "print('<< ENCERRADO >>')"
   ]
  },
  {
   "cell_type": "markdown",
   "id": "ed7fc64d-bea4-43a2-ad3d-efa98e9ab303",
   "metadata": {},
   "source": [
    "## Lição 71 - Aprimorando os Dicionários"
   ]
  },
  {
   "cell_type": "code",
   "execution_count": 48,
   "id": "136a0efe-add9-40c5-bda3-17169cb51626",
   "metadata": {},
   "outputs": [
    {
     "name": "stdin",
     "output_type": "stream",
     "text": [
      "Nome do jogador:  Pedro\n",
      "Quantas partidas Pedro já jogou?  4\n",
      "    quantos gols na partida 0?  3\n",
      "    quantos gols na partida 1?  2\n",
      "    quantos gols na partida 2?  4\n",
      "    quantos gols na partida 3?  1\n",
      "Quer continuar [S/N]  S\n",
      "Nome do jogador:  Brunão\n",
      "Quantas partidas Brunão já jogou?  2\n",
      "    quantos gols na partida 0?  0\n",
      "    quantos gols na partida 1?  1\n",
      "Quer continuar [S/N]  N\n"
     ]
    },
    {
     "name": "stdout",
     "output_type": "stream",
     "text": [
      "-=-=-=-=-=-=-=-=-=-=-=-=-=-=-=-=-=-=-=-=-=-=-=-=-=-=-=-=-=-=\n",
      "cod nome           gols           total          \n",
      "----------------------------------------\n",
      "  0 Pedro          [3, 2, 4, 1]   10             \n",
      "  1 Brunão         [0, 1]         1              \n",
      "----------------------------------------\n"
     ]
    },
    {
     "name": "stdin",
     "output_type": "stream",
     "text": [
      "Mostrar dados de qual jogador? (999 para parar)  0\n"
     ]
    },
    {
     "name": "stdout",
     "output_type": "stream",
     "text": [
      " -- LEVANTAMENTO DO JOGADOR Pedro:\n",
      "    No jogo 1 fez 3 gols.\n",
      "    No jogo 2 fez 2 gols.\n",
      "    No jogo 3 fez 4 gols.\n",
      "    No jogo 4 fez 1 gols.\n",
      "----------------------------------------\n"
     ]
    },
    {
     "name": "stdin",
     "output_type": "stream",
     "text": [
      "Mostrar dados de qual jogador? (999 para parar)  1\n"
     ]
    },
    {
     "name": "stdout",
     "output_type": "stream",
     "text": [
      " -- LEVANTAMENTO DO JOGADOR Brunão:\n",
      "    No jogo 1 fez 0 gols.\n",
      "    No jogo 2 fez 1 gols.\n",
      "----------------------------------------\n"
     ]
    },
    {
     "name": "stdin",
     "output_type": "stream",
     "text": [
      "Mostrar dados de qual jogador? (999 para parar)  999\n"
     ]
    },
    {
     "name": "stdout",
     "output_type": "stream",
     "text": [
      "<< VOLTE SEMPRE! >>\n"
     ]
    }
   ],
   "source": [
    "time = list()\n",
    "jogador = dict()\n",
    "partidas = list()\n",
    "while True:\n",
    "    jogador.clear()\n",
    "    jogador['nome'] = str(input('Nome do jogador: '))\n",
    "    tot = int(input(f'Quantas partidas {jogador[\"nome\"]} já jogou? '))\n",
    "    partidas.clear()\n",
    "    for c in range(0, tot):\n",
    "        partidas.append(int(input(f'    quantos gols na partida {c}? ')))\n",
    "    jogador['gols'] = partidas[:]\n",
    "    jogador['total'] = sum(partidas)\n",
    "    time.append(jogador.copy())\n",
    "    while True:\n",
    "        resp = str(input('Quer continuar [S/N] ')).upper()[0]\n",
    "        if resp in 'SN':\n",
    "            break\n",
    "        print('ERRO! responda apenas S ou N.')\n",
    "    if resp == 'N':\n",
    "        break\n",
    "print('-=' * 30)\n",
    "print('cod ', end='')\n",
    "for i in jogador.keys():\n",
    "    print(f'{i:<15}', end='')\n",
    "print()\n",
    "print('-' * 40)    \n",
    "for k, v in enumerate(time):\n",
    "    print(f'{k:>3} ', end='')\n",
    "    for d in v.values():\n",
    "        print(f'{str(d):<15}', end='')\n",
    "    print()\n",
    "print('-' * 40)\n",
    "while True:\n",
    "    busca = int(input('Mostrar dados de qual jogador? (999 para parar) '))\n",
    "    if busca == 999:\n",
    "        break\n",
    "    if busca >= len(time):\n",
    "        print(f'ERRO! Não existe jogador com código {busca}!')\n",
    "    else:\n",
    "        print(f' -- LEVANTAMENTO DO JOGADOR {time[busca][\"nome\"]}:')\n",
    "        for i, g in enumerate(time[busca]['gols']):\n",
    "            print(f'    No jogo {i+1} fez {g} gols.')\n",
    "    print('-' * 40)\n",
    "print('<< VOLTE SEMPRE! >>')    "
   ]
  },
  {
   "cell_type": "markdown",
   "id": "617ba7e6-459c-46f5-bafc-a407b3909216",
   "metadata": {},
   "source": [
    "## Lição 72 - Funções (Parte 1)"
   ]
  },
  {
   "cell_type": "code",
   "execution_count": 49,
   "id": "8bff7fc5-8cb9-4aa1-95ff-438eba002c05",
   "metadata": {},
   "outputs": [
    {
     "name": "stdout",
     "output_type": "stream",
     "text": [
      "Somando os valores (5, 2) temos 7\n",
      "Somando os valores (2, 9, 4) temos 15\n"
     ]
    }
   ],
   "source": [
    "def soma(* valores):\n",
    "    s = 0\n",
    "    for num in valores:\n",
    "        s += num\n",
    "    print(f'Somando os valores {valores} temos {s}')\n",
    "\n",
    "\n",
    "soma(5, 2)\n",
    "soma(2, 9, 4)"
   ]
  },
  {
   "cell_type": "markdown",
   "id": "22494060-6b7c-4ca4-b84c-e389a717f56c",
   "metadata": {},
   "source": [
    "Esse é um exemplo de função"
   ]
  },
  {
   "cell_type": "markdown",
   "id": "42351126-6040-4dad-944b-e763c3c8c7de",
   "metadata": {},
   "source": [
    "## Lição 73 - Função que Calcula Área"
   ]
  },
  {
   "cell_type": "code",
   "execution_count": 50,
   "id": "58045667-1849-42fb-bc11-50ffd9296410",
   "metadata": {},
   "outputs": [
    {
     "name": "stdout",
     "output_type": "stream",
     "text": [
      " Controle de terrenos\n",
      "--------------------\n"
     ]
    },
    {
     "name": "stdin",
     "output_type": "stream",
     "text": [
      "LARGURA (m):  2\n",
      "COMPRIMENTO (m):  8\n"
     ]
    },
    {
     "name": "stdout",
     "output_type": "stream",
     "text": [
      "A área de um terreno 2.0x8.0 é de 16.0m².\n"
     ]
    }
   ],
   "source": [
    "def área(larg, comp):\n",
    "    a = larg * comp\n",
    "    print(f'A área de um terreno {larg}x{comp} é de {a}m².')\n",
    "\n",
    "\n",
    "# Programa Principal\n",
    "print(' Controle de terrenos')\n",
    "print('-' * 20)\n",
    "l = float(input('LARGURA (m): '))\n",
    "c = float(input('COMPRIMENTO (m): '))\n",
    "área(l, c)"
   ]
  },
  {
   "cell_type": "markdown",
   "id": "234e407d-689a-4ff2-ad34-bbc20edc99ef",
   "metadata": {},
   "source": [
    "## Lição 74 - Um Print Especial"
   ]
  },
  {
   "cell_type": "code",
   "execution_count": 51,
   "id": "04eba945-74c3-4f81-bae3-08519860afe1",
   "metadata": {},
   "outputs": [
    {
     "name": "stdout",
     "output_type": "stream",
     "text": [
      "~~~~~~~~~~~~~~~~~~~~~\n",
      "  Gustavo guanabara\n",
      "~~~~~~~~~~~~~~~~~~~~~\n",
      "~~~~~~~~~~~~~~~~~~~~~~~~~~~~~~\n",
      "  Curso de Python no YouTube\n",
      "~~~~~~~~~~~~~~~~~~~~~~~~~~~~~~\n",
      "~~~~~~~\n",
      "  CeV\n",
      "~~~~~~~\n"
     ]
    }
   ],
   "source": [
    "def escreva(msg):\n",
    "    tam = len(msg) + 4\n",
    "    print('~' * tam)\n",
    "    print(f'  {msg}')\n",
    "    print('~' * tam)\n",
    "\n",
    "\n",
    "# Programa Principal\n",
    "escreva('Gustavo guanabara')\n",
    "escreva('Curso de Python no YouTube')\n",
    "escreva('CeV')"
   ]
  },
  {
   "cell_type": "markdown",
   "id": "7a7fa27d-56d3-4235-9506-3dce0b298ce0",
   "metadata": {},
   "source": [
    "## Lição 75 - Função de Contador"
   ]
  },
  {
   "cell_type": "code",
   "execution_count": 52,
   "id": "b2677887-ddda-4029-8905-ed1a8eae886d",
   "metadata": {},
   "outputs": [
    {
     "name": "stdout",
     "output_type": "stream",
     "text": [
      "-=-=-=-=-=-=-=-=-=-=-=-=-=-=-=-=-=-=-=-=\n",
      "Contagem de 1 até 10 de 1 em 1\n",
      "1 2 3 4 5 6 7 8 9 10 FIM!\n",
      "-=-=-=-=-=-=-=-=-=-=-=-=-=-=-=-=-=-=-=-=\n",
      "Contagem de 10 até 0 de 2 em 2\n",
      "10 8 6 4 2 0 FIM!\n",
      "-=-=-=-=-=-=-=-=-=-=-=-=-=-=-=-=-=-=-=-=\n",
      "Agora é sua vez de personalizar a contagem!\n"
     ]
    },
    {
     "name": "stdin",
     "output_type": "stream",
     "text": [
      "Início:  5\n",
      "Fim:  50\n",
      "Passo:  5\n"
     ]
    },
    {
     "name": "stdout",
     "output_type": "stream",
     "text": [
      "-=-=-=-=-=-=-=-=-=-=-=-=-=-=-=-=-=-=-=-=\n",
      "Contagem de 5 até 50 de 5 em 5\n",
      "5 10 15 20 25 30 35 40 45 50 FIM!\n"
     ]
    }
   ],
   "source": [
    "from time import sleep\n",
    "\n",
    "\n",
    "def contador(i, f, p):\n",
    "    if p < 0:\n",
    "        p *= -1\n",
    "    if p == 0:\n",
    "        p = 1\n",
    "    print('-=' * 20)\n",
    "    print(f'Contagem de {i} até {f} de {p} em {p}')\n",
    "    sleep(2.5)\n",
    "\n",
    "    if i < f:\n",
    "        cont = i\n",
    "        while cont <= f:\n",
    "            print(f'{cont} ', end='', flush=True)\n",
    "            sleep(0.5)\n",
    "            cont += p\n",
    "        print('FIM!')\n",
    "    else:\n",
    "        cont = i\n",
    "        while cont >= f:\n",
    "            print(f'{cont} ', end='', flush=True)\n",
    "            sleep(0.5)\n",
    "            cont -= p\n",
    "        print('FIM!')\n",
    "\n",
    "                \n",
    "#Programa Principal\n",
    "contador(1, 10, 1)\n",
    "contador(10, 0, 2)\n",
    "print('-=' * 20)\n",
    "print('Agora é sua vez de personalizar a contagem!')\n",
    "ini = int(input('Início: '))\n",
    "fim = int(input('Fim: '))\n",
    "pas = int(input('Passo: '))\n",
    "contador(ini, fim, pas)"
   ]
  },
  {
   "cell_type": "markdown",
   "id": "401b1400-cc8c-4880-bbdc-bd15c9159aa9",
   "metadata": {},
   "source": [
    "## Lição 76 - Função que Descobre o Maior"
   ]
  },
  {
   "cell_type": "code",
   "execution_count": 53,
   "id": "291f90ec-8383-4673-bec4-d34b0175ca2b",
   "metadata": {},
   "outputs": [
    {
     "name": "stdout",
     "output_type": "stream",
     "text": [
      "-=-=-=-=-=-=-=-=-=-=-=-=-=-=-=-=-=-=-=-=-=-=-=-=-=-=-=-=-=-=\n",
      "Analisando os valores passados... \n",
      "2 9 4 5 7 1 Foram informados 6 valores ao lado.\n",
      "O maior valor informado foi 9.\n",
      "-=-=-=-=-=-=-=-=-=-=-=-=-=-=-=-=-=-=-=-=-=-=-=-=-=-=-=-=-=-=\n",
      "Analisando os valores passados... \n",
      "4 7 0 Foram informados 3 valores ao lado.\n",
      "O maior valor informado foi 7.\n",
      "-=-=-=-=-=-=-=-=-=-=-=-=-=-=-=-=-=-=-=-=-=-=-=-=-=-=-=-=-=-=\n",
      "Analisando os valores passados... \n",
      "1 2 Foram informados 2 valores ao lado.\n",
      "O maior valor informado foi 2.\n",
      "-=-=-=-=-=-=-=-=-=-=-=-=-=-=-=-=-=-=-=-=-=-=-=-=-=-=-=-=-=-=\n",
      "Analisando os valores passados... \n",
      "6 Foram informados 1 valores ao lado.\n",
      "O maior valor informado foi 6.\n",
      "-=-=-=-=-=-=-=-=-=-=-=-=-=-=-=-=-=-=-=-=-=-=-=-=-=-=-=-=-=-=\n",
      "Analisando os valores passados... \n",
      "Foram informados 0 valores ao lado.\n",
      "O maior valor informado foi 0.\n"
     ]
    }
   ],
   "source": [
    "from time import sleep\n",
    "\n",
    "\n",
    "def maior(* núm):\n",
    "    cont = maior = 0\n",
    "    print('-=' * 30)\n",
    "    print('Analisando os valores passados... ')\n",
    "    for valor in núm:\n",
    "        print(f'{valor} ', end='', flush=True)\n",
    "        sleep(0.3)\n",
    "        if cont == 0:\n",
    "            maior = valor\n",
    "        else:\n",
    "            if valor > maior:\n",
    "                maior = valor\n",
    "        cont += 1\n",
    "    print(f'Foram informados {cont} valores ao lado.')\n",
    "    print(f'O maior valor informado foi {maior}.')\n",
    "\n",
    "\n",
    "# Programa Principal\n",
    "maior(2, 9, 4, 5, 7, 1)\n",
    "maior(4, 7, 0)\n",
    "maior(1, 2)\n",
    "maior(6)\n",
    "maior()"
   ]
  },
  {
   "cell_type": "markdown",
   "id": "1b49e198-9ce9-4608-8256-ccba97328409",
   "metadata": {},
   "source": [
    "## Lição 77 - Funções Para Sortear o Maior"
   ]
  },
  {
   "cell_type": "code",
   "execution_count": 54,
   "id": "391591ed-eb6a-430e-b14e-cdca5bf51fc3",
   "metadata": {},
   "outputs": [
    {
     "name": "stdout",
     "output_type": "stream",
     "text": [
      "Sorteando 5 valores da lista: 10 2 7 5 2 PRONTO!\n",
      "Somando os valores pares de [10, 2, 7, 5, 2], temos 14.\n"
     ]
    }
   ],
   "source": [
    "from random import randint\n",
    "from time import sleep\n",
    "\n",
    "\n",
    "def sorteia(lista):\n",
    "    print('Sorteando 5 valores da lista: ', end='')\n",
    "    for cont in range(0, 5):\n",
    "        n = randint(1, 10)\n",
    "        lista.append(n)\n",
    "        print(f'{n} ', end='', flush=True)\n",
    "        sleep(0.3)\n",
    "    print('PRONTO!')\n",
    "\n",
    "\n",
    "def somaPar(lista):\n",
    "    soma = 0\n",
    "    for valor in lista:\n",
    "        if valor % 2 == 0:\n",
    "            soma += valor\n",
    "    print(f'Somando os valores pares de {lista}, temos {soma}.')\n",
    "\n",
    "\n",
    "números = list()\n",
    "sorteia(números)\n",
    "somaPar(números)"
   ]
  },
  {
   "cell_type": "markdown",
   "id": "ddb5c8be-0b83-4f8b-a491-64ac5bedb6a7",
   "metadata": {},
   "source": [
    "## Lição 78 - Funções (Parte 2)"
   ]
  },
  {
   "cell_type": "code",
   "execution_count": 55,
   "id": "2a130076-84d8-4983-a26e-e3bc39e01401",
   "metadata": {},
   "outputs": [
    {
     "name": "stdin",
     "output_type": "stream",
     "text": [
      "Digite um número:  2\n"
     ]
    },
    {
     "name": "stdout",
     "output_type": "stream",
     "text": [
      "É par!\n"
     ]
    }
   ],
   "source": [
    "def par(n=0):\n",
    "    if n % 2 == 0:\n",
    "        return True\n",
    "    else:\n",
    "        return False\n",
    "\n",
    "\n",
    "num = int(input('Digite um número: '))\n",
    "if par(num):\n",
    "    print('É par!')\n",
    "else:\n",
    "    print('Não é par!')"
   ]
  },
  {
   "cell_type": "markdown",
   "id": "dffa9381-5152-4714-b7c8-cbe4564fb7a7",
   "metadata": {},
   "source": [
    "## Lição 79 - Cores no Terminal"
   ]
  },
  {
   "cell_type": "code",
   "execution_count": 56,
   "id": "066a4df6-9cb5-4b0d-82b0-841ae47dc002",
   "metadata": {},
   "outputs": [
    {
     "name": "stdout",
     "output_type": "stream",
     "text": [
      "Os valores são \u001b[32m3\u001b[m e \u001b[31m5\u001b[m!!!\n"
     ]
    }
   ],
   "source": [
    "a = 3\n",
    "b = 5\n",
    "print('Os valores são \\033[32m{}\\033[m e \\033[31m{}\\033[m!!!'.format(a, b))"
   ]
  },
  {
   "cell_type": "markdown",
   "id": "a553720b-c8fa-44ad-8a39-e36ceaf2d04a",
   "metadata": {},
   "source": [
    "Esse é um exemplo de uso de cores no terminal Python"
   ]
  },
  {
   "cell_type": "markdown",
   "id": "c1c75b0f-d7f5-4814-870d-308fa73c8665",
   "metadata": {},
   "source": [
    "## Lição 80 - Funções Para Votação"
   ]
  },
  {
   "cell_type": "code",
   "execution_count": 57,
   "id": "51c08e9e-6ba8-4838-8815-782f42f4065f",
   "metadata": {},
   "outputs": [
    {
     "name": "stdin",
     "output_type": "stream",
     "text": [
      "Em que ano você nasceu?  2005\n"
     ]
    },
    {
     "name": "stdout",
     "output_type": "stream",
     "text": [
      "Com 20 anos: VOTO OBRIGATÓRIO.\n"
     ]
    }
   ],
   "source": [
    "def voto(ano):\n",
    "    from datetime import date\n",
    "    atual = date.today().year\n",
    "    idade = atual - ano\n",
    "    if idade < 16:\n",
    "        return f'Com {idade} anos: NÃO VOTA.'\n",
    "    elif 16 <= idade < 18 or idade > 65:\n",
    "        return f'Com {idade} anos: VOTO OPCIONAL.'\n",
    "    else:\n",
    "        return f'Com {idade} anos: VOTO OBRIGATÓRIO.'\n",
    "\n",
    "\n",
    "# Programa principal\n",
    "nasc = int(input(\"Em que ano você nasceu? \"))\n",
    "print(voto(nasc))"
   ]
  },
  {
   "cell_type": "markdown",
   "id": "9106b12e-1838-4691-a7c0-e3df606b00ef",
   "metadata": {},
   "source": [
    "## Lição 81 - Função Para Fatorial"
   ]
  },
  {
   "cell_type": "code",
   "execution_count": 58,
   "id": "3423b819-91ce-4d73-b9e1-0ccd920bebba",
   "metadata": {},
   "outputs": [
    {
     "name": "stdout",
     "output_type": "stream",
     "text": [
      "5 x 4 x 3 x 2 x 1 = 120\n",
      "Help on function fatorial in module __main__:\n",
      "\n",
      "fatorial(n, show=False)\n",
      "    -> Calcula o Fatorial de um número.\n",
      "    :param n: O número a ser calculado.\n",
      "    :param show: (opcional) Mostrar ou não a conta.\n",
      "    :return: O valor do Fatorial de um número n.\n",
      "\n"
     ]
    }
   ],
   "source": [
    "def fatorial(n, show=False):\n",
    "    \"\"\"\n",
    "    -> Calcula o Fatorial de um número.\n",
    "    :param n: O número a ser calculado.\n",
    "    :param show: (opcional) Mostrar ou não a conta.\n",
    "    :return: O valor do Fatorial de um número n.\n",
    "    \"\"\"\n",
    "    f = 1\n",
    "    for c in range(n, 0, -1):\n",
    "        if show:\n",
    "            print(c, end='')\n",
    "            if c > 1:\n",
    "                print(' x ', end='')\n",
    "            else:\n",
    "                print(' = ', end='')\n",
    "        f *= c\n",
    "    return f\n",
    "\n",
    "\n",
    "#Programa Principal\n",
    "print(fatorial(5, show=True))\n",
    "help(fatorial)"
   ]
  },
  {
   "cell_type": "markdown",
   "id": "89a0faf4-aac8-4c99-a174-f6764e6f7985",
   "metadata": {},
   "source": [
    "## Lição 82 - Ficha do Jogador"
   ]
  },
  {
   "cell_type": "code",
   "execution_count": 59,
   "id": "461d1898-cc16-4e9a-8bb5-9ea8264f24c7",
   "metadata": {},
   "outputs": [
    {
     "name": "stdin",
     "output_type": "stream",
     "text": [
      "Nome do jogador:  Paulo\n",
      "Número de gols:  X\n"
     ]
    },
    {
     "name": "stdout",
     "output_type": "stream",
     "text": [
      "O jogador Paulo fez 0 gol(s) no campeonato.\n"
     ]
    }
   ],
   "source": [
    "def ficha(jog='<desconhecido>', gol=0):\n",
    "    print(f'O jogador {jog} fez {gol} gol(s) no campeonato.')\n",
    "\n",
    "\n",
    "# Programa Principal\n",
    "n = str(input(\"Nome do jogador: \"))\n",
    "g = str(input(\"Número de gols: \"))\n",
    "if g.isnumeric():\n",
    "    g = int(g)\n",
    "else:\n",
    "    g = 0\n",
    "if n.strip() == '':\n",
    "    ficha(gol=g)\n",
    "else:\n",
    "    ficha(n, g)"
   ]
  },
  {
   "cell_type": "markdown",
   "id": "d6e4db97-57a5-4418-87e0-799bf7671e59",
   "metadata": {},
   "source": [
    "## Lição 83 - Validando Entrada de Dados em Python"
   ]
  },
  {
   "cell_type": "code",
   "execution_count": 60,
   "id": "4621d2f6-7334-48b6-9c9f-91fe626172ac",
   "metadata": {},
   "outputs": [
    {
     "name": "stdin",
     "output_type": "stream",
     "text": [
      "Digite um número:  X\n"
     ]
    },
    {
     "name": "stdout",
     "output_type": "stream",
     "text": [
      "\u001b[0;31mERRO! Digite um número inteiro válido.\u001b[m\n"
     ]
    },
    {
     "name": "stdin",
     "output_type": "stream",
     "text": [
      "Digite um número:  2\n"
     ]
    },
    {
     "name": "stdout",
     "output_type": "stream",
     "text": [
      "Você acabou de digitar o número 2\n"
     ]
    }
   ],
   "source": [
    "def leiaInt(msg):\n",
    "    ok = False\n",
    "    valor = 0\n",
    "    while True:\n",
    "        n = str(input(msg))\n",
    "        if n.isnumeric():\n",
    "            valor = int(n)\n",
    "            ok = True\n",
    "        else:\n",
    "            print('\\033[0;31mERRO! Digite um número inteiro válido.\\033[m')\n",
    "        if ok:\n",
    "            break\n",
    "    return valor\n",
    "\n",
    "\n",
    "# Programa Principal\n",
    "n = leiaInt('Digite um número: ')\n",
    "print(f'Você acabou de digitar o número {n}')"
   ]
  },
  {
   "cell_type": "markdown",
   "id": "ab54a69b-29c6-44fb-a622-50b3f28f0d8b",
   "metadata": {},
   "source": [
    "## Lição 84 - Analisando e Gerando Dicionários"
   ]
  },
  {
   "cell_type": "code",
   "execution_count": 61,
   "id": "af32f3cb-6f01-4e26-aa3d-6bed8763eba5",
   "metadata": {},
   "outputs": [
    {
     "name": "stdout",
     "output_type": "stream",
     "text": [
      "{'total': 3, 'maior': 5.5, 'menor': 1.5, 'média': 3.1666666666666665, 'situação': 'RUIM'}\n",
      "Help on function notas in module __main__:\n",
      "\n",
      "notas(*n, sit=False)\n",
      "    -> Função para analisar notas e situações de vários alunos.\n",
      "    :param n: uma ou mais notas dos alunos (aceita várias).\n",
      "    :param sit: valor opcional, indicado se deve ou não adicionar a situação.\n",
      "    :return: dicionario com várias informações sobre a situação da turma.\n",
      "\n"
     ]
    }
   ],
   "source": [
    "def notas(*n, sit=False):\n",
    "    \"\"\"\n",
    "    -> Função para analisar notas e situações de vários alunos.\n",
    "    :param n: uma ou mais notas dos alunos (aceita várias).\n",
    "    :param sit: valor opcional, indicado se deve ou não adicionar a situação.\n",
    "    :return: dicionario com várias informações sobre a situação da turma.\n",
    "    \"\"\"\n",
    "    r = dict()\n",
    "    r['total'] = len(n)\n",
    "    r['maior'] = max(n)\n",
    "    r['menor'] = min(n)\n",
    "    r['média'] = sum(n)/len(n)\n",
    "    if sit:\n",
    "        if r['média'] >= 7:\n",
    "            r['situação'] = 'BOA'\n",
    "        elif r['média'] >= 5:\n",
    "            r['situação'] = 'RAZOÁVEL'\n",
    "        else:\n",
    "            r['situação'] = 'RUIM'\n",
    "    return r\n",
    "\n",
    "\n",
    "# Programa Principal\n",
    "resp = notas(5.5, 2.5, 1.5, sit=True)\n",
    "print(resp)\n",
    "help(notas)"
   ]
  },
  {
   "cell_type": "markdown",
   "id": "1f560ca5-91da-4b72-b67b-230207102fe5",
   "metadata": {},
   "source": [
    "## Lição 85 - Interactive Helping System in Python"
   ]
  },
  {
   "cell_type": "code",
   "execution_count": 62,
   "id": "d78a175b-e37a-442d-bcac-84148c156395",
   "metadata": {},
   "outputs": [
    {
     "name": "stdout",
     "output_type": "stream",
     "text": [
      "\u001b[0;30;42m~~~~~~~~~~~~~~~~~~~~~~~~~~~\n",
      "  SISTEMA DE AJUDA PyHELP\n",
      "~~~~~~~~~~~~~~~~~~~~~~~~~~~\n",
      "\u001b[m"
     ]
    },
    {
     "name": "stdin",
     "output_type": "stream",
     "text": [
      "Função ou Biblioteca >  Função\n"
     ]
    },
    {
     "name": "stdout",
     "output_type": "stream",
     "text": [
      "\u001b[0;30;44m~~~~~~~~~~~~~~~~~~~~~~~~~~~~~~~~~~~~~~~~~~\n",
      "  Acessando o manual do comando 'Função'\n",
      "~~~~~~~~~~~~~~~~~~~~~~~~~~~~~~~~~~~~~~~~~~\n",
      "\u001b[m\u001b[7;30mNo Python documentation found for 'Função'.\n",
      "Use help() to get the interactive help utility.\n",
      "Use help(str) for help on the str class.\n",
      "\n",
      "\u001b[m\u001b[0;30;42m~~~~~~~~~~~~~~~~~~~~~~~~~~~\n",
      "  SISTEMA DE AJUDA PyHELP\n",
      "~~~~~~~~~~~~~~~~~~~~~~~~~~~\n",
      "\u001b[m"
     ]
    },
    {
     "name": "stdin",
     "output_type": "stream",
     "text": [
      "Função ou Biblioteca >  Biblioteca\n"
     ]
    },
    {
     "name": "stdout",
     "output_type": "stream",
     "text": [
      "\u001b[0;30;44m~~~~~~~~~~~~~~~~~~~~~~~~~~~~~~~~~~~~~~~~~~~~~~\n",
      "  Acessando o manual do comando 'Biblioteca'\n",
      "~~~~~~~~~~~~~~~~~~~~~~~~~~~~~~~~~~~~~~~~~~~~~~\n",
      "\u001b[m\u001b[7;30mNo Python documentation found for 'Biblioteca'.\n",
      "Use help() to get the interactive help utility.\n",
      "Use help(str) for help on the str class.\n",
      "\n",
      "\u001b[m\u001b[0;30;42m~~~~~~~~~~~~~~~~~~~~~~~~~~~\n",
      "  SISTEMA DE AJUDA PyHELP\n",
      "~~~~~~~~~~~~~~~~~~~~~~~~~~~\n",
      "\u001b[m"
     ]
    },
    {
     "name": "stdin",
     "output_type": "stream",
     "text": [
      "Função ou Biblioteca >  FIM\n"
     ]
    },
    {
     "name": "stdout",
     "output_type": "stream",
     "text": [
      "\u001b[0;30;41m~~~~~~~~~~~~~\n",
      "  ATÉ LOGO!\n",
      "~~~~~~~~~~~~~\n",
      "\u001b[m"
     ]
    }
   ],
   "source": [
    "from time import sleep\n",
    "c = ('\\033[m',          # 0 - sem cores\n",
    "     '\\033[0;30;41m',   # 1 - vermelho\n",
    "     '\\033[0;30;42m',   # 2 - verde\n",
    "     '\\033[0;30;43m',   # 3 - amarelo\n",
    "     '\\033[0;30;44m',   # 4 - azul\n",
    "     '\\033[0;30;45m',   # 5 - roxo\n",
    "     '\\033[7;30m'       # 6 - branco\n",
    "    )\n",
    "\n",
    "\n",
    "def ajuda(com):\n",
    "    título(f'Acessando o manual do comando \\'{com}\\'', 4)\n",
    "    print(c[6], end='')\n",
    "    help(com)\n",
    "    print(c[0], end='')\n",
    "    sleep(2)\n",
    "\n",
    "\n",
    "def título(msg, cor=0):\n",
    "    tam = len(msg) + 4\n",
    "    print(c[cor], end='')\n",
    "    print('~' * tam)\n",
    "    print(f'  {msg}')\n",
    "    print('~' * tam)\n",
    "    print(c[0], end='')\n",
    "    sleep(1)\n",
    "\n",
    "\n",
    "# Programa Principal\n",
    "comando = ''\n",
    "while True:\n",
    "    título('SISTEMA DE AJUDA PyHELP', 2)\n",
    "    comando = str(input(\"Função ou Biblioteca > \"))\n",
    "    if comando.upper() == 'FIM':\n",
    "        break\n",
    "    else:\n",
    "        ajuda(comando)\n",
    "título('ATÉ LOGO!', 1)"
   ]
  },
  {
   "cell_type": "markdown",
   "id": "06f71175-4194-4423-9d9b-4174cc9ecae8",
   "metadata": {},
   "source": [
    "## Lição X - Superconversor de Unidades"
   ]
  },
  {
   "cell_type": "code",
   "execution_count": 63,
   "id": "08d2ad92-99b7-40ad-9149-4932d677cc13",
   "metadata": {},
   "outputs": [
    {
     "name": "stdout",
     "output_type": "stream",
     "text": [
      "Escolhas:\n",
      " 1 - Área\n",
      " 2 - Capacidade\n",
      " 3 - Comprimento\n",
      " 4 - Peso\n",
      " 5 - Temperatura\n",
      " 6 - Velocidade\n"
     ]
    },
    {
     "name": "stdin",
     "output_type": "stream",
     "text": [
      "Por favor digite um número:  1\n",
      "Digite um valor em \u001b[32mm²\u001b[m:  5\n"
     ]
    },
    {
     "name": "stdout",
     "output_type": "stream",
     "text": [
      "------------------------------\n",
      "\u001b[0;30;46m-------MEDIDAS MÉTRICAS-------\u001b[m\n",
      "------------------------------\n",
      "\u001b[36m5.0 m² |500.0 dm² |50000.0 cm² |5000000.0 mm² |5e+28 b |5e-06 km² |0.0005 hectare |0.005 decare |0.05 a |\u001b[m\n",
      "------------------------------\n",
      "\u001b[0;30;46m-------EUA E INGLATERRA-------\u001b[m\n",
      "------------------------------\n",
      "\u001b[36m5.365e-08 township |1.9305e-06 milha quadrada |7.72e-06 homestead |0.0012355 acre |0.004942 rood |0.1977 rod quadrado |0.1977 perch |5.98 yd² |53.8 ft² |7750.0 in² |7750015500.0 th² |\u001b[m\n",
      "-----------------------------\n",
      "\u001b[0;30;46m------------JAPÃO------------\u001b[m\n",
      "-----------------------------\n",
      "\u001b[36m151.25 shaku |15.125 go |3.025 jo |1.5125 tsubo |1.5125 bu |0.0504 se |0.00504 tan |0.000504 cho |\u001b[m\n",
      "-----------------------------\n",
      "\u001b[0;30;46m-------CHINA 1915#1930-------\u001b[m\n",
      "-----------------------------\n",
      "\u001b[36m7.5e-05 qing |0.0075 mu |0.075 fen |0.45 fang zhang |0.75 li - 㢆 ou 釐 |7.5 hao |45.0 fang chi |4500.0 fang cun |\u001b[m\n",
      "-----------------------------\n",
      "\u001b[0;30;46m-------CHINA 1930#HOJE-------\u001b[m\n",
      "-----------------------------\n",
      "\u001b[36m8.14e-05 qing |0.00814 mu |0.0814 fen |0.4883 fang zhang |0.814 li - 㢆 ou 釐 |8.14 hao |48.83 fang chi |4883.0 fang cun |\u001b[m\n",
      "-----------------------------\n",
      "\u001b[0;30;46m----------TAILÂNDIA----------\u001b[m\n",
      "-----------------------------\n",
      "\u001b[36m0.003125 rai |0.0125 ngan |1.25 tarang wah |\u001b[m\n",
      "------------------------------\n",
      "\u001b[0;30;43m------------GRÉCIA------------\u001b[m\n",
      "------------------------------\n",
      "\u001b[34m0.005265 plethron |0.021055 aroura |0.03158 hektos |0.06315 hēmiektos |0.12185 dodecaorgion |0.1462 decaorgion |0.5265 akaina |1.462 hexapodēs ou orgya |2.1055 bema ou diploum |52.65 pous |\u001b[m\n",
      "------------------------------\n",
      "\u001b[0;30;43m-------------ROMA-------------\u001b[m\n",
      "------------------------------\n",
      "\u001b[34m2.1245e-06 saltus |8.5e-06 centurium |0.00085 geredium |0.0016995 uger |0.0033995 akt quadrado |0.0136 klima |0.1224 akt quadrado pequeno |0.4895 decimpeda quadrada |48.95 ped quadrado comum |57.0 ped quadrado legal |\u001b[m\n",
      "------------------------------\n",
      "\u001b[0;30;43m--------FRANCÊS ANTIGO--------\u001b[m\n",
      "------------------------------\n",
      "\u001b[34m0.0014625 arpent |0.14625 perche |1.316 toise quadrada |47.385 pied |6.825 pouce |\u001b[m\n",
      "------------------------------\n",
      "\u001b[0;30;43m--------ESPANHA ANTIGA--------\u001b[m\n",
      "------------------------------\n",
      "\u001b[34m2.8625e-07 legua |7.155e-06 labor |1.294e-05 caballería |1.553e-05 yugada |0.0007765 fanegada |0.001118 aranzada |0.001272 cuerda de Puerto Rico |0.009315 celemin |0.03727 cuartillo |0.44725 estadal cuadrado |7.155 vara cuadrada |64.4 pie cuadrado |\u001b[m\n",
      "-----------------------------\n",
      "\u001b[0;30;43m-------PORTUGAL ANTIGO-------\u001b[m\n",
      "-----------------------------\n",
      "\u001b[34m1.033 braça quadrada |4.132 vara quadrada |103.3 palmo quadrado |6610.0 polegada quadrada |\u001b[m\n",
      "-----------------------------\n",
      "\u001b[0;30;43m--------RÚSSIA ANTIGA--------\u001b[m\n",
      "-----------------------------\n",
      "\u001b[34m0.00045765 desyatina país |0.00034325 desyatina fazendeiros |4.3935e-06 verst quadrado |9.885 arshin quadrado |58.8 pé quadrado |\u001b[m\n",
      "------------------------------\n",
      "\u001b[0;30;46m---------AINDA EM USO---------\u001b[m\n",
      "------------------------------\n",
      "\u001b[36m0.005 dulum (дулум) da Bósnia, Herzegovina e Sérvia |0.005 dynym ou dylym da Albânia |0.01223 donum do Chipre |0.005 skales (σκάλες) do Chipre |0.005 stremma grega |0.003937 stremma turca da Grécia |0.002 dunam do Iraque |0.005 dunam (dönüm, دونم) da Turquia, Síria, Israel, Palestina, Jordânia, Líbano |0.00544 dunam (dönüm, دونم) antigo (anterior a 1928) da Turquia, Síria, Israel, Palestina, Jordânia, Líbano |0.0011905 feddan (فدّان) do Egito, Sudão, Síria, Omã |0.02857 kirat (قيراط) do Egito |0.0005 manzana da Argentina |0.0005985 manzana da Belize |0.0007155 manzana da Costa Rica |0.0007085 manzana da Guatemala |0.000717 manzana da Honduras |0.0007145 manzana da Nicarágua |0.0002964 cuadra da Argentina |0.00031795 cuadra do Chile |0.0007085 cuadra do Equador |0.0006665 cuadra do Paraguai |0.0005 cuadra do Peru |0.0006775 cuadra do Uruguai |7.815 vara quadrada do Panamá e da Colômbia |7.085 vara quadrada do Chile, Costa Rica, República Dominicana, Equador, El Salvador, Guatemala, Honduras, México, Nicarágua, Peru, São Tomé e Príncipe, Venezuela |6.955 vara quadrada de Cuba |6.68 vara quadrada da Argentina, Paraguai, Uruguai |4.132 vara quadrada do Brasil |\u001b[m\n",
      "-----------------------------\n",
      "\u001b[0;30;46m-------BITOLA DOS FIOS-------\u001b[m\n",
      "-----------------------------\n",
      "\u001b[36m9870.0 polegada circular |9867625.0 kcmil, MCM |9867626205.0 cmil |\u001b[m\n",
      "------------------------------\n",
      "\u001b[0;30;46m-----------NATURAIS-----------\u001b[m\n",
      "------------------------------\n",
      "\u001b[36m1.914e-68 L² |\u001b[m\n",
      "\u001b[36mA CATEC agradece a sua consulta!\u001b[m\n"
     ]
    }
   ],
   "source": [
    "print('Escolhas:\\n 1 - Área\\n 2 - Capacidade\\n 3 - Comprimento\\n 4 - Peso\\n 5 - Temperatura\\n 6 - Velocidade')\n",
    "x = input('Por favor digite um número: ')\n",
    "\n",
    "match x:\n",
    "    case \"1\":\n",
    "        n1 = float(input ('Digite um valor em \\033[32mm²\\033[m: '))\n",
    "        a = n1\n",
    "        b = n1 * 100\n",
    "        c = n1 * 10000\n",
    "        d = n1 * 1000000\n",
    "        e = n1 * 10000000000000000000000000000\n",
    "        f = n1 / 1000000\n",
    "        g = n1 / 10000\n",
    "        h = n1 / 1000\n",
    "        i = n1 / 100\n",
    "\n",
    "        j = n1 * 1073 / 100000000000\n",
    "        k = n1 * 3861 / 10000000000\n",
    "        l = n1 * 1544 / 1000000000\n",
    "        m = n1 * 2471 / 10000000\n",
    "        n = n1 * 9884 / 10000000\n",
    "        o = n1 * 3954 / 100000\n",
    "        p = n1 * 3954 / 100000\n",
    "        q = n1 * 1196 / 1000\n",
    "        r = n1 * 1076 / 100\n",
    "        s = n1 * 1550\n",
    "        t = n1 * 1550003100\n",
    "\n",
    "        u = n1 * 3025 / 100\n",
    "        v = n1 * 3025 / 1000\n",
    "        w = n1 * 605 / 1000\n",
    "        x = n1 * 3025 / 10000\n",
    "        y = n1 * 3025 / 10000\n",
    "        z = n1 * 1008 / 100000\n",
    "        aa = n1 * 1008 / 1000000\n",
    "        ab = n1 * 1008 / 10000000\n",
    "\n",
    "        ac = n1 * 15 / 1000000\n",
    "        ad = n1 * 15 / 10000\n",
    "        ae = n1 * 15 / 1000\n",
    "        af = n1 * 9 / 100\n",
    "        ag = n1 * 15 / 100\n",
    "        ah = n1 * 15 / 10\n",
    "        ai = n1 * 9\n",
    "        aj = n1 * 900\n",
    "\n",
    "        ak = n1 * 1628 / 100000000\n",
    "        al = n1 * 1628 / 1000000\n",
    "        am = n1 * 1628 / 100000\n",
    "        an = n1 * 9766 / 100000\n",
    "        ao = n1 * 1628 / 10000\n",
    "        ap = n1 * 1628 / 1000\n",
    "        aq = n1 * 9766 / 1000\n",
    "        ar = n1 * 9766 / 10\n",
    "\n",
    "        ba = n1 * 625 / 1000000\n",
    "        bb = n1 * 25 / 10000\n",
    "        bc = n1 * 25 / 100\n",
    "\n",
    "        bd = n1 * 1053 / 1000000\n",
    "        be = n1 * 4211 / 1000000\n",
    "        bf = n1 * 6316 / 1000000\n",
    "        bg = n1 * 1263 / 100000\n",
    "        bh = n1 * 2437 / 100000\n",
    "        bi = n1 * 2924 / 100000\n",
    "        bj = n1 * 1053 / 10000\n",
    "        bk = n1 * 2924 / 10000\n",
    "        bl = n1 * 4211 / 10000\n",
    "        bm = n1 * 1053 / 100\n",
    "\n",
    "        bn = n1 * 4249 / 10000000000\n",
    "        bo = n1 * 17 / 10000000\n",
    "        bp = n1 * 17 / 100000\n",
    "        bq = n1 * 3399 / 10000000\n",
    "        br = n1 * 6799 / 10000000\n",
    "        bs = n1 * 272 / 100000\n",
    "        bt = n1 * 2448 / 100000\n",
    "        bu = n1 * 979 / 10000\n",
    "        bv = n1 * 979 / 100\n",
    "        bw = n1 * 114 / 10\n",
    "\n",
    "        bx = n1 * 2925 / 10000000\n",
    "        by = n1 * 2925 / 100000\n",
    "        bz = n1 * 2632 / 10000\n",
    "        ca = n1 * 9477 / 1000\n",
    "        cb = n1 * 1365 / 1000\n",
    "\n",
    "        cc = n1 * 5725 / 100000000000\n",
    "        cd = n1 * 1431 / 1000000000\n",
    "        ce = n1 * 2588 / 1000000000\n",
    "        cf = n1 * 3106 / 1000000000\n",
    "        cg = n1 * 1553 / 10000000\n",
    "        ch = n1 * 2236 / 10000000\n",
    "        ci = n1 * 2544 / 10000000\n",
    "        cj = n1 * 1863 / 1000000\n",
    "        ck = n1 * 7454 / 1000000\n",
    "        cl = n1 * 8945 / 100000\n",
    "        cm = n1 * 1431 / 1000\n",
    "        cn = n1 * 1288 / 100\n",
    "\n",
    "        co = n1 * 2066 / 10000\n",
    "        cp = n1 * 8264 / 10000\n",
    "        cq = n1 * 2066 / 100\n",
    "        cr = n1 * 1322\n",
    "\n",
    "        cs = n1 * 9153 / 100000000\n",
    "        ct = n1 * 6865 / 100000000\n",
    "        cu = n1 * 8787 / 10000000000\n",
    "        cv = n1 * 1977 / 1000\n",
    "        cw = n1 * 1176 / 100\n",
    "\n",
    "        cx = n1 / 1000\n",
    "        cy = n1 / 1000\n",
    "        cz = n1 * 2446 / 1000000\n",
    "        da = n1 / 1000\n",
    "        db = n1 / 1000\n",
    "        dc = n1 * 7874 / 10000000\n",
    "        dd = n1 * 4 / 10000\n",
    "        de = n1 / 1000\n",
    "        df = n1 * 1088 / 1000000\n",
    "        dg = n1 * 2381 / 10000000\n",
    "        dh = n1 * 5714 / 1000000\n",
    "        di = n1 / 10000\n",
    "        dj = n1 * 1197 / 10000000\n",
    "        dk = n1 * 1431 / 10000000\n",
    "        dl = n1 * 1417 / 10000000\n",
    "        dm = n1 * 1434 / 10000000\n",
    "        dn = n1 * 1429 / 10000000\n",
    "        do = n1 * 5928 / 100000000\n",
    "        dp = n1 * 6359 / 100000000\n",
    "        dq = n1 * 1417 / 10000000\n",
    "        dr = n1 * 1333 / 10000000\n",
    "        ds = n1 / 10000\n",
    "        dt = n1 * 1355 / 10000000\n",
    "        du = n1 * 1563 / 1000\n",
    "        dv = n1 * 1417 / 1000\n",
    "        dw = n1 * 1391 / 1000\n",
    "        dx = n1 * 1336 / 1000\n",
    "        dy = n1 * 8264 / 10000\n",
    "\n",
    "        dz = n1 * 1974\n",
    "        ea = n1 * 1973525\n",
    "        eb = n1 * 1973525241\n",
    "\n",
    "        ec = n1 / 1000000000000000000000000000000000000000000000000000000000000000000000000 * 3828\n",
    "\n",
    "        print ('-' * 30)\n",
    "        print ('\\033[0;30;46m-------MEDIDAS MÉTRICAS-------\\033[m')\n",
    "        print ('-' * 30)\n",
    "        print ('\\033[36m{} m² |{} dm² |{} cm² |{} mm² |{} b |{} km² |{} hectare |{} decare |{} a |\\033[m'.format(a, b, c, d, e, f, g, h, i))\n",
    "\n",
    "        print ('-' * 30)\n",
    "        print ('\\033[0;30;46m-------EUA E INGLATERRA-------\\033[m')\n",
    "        print ('-' * 30)\n",
    "        print ('\\033[36m{} township |{} milha quadrada |{} homestead |{} acre |{} rood |{} rod quadrado |{} perch |{} yd² |{} ft² |{} in² |{} th² |\\033[m'.format(j, k, l, m, n, o, p, q, r, s, t))\n",
    "\n",
    "        print ('-' * 29)\n",
    "        print ('\\033[0;30;46m------------JAPÃO------------\\033[m')\n",
    "        print ('-' * 29)\n",
    "        print ('\\033[36m{} shaku |{} go |{} jo |{} tsubo |{} bu |{} se |{} tan |{} cho |\\033[m'.format(u, v, w, x, y, z, aa, ab))\n",
    "\n",
    "        print ('-' * 29)\n",
    "        print ('\\033[0;30;46m-------CHINA 1915#1930-------\\033[m')\n",
    "        print ('-' * 29)\n",
    "        print ('\\033[36m{} qing |{} mu |{} fen |{} fang zhang |{} li - 㢆 ou 釐 |{} hao |{} fang chi |{} fang cun |\\033[m'.format(ac, ad, ae, af, ag, ah, ai, aj))\n",
    "\n",
    "        print ('-' * 29)\n",
    "        print ('\\033[0;30;46m-------CHINA 1930#HOJE-------\\033[m')\n",
    "        print ('-' * 29)\n",
    "        print ('\\033[36m{} qing |{} mu |{} fen |{} fang zhang |{} li - 㢆 ou 釐 |{} hao |{} fang chi |{} fang cun |\\033[m'.format(ak, al, am, an, ao, ap, aq, ar))\n",
    "\n",
    "        print ('-' * 29)\n",
    "        print ('\\033[0;30;46m----------TAILÂNDIA----------\\033[m')\n",
    "        print ('-' * 29)\n",
    "        print ('\\033[36m{} rai |{} ngan |{} tarang wah |\\033[m'.format(ba, bb, bc))\n",
    "\n",
    "        print ('-' * 30)\n",
    "        print ('\\033[0;30;43m------------GRÉCIA------------\\033[m')\n",
    "        print ('-' * 30)\n",
    "        print ('\\033[34m{} plethron |{} aroura |{} hektos |{} hēmiektos |{} dodecaorgion |{} decaorgion |{} akaina |{} hexapodēs ou orgya |{} bema ou diploum |{} pous |\\033[m'.format(bd, be, bf, bg, bh, bi, bj, bk, bl, bm))\n",
    "\n",
    "        print ('-' * 30)\n",
    "        print ('\\033[0;30;43m-------------ROMA-------------\\033[m')\n",
    "        print ('-' * 30)\n",
    "        print ('\\033[34m{} saltus |{} centurium |{} geredium |{} uger |{} akt quadrado |{} klima |{} akt quadrado pequeno |{} decimpeda quadrada |{} ped quadrado comum |{} ped quadrado legal |\\033[m'.format(bn, bo, bp, bq, br, bs, bt, bu, bv, bw))\n",
    "\n",
    "        print ('-' * 30)\n",
    "        print ('\\033[0;30;43m--------FRANCÊS ANTIGO--------\\033[m')\n",
    "        print ('-' * 30)\n",
    "        print ('\\033[34m{} arpent |{} perche |{} toise quadrada |{} pied |{} pouce |\\033[m'.format(bx, by, bz, ca, cb))\n",
    "\n",
    "        print ('-' * 30)\n",
    "        print ('\\033[0;30;43m--------ESPANHA ANTIGA--------\\033[m')\n",
    "        print ('-' * 30)\n",
    "        print ('\\033[34m{} legua |{} labor |{} caballería |{} yugada |{} fanegada |{} aranzada |{} cuerda de Puerto Rico |{} celemin |{} cuartillo |{} estadal cuadrado |{} vara cuadrada |{} pie cuadrado |\\033[m'.format(cc, cd, ce, cf, cg, ch, ci, cj, ck, cl, cm, cn))\n",
    "\n",
    "        print ('-' * 29)\n",
    "        print ('\\033[0;30;43m-------PORTUGAL ANTIGO-------\\033[m')\n",
    "        print ('-' * 29)\n",
    "        print ('\\033[34m{} braça quadrada |{} vara quadrada |{} palmo quadrado |{} polegada quadrada |\\033[m'.format(co, cp, cq, cr))\n",
    "\n",
    "        print ('-' * 29)\n",
    "        print ('\\033[0;30;43m--------RÚSSIA ANTIGA--------\\033[m')\n",
    "        print ('-' * 29)\n",
    "        print ('\\033[34m{} desyatina país |{} desyatina fazendeiros |{} verst quadrado |{} arshin quadrado |{} pé quadrado |\\033[m'.format(cs, ct, cu, cv, cw))\n",
    "\n",
    "        print ('-' * 30)\n",
    "        print ('\\033[0;30;46m---------AINDA EM USO---------\\033[m')\n",
    "        print ('-' * 30)\n",
    "        print ('\\033[36m{} dulum (дулум) da Bósnia, Herzegovina e Sérvia |{} dynym ou dylym da Albânia |{} donum do Chipre |{} skales (σκάλες) do Chipre |{} stremma grega |{} stremma turca da Grécia |{} dunam do Iraque |{} dunam (dönüm, دونم) da Turquia, Síria, Israel, Palestina, Jordânia, Líbano |{} dunam (dönüm, دونم) antigo (anterior a 1928) da Turquia, Síria, Israel, Palestina, Jordânia, Líbano |{} feddan (فدّان) do Egito, Sudão, Síria, Omã |{} kirat (قيراط) do Egito |{} manzana da Argentina |{} manzana da Belize |{} manzana da Costa Rica |{} manzana da Guatemala |{} manzana da Honduras |{} manzana da Nicarágua |{} cuadra da Argentina |{} cuadra do Chile |{} cuadra do Equador |{} cuadra do Paraguai |{} cuadra do Peru |{} cuadra do Uruguai |{} vara quadrada do Panamá e da Colômbia |{} vara quadrada do Chile, Costa Rica, República Dominicana, Equador, El Salvador, Guatemala, Honduras, México, Nicarágua, Peru, São Tomé e Príncipe, Venezuela |{} vara quadrada de Cuba |{} vara quadrada da Argentina, Paraguai, Uruguai |{} vara quadrada do Brasil |\\033[m'.format(cx, cy, cz, da, db, dc, dd, de, df, dg, dh, di, dj, dk, dl, dm, dn, do, dp, dq, dr, ds, dt, du, dv, dw, dx, dy))\n",
    "\n",
    "        print ('-' * 29)\n",
    "        print ('\\033[0;30;46m-------BITOLA DOS FIOS-------\\033[m')\n",
    "        print ('-' * 29)\n",
    "        print ('\\033[36m{} polegada circular |{} kcmil, MCM |{} cmil |\\033[m'.format(dz, ea, eb))\n",
    "\n",
    "        print ('-' * 30)\n",
    "        print ('\\033[0;30;46m-----------NATURAIS-----------\\033[m')\n",
    "        print ('-' * 30)\n",
    "        print ('\\033[36m{} L² |\\033[m'.format(ec))\n",
    "\n",
    "        print ('\\033[36mA CATEC agradece a sua consulta!\\033[m')\n",
    "    case \"2\":\n",
    "        n1 = float(input ('Digite um valor em \\033[32ml\\033[m: '))\n",
    "        a = n1 / 100\n",
    "        b = n1 / 10\n",
    "        c = n1\n",
    "        d = n1 * 10\n",
    "        e = n1 * 100\n",
    "        f = n1 * 1000\n",
    "        g = n1 * 1000000\n",
    "        h = n1 / 1000000000000\n",
    "        i = n1 / 1000\n",
    "        j = n1\n",
    "        k = n1 * 1000\n",
    "        l = n1 * 1000000\n",
    "\n",
    "        m = n1 / 10000000000 * 8107\n",
    "        n = n1 / 100000 * 629\n",
    "        o = n1 / 10000 * 2642 \n",
    "        p = n1 / 1000 * 1057\n",
    "        q = n1 / 1000 * 2113\n",
    "        r = n1 / 1000 * 8454\n",
    "        s = n1 / 100 * 3381\n",
    "        t = n1 / 10 * 2705\n",
    "        u = n1 * 16231\n",
    "\n",
    "        v = n1 / 1000000 *  8648\n",
    "        w = n1 / 100000 * 2838\n",
    "        x = n1 / 10000 * 1135\n",
    "        y = n1 / 1000 * 227\n",
    "        z = n1 / 10000 * 9081\n",
    "        aa = n1 / 1000 * 1816\n",
    "\n",
    "        ab = n1 / 1000 * 2113\n",
    "        ac = n1 / 1000 * 4227\n",
    "        ad = n1 / 1000 * 4227\n",
    "        ae = n1 / 1000 * 6763\n",
    "        af = n1 / 100 * 1691\n",
    "        ag = n1 / 100 * 3381\n",
    "        ah = n1 / 100 * 6763\n",
    "        ai = n1 / 10 * 1353\n",
    "        aj = n1 / 10 * 2705\n",
    "        ak = n1 / 10 * 2705\n",
    "        al = n1 * 16231\n",
    "\n",
    "        au = n1 / 1000000 * 1427\n",
    "        av = n1 / 100000 * 611\n",
    "        aw = n1 / 10000 * 275\n",
    "        ax = n1 / 100 * 11\n",
    "        ay = n1 / 100 * 22\n",
    "        az = n1 / 10000 * 8799\n",
    "        ba = n1 / 100 * 176\n",
    "        bb = n1 / 10 * 352\n",
    "        bc = n1 / 10 * 2816\n",
    "        bd = n1 / 10 * 8447\n",
    "        be = n1 * 16894\n",
    "\n",
    "        bf = n1 / 10000000000000000 * 2399\n",
    "        bg = n1 / 100000000 * 3531\n",
    "        bh = n1 / 1000000 * 1308\n",
    "        bi = n1 / 10000000 * 3531\n",
    "        bj = n1 / 100000 * 3531\n",
    "        bk = n1 / 100 * 6102\n",
    "\n",
    "        bl = n1 / 1000000 * 1047\n",
    "        bm = n1 / 1000000 * 2095\n",
    "        bn = n1 / 1000000 * 3142\n",
    "        bo = n1 / 100000 * 419\n",
    "        bp = n1 / 1000000 * 6285\n",
    "        bq = n1 / 100000 * 838\n",
    "        br = n1 / 100000 * 1466\n",
    "\n",
    "        bs = n1 / 1000000 * 1018\n",
    "        bt = n1 / 100000 * 611\n",
    "        bu = n1 / 100000 * 1222\n",
    "        bv = n1 / 100000 * 1222 * 2\n",
    "        bw = n1 / 100000 * 1222 * 4\n",
    "\n",
    "        bx = n1 / 1000000 * 8522\n",
    "        by = n1 / 100000 * 1704\n",
    "        bz = n1 / 100000 * 1704\n",
    "        ca = n1 / 100000 * 3409\n",
    "\n",
    "        cb = n1 / 1000 * 4227\n",
    "        cc = n1 / 100 * 6763\n",
    "        cd = n1 / 10 * 2029\n",
    "\n",
    "        ce = n1 * 50\n",
    "        cf = n1 * 100\n",
    "        cg = n1 * 200\n",
    "\n",
    "        ch = n1 / 1000 * 4167\n",
    "        ci = n1 / 100 * 6667\n",
    "        cj = n1 * 200\n",
    "\n",
    "        ck = n1 * 236731775796070000000000000000000000000000000000000000000000000000000000000000000000000000000000000000\n",
    "\n",
    "        cl = n1 / 100000000000000000000000000000000000000000000000000000000 * 3404\n",
    "        cm = n1 / 1000000000000000000000000000000000000000000000000000000 * 1181\n",
    "        cn = n1 / 10000000000000000000000000000000000000 * 1718\n",
    "        co = n1 / 100000000000000000000000000000000 * 3711\n",
    "\n",
    "        cp = n1 / 100000 * 14\n",
    "        cq = n1 / 10000000 * 3531\n",
    "        cr = n1 / 10000000 * 3531\n",
    "\n",
    "        cs = n1 / 10000000000 * 4238\n",
    "        ct = n1 / 10000000 * 2759\n",
    "        cu = n1 / 10000000 * 4238\n",
    "        cv = n1 / 10000000 * 5547\n",
    "        cw = n1 / 10000000 * 8829\n",
    "        cx = n1 / 1000 * 1\n",
    "        cy = n1 / 100000 * 2774\n",
    "        cz = n1 / 10000 * 4238\n",
    "\n",
    "        da = n1 / 10 * 5544\n",
    "        db = n1 / 100 * 5544\n",
    "        dc = n1 / 1000 * 5544\n",
    "        dd = n1 / 10000 * 5544\n",
    "        de = n1 / 100000 * 5544\n",
    "        df = n1 / 1000000 * 5544\n",
    "\n",
    "        dg = n1 / 1000000 * 9657\n",
    "        dh = n1 / 100000 * 1931\n",
    "        di = n1 / 100000 * 9657\n",
    "        dj = n1 / 10000 * 9657\n",
    "        dk = n1 / 1000 * 9657\n",
    "        dl = n1 / 100 * 9657\n",
    "\n",
    "        dm = n1 / 100\n",
    "        dn = n1 / 10\n",
    "        do = n1\n",
    "        dp = n1 * 10\n",
    "        dq = n1 * 100\n",
    "        dr = n1 * 1000\n",
    "\n",
    "        ds = n1 * 5 / 10000\n",
    "        dt = n1 * 4 / 100\n",
    "        du = n1 * 5 / 100\n",
    "        dv = n1 * 1\n",
    "        dw = n1 * 8\n",
    "        dx = n1 * 32\n",
    "        dy = n1 * 128\n",
    "\n",
    "        dz = n1 / 100000 * 1957\n",
    "        ea = n1 / 10000 * 1174\n",
    "        eb = n1 / 10000 * 2348\n",
    "        ec = n1 / 10000 * 9393\n",
    "        ed = n1 / 1000 * 1879\n",
    "        ee = n1 / 1000 * 3757\n",
    "        ef = n1 / 100 * 1503\n",
    "        eg = n1 / 100 * 2254\n",
    "        eh = n1 / 10 * 2254\n",
    "\n",
    "        ei = n1 / 100000 * 2609\n",
    "        ej = n1 / 100000 * 3914\n",
    "        ek = n1 / 10000 * 3131\n",
    "        el = n1 / 1000 * 1879\n",
    "        em = n1 / 1000 * 3757\n",
    "        en = n1 / 1000 * 7514\n",
    "        eo = n1 / 100 * 1503\n",
    "        ep = n1 / 100 * 2254\n",
    "        eq = n1 / 100 * 4509\n",
    "        er = n1 / 100 * 9017\n",
    "        es = n1 / 10 * 1127\n",
    "        et = n1 / 10 * 2254\n",
    "\n",
    "        eu = n1 / 1000000 * 1928\n",
    "        ev = n1 / 100000 * 3856\n",
    "        ew = n1 / 100000 * 7712\n",
    "        ex = n1 / 100000 * 7712\n",
    "        ey = n1 / 10000 * 1157\n",
    "        ez = n1 / 10000 * 2314\n",
    "        fa = n1 / 10000 * 3085\n",
    "        fb = n1 / 1000 * 1851\n",
    "        fc = n1 / 1000 * 3702\n",
    "        fd = n1 / 1000 * 3702\n",
    "        fe = n1 / 1000 * 5552\n",
    "        ff = n1 / 1000 * 7403\n",
    "        fg = n1 / 10 * 111\n",
    "        fh = n1 / 100 * 1481\n",
    "        fi = n1 / 100 * 2221\n",
    "        fj = n1 / 100 * 8884\n",
    "\n",
    "        fk = n1 / 1000000 * 1502\n",
    "        fl = n1 / 100000 * 1802\n",
    "        fm = n1 / 100000 * 7209\n",
    "        fn = n1 / 10000 * 2163\n",
    "        fo = n1 / 10000 * 4325\n",
    "        fp = n1 / 10000 * 8651\n",
    "        fq = n1 / 10000 * 2163\n",
    "\n",
    "        fr = n1 / 1000000 * 3875\n",
    "        fs = n1 / 1000 * 62\n",
    "        ft = n1 / 1000 * 62\n",
    "        fu = n1 / 1000 * 496\n",
    "        fv = n1 / 1000 * 1323\n",
    "        fw = n1 / 1000 * 1984\n",
    "        fx = n1 / 1000 * 7937\n",
    "        fy = n1 / 1000 * 7943\n",
    "        fz = n1 / 1000 * 7937\n",
    "\n",
    "        ga = n1 / 1000000 * 1208\n",
    "        gb = n1 / 100000 * 1812\n",
    "        gc = n1 / 100000 * 7246\n",
    "        gd = n1 / 10000 * 2899\n",
    "        ge = n1 / 10000 * 5797\n",
    "        gf = n1 / 1000 * 1159\n",
    "        gg = n1 / 1000 * 2319\n",
    "        gh = n1 / 1000 * 4638\n",
    "        gi = n1 / 1000 * 9275\n",
    "\n",
    "        gj = n1 / 100000 * 119\n",
    "        gk = n1 / 1000000 * 2381\n",
    "        gl = n1 / 100000 * 5952\n",
    "        gm = n1 / 100000 * 5952\n",
    "        gn = n1 / 1000 * 119\n",
    "        go = n1 / 10000 * 7143\n",
    "        gp = n1 / 1000 * 2857\n",
    "        gq = n1 / 1000 * 5714\n",
    "        gr = n1 / 100 * 1143\n",
    "\n",
    "        gs = n1 / 100000 * 2941\n",
    "        gt = n1 / 1000 * 1203\n",
    "\n",
    "        gu = n1 / 100000 * 3811\n",
    "        gv = n1 / 10000 * 813\n",
    "        gw = n1 / 10000 * 3049\n",
    "\n",
    "        gx = n1 / 10000 * 813\n",
    "        gy = n1 / 1000 * 813\n",
    "        gz = n1 / 10000 * 3252\n",
    "        ha = n1 / 1000 * 1301\n",
    "        hb = n1 / 1000 * 1626\n",
    "        hc = n1 / 100 * 813\n",
    "        hd = n1 / 100 * 1626\n",
    "\n",
    "        he = n1 / 1000000 * 4545\n",
    "        hf = n1 / 1000000 * 9091\n",
    "        hg = n1 / 100000 * 4545\n",
    "        hh = n1 / 10000 * 1364\n",
    "        hi = n1 / 10000 * 8182\n",
    "        hj = n1 / 1000 * 3273\n",
    "        hk = n1 / 100 * 1964\n",
    "        hl = n1 / 100 * 3927\n",
    "\n",
    "        hm = n1 / 100000 * 4545\n",
    "        hn = n1 / 10000 * 2727\n",
    "        ho = n1 / 1000 * 3273\n",
    "\n",
    "        print ('-' * 30)\n",
    "        print ('\\033[0;30;46m-------MEDIDAS MÉTRICAS-------\\033[m')\n",
    "        print ('-' * 30)\n",
    "        print ('\\033[36m{} hl |{} decalitro |{} l |{} dl |{} cl |{} ml |{} µl |{} km³ |{} m³ |{} dm³ |{} cc |{} mm³ |\\033[m'.format(a, b, c, d, e, f, g, h, i, j, k, l))\n",
    "\n",
    "        print ('-' * 30)\n",
    "        print ('\\033[0;30;46m---------EUA LÍQUIDOS---------\\033[m')\n",
    "        print ('-' * 30)\n",
    "        print ('\\033[36m{} acre-pé |{} barril (petróleo) |{} gal |{} qt |{} pt |{} gill |{} fl oz |{} fl dr |{} min |\\033[m'.format(m, n, o, p, q, r, s, t, u))\n",
    "\n",
    "        print ('-' * 29)\n",
    "        print ('\\033[0;30;46m----------EUA SECOS----------\\033[m')\n",
    "        print ('-' * 29)\n",
    "        print ('\\033[36m{} barril |{} bu |{} pk |{} gal |{} qt |{} pt |\\033[m'.format(v, w, x, y, z, aa))\n",
    "\n",
    "        print ('-' * 30)\n",
    "        print ('\\033[0;30;46m---------APOTHECARIES---------\\033[m')\n",
    "        print ('-' * 30)\n",
    "        print ('\\033[36m{} pt |{} copo de vidro |{} xícara de café da manhã |{} xícara de chá |{} taça de vinho |{} ƒ℥ |{} colher de sopa |{} colher de sobremesa |{} ƒʒ |{} colher de chá |{} minim |\\033[m'.format(ab, ac, ad, ae, af, ag, ah, ai, aj, ak, al))\n",
    "\n",
    "        print ('-' * 30)\n",
    "        print ('\\033[0;30;46m----------INGLATERRA----------\\033[m')\n",
    "        print ('-' * 30)\n",
    "        print ('\\033[36m{} perch |{} barril |{} bu |{} pk |{} gal |{} qt |{} pt |{} oz |{} fl dr |{} escrópulo líquido |{} min |\\033[m'.format(au, av, aw, ax, ay, az, ba, bb, bc, bd, be))\n",
    "\n",
    "        print ('-' * 30)\n",
    "        print ('\\033[0;30;46m--------EUA/INGLATERRA--------\\033[m')\n",
    "        print ('-' * 30)\n",
    "        print ('\\033[36m{} mi³ |{} mcf |{} yd³ |{} ccf |{} ft³ |{} in³ |\\033[m'.format(bf, bg, bh, bi, bj, bk))\n",
    "\n",
    "        print ('-' * 30)\n",
    "        print ('\\033[0;30;46m-------INGLATERRA|VINHO-------\\033[m')\n",
    "        print ('-' * 30)\n",
    "        print ('\\033[36m{} tun |{} butt |{} puncheon |{} hogsheads |{} tierce |{} barril |{} rundlet |\\033[m'.format(bl, bm, bn, bo, bp, bq, br))\n",
    "\n",
    "        print ('-' * 30)\n",
    "        print ('\\033[0;30;46m------INGLATERRA|CERVEJA------\\033[m')\n",
    "        print ('-' * 30)\n",
    "        print ('\\033[36m{} hogsheads |{} barril |{} kilderkin |{} firkin |{} pin |\\033[m'.format(bs, bt, bu, bv, bw))\n",
    "\n",
    "        print ('-' * 29)\n",
    "        print ('\\033[0;30;46m---------EUA|CERVEJA---------\\033[m')\n",
    "        print ('-' * 29)\n",
    "        print ('\\033[36m{} Barril de cerveja norte-americano |{} Meio-barril de cerveja norte-americano |{} Barrilete de cerveja norte-americano (típico) |{} Quarto de barril de cerveja norte-americano |\\033[m'.format(bx, by, bz, ca))\n",
    "\n",
    "        print ('-' * 29)\n",
    "        print ('\\033[0;30;46m--------EUA~CULINÁRIA--------\\033[m')\n",
    "        print ('-' * 29)\n",
    "        print ('\\033[36m{} xícara |{} colher de sopa |{} colher de chá |\\033[m'.format(cb, cc, cd))\n",
    "\n",
    "        print ('-' * 29)\n",
    "        print ('\\033[0;30;46m-----AUSTRÁLIA~CULINÁRIA-----\\033[m')\n",
    "        print ('-' * 29)\n",
    "        print ('\\033[36m{} colher de sopa |{} colher de sobremesa |{} colher de chá |\\033[m'.format(ce, cf, cg))\n",
    "\n",
    "        print ('-' * 29)\n",
    "        print ('\\033[0;30;46m----------CULINÁRIA----------\\033[m')\n",
    "        print ('-' * 29)\n",
    "        print ('\\033[36m{} xícara |{} colher de sopa |{} colher de chá |\\033[m'.format(ch, ci, cj))\n",
    "\n",
    "        print ('-' * 29)\n",
    "        print ('\\033[0;30;46m------UNIDADES NATURAIS------\\033[m')\n",
    "        print ('-' * 29)\n",
    "        print ('\\033[36m{} L³ |\\033[m'.format(ck))\n",
    "\n",
    "        print ('-' * 30)\n",
    "        print ('\\033[0;30;46m----------ASTRONOMIA----------\\033[m')\n",
    "        print ('-' * 30)\n",
    "        print ('\\033[36m{} pc³ |{} ano-luz cúbico |{} minuto-luz cúbico |{} segundo-luz cúbico |\\033[m'.format(cl, cm, cn, co))\n",
    "\n",
    "        print ('-' * 29)\n",
    "        print ('\\033[0;30;46m------------NAVAL------------\\033[m')\n",
    "        print ('-' * 29)\n",
    "        print ('\\033[36m{} arqueação |{} tonelada de registro |{} Sistema de Medição Universal do Canal do Panamá |\\033[m'.format(cp, cq, cr))\n",
    "\n",
    "        print ('-' * 29)\n",
    "        print ('\\033[0;30;46m-----------MADEIRA-----------\\033[m')\n",
    "        print ('-' * 29)\n",
    "        print ('\\033[36m{} milhão de board-feet (mmfbm, mmbdft, mmbf) |{} corda |{} mil board-feet (mfbm, mbdft, mbf) |{} HT |{} tonelada cúbica de madeira |{} estere |{} hoppus pé, hoppus ft³ (h ft) |{} board-foot (fbmm, bdft, bf) |\\033[m'.format(cs, ct, cu, cv, cw, cx, cy, cz))\n",
    "\n",
    "        print ('-' * 29)\n",
    "        print ('\\033[0;30;46m------------JAPÃO------------\\033[m')\n",
    "        print ('-' * 29)\n",
    "        print ('\\033[36m{} sai |{} shaku |{} go |{} sho |{} to |{} koku |\\033[m'.format(da, db, dc, dd, de, df))\n",
    "\n",
    "        print ('-' * 29)\n",
    "        print ('\\033[0;30;46m-------CHINA 1915#1930-------\\033[m')\n",
    "        print ('-' * 29)\n",
    "        print ('\\033[36m{} dan |{} hu |{} dou |{} sheng |{} ge |{} shao |\\033[m'.format(dg, dh, di, dj, dk, dl))\n",
    "\n",
    "        print ('-' * 29)\n",
    "        print ('\\033[0;30;46m-------CHINA 1930#HOJE-------\\033[m')\n",
    "        print ('-' * 29)\n",
    "        print ('\\033[36m{} dan |{} dou |{} sheng |{} ge |{} shao |{} cuo |\\033[m'.format(dm, dn, do, dp, dq, dr))\n",
    "\n",
    "        print ('-' * 29)\n",
    "        print ('\\033[0;30;46m----------TAILÂNDIA----------\\033[m')\n",
    "        print ('-' * 29)\n",
    "        print ('\\033[36m{} kwian |{} sat |{} thang |{} thanan |{} fai mue |{} kam mue |{} yip mue |\\033[m'.format(ds, dt, du, dv, dw, dx, dy))\n",
    "\n",
    "        print ('-' * 29)\n",
    "        print ('\\033[0;30;43m------GRÉCIA ÁTICO SECO------\\033[m')\n",
    "        print ('-' * 29)\n",
    "        print ('\\033[34m{} medimnos |{} hekteus |{} hēmiekton |{} choinix |{} xestēs |{} kotylē ou hēmina |{} oxybathon |{} kyathos |{} kochliarion |\\033[m'.format(dz, ea, eb, ec, ed, ee, ef, eg, eh))\n",
    "\n",
    "        print ('-' * 30)\n",
    "        print ('\\033[0;30;43m-----GRÉCIA ÁTICO LÍQUIDO-----\\033[m')\n",
    "        print ('-' * 30)\n",
    "        print ('\\033[34m{} metrētēs |{} keramion |{} chous |{} xestēs |{} kotylē, tryblion ou hēmina |{} tetarton, hēmikotylē |{} oxybathon |{} kyathos |{} konchē |{} mystron |{} chēmē |{} kochliarion |\\033[m'.format(ei, ej, ek, el, em, en, eo, ep, eq, er, es, et))\n",
    "\n",
    "        print ('-' * 30)\n",
    "        print ('\\033[0;30;43m-------------ROMA-------------\\033[m')\n",
    "        print ('-' * 30)\n",
    "        print ('\\033[34m{} culeus |{} amphora quadrantal |{} urna |{} modius castrensis |{} modius |{} semimodius |{} congius |{} sextarius |{} hemina |{} cotyla |{} triens |{} quartarius |{} sextans |{} acetabulum |{} cyathus |{} ligula |\\033[m'.format(eu, ev, ew, ex, ey, ez, fa, fb, fc, fd, fe, ff, fg, fh, fi, fj))\n",
    "\n",
    "        print ('-' * 29)\n",
    "        print ('\\033[0;30;43m-----ESPANHA ANTIGA SECO-----\\033[m')\n",
    "        print ('-' * 29)\n",
    "        print ('\\033[34m{} cahíz |{} fanega |{} cuartilla |{} celemín |{} medio |{} cuartillo |{} ochavo |\\033[m'.format(fk, fl, fm, fn, fo, fp, fq))\n",
    "\n",
    "        print ('-' * 30)\n",
    "        print ('\\033[0;30;43m----ESPANHA ANTIGA LÍQUIDO----\\033[m')\n",
    "        print ('-' * 30)\n",
    "        print ('\\033[34m{} moyo |{} cántara |{} arroba |{} azumbre |{} botella |{} cuartillo |{} copa |{} panilla |{} cortadillo |\\033[m'.format(fr, fs, ft, fu, fv, fw, fx, fy, fz))\n",
    "\n",
    "        print ('-' * 30)\n",
    "        print ('\\033[0;30;43m-----PORTUGAL ANTIGO SECO-----\\033[m')\n",
    "        print ('-' * 30)\n",
    "        print ('\\033[34m{} moio |{} fanga |{} alqueire |{} quarta |{} oitava |{} maquia |{} selamim |{} meio-selamim |{} quarto de selamim |\\033[m'.format(ga, gb, gc, gd, ge, gf, gg, gh, gi))\n",
    "\n",
    "        print ('-' * 29)\n",
    "        print ('\\033[0;30;43m---PORTUGAL ANTIGO LÍQUIDO---\\033[m')\n",
    "        print ('-' * 29)\n",
    "        print ('\\033[34m{} tonel |{} pipa |{} almude |{} cântaro |{} pote |{} canada |{} quartilho |{} meio-quartilho |{} quarto de quartilho |\\033[m'.format(gj, gk, gl, gm, gn, go, gp, gq, gr))\n",
    "\n",
    "        print ('-' * 30)\n",
    "        print ('\\033[0;30;43m--------FRANCÊS ANTIGO--------\\033[m')\n",
    "        print ('-' * 30)\n",
    "        print ('\\033[34m{} minot |{} litron |\\033[m'.format(gs, gt))\n",
    "\n",
    "        print ('-' * 30)\n",
    "        print ('\\033[0;30;43m------RÚSSIA ANTIGA SECA------\\033[m')\n",
    "        print ('-' * 30)\n",
    "        print ('\\033[34m{} cetverik |{} vedro |{} garnetz |\\033[m'.format(gu, gv, gw))\n",
    "\n",
    "        print ('-' * 29)\n",
    "        print ('\\033[0;30;43m----RÚSSIA ANTIGA LÍQUIDA----\\033[m')\n",
    "        print ('-' * 29)\n",
    "        print ('\\033[34m{} vedro |{} shtoff |{} chetvert |{} garrafa de vinho |{} garrafa de vodca |{} charka |{} shkalik |\\033[m'.format(gx, gy, gz, ha, hb, hc, hd))\n",
    "\n",
    "        print ('-' * 29)\n",
    "        print ('\\033[0;30;42m---------BÍBLIA SECO---------\\033[m')\n",
    "        print ('-' * 29)\n",
    "        print ('\\033[35m{} coro |{} letec |{} efa |{} seá |{} cabe |{} log |{} bezah |{} kezayit |\\033[m'.format(he, hf, hg, hh, hi, hj, hk, hl))\n",
    "\n",
    "        print ('-' * 30)\n",
    "        print ('\\033[0;30;42m--------BÍBLIA LÍQUIDO--------\\033[m')\n",
    "        print ('-' * 30)\n",
    "        print ('\\033[35m{} bato |{} him |{} log |\\033[m'.format(hm, hn, ho))\n",
    "\n",
    "        print ('\\033[36mA CATEC agradece a sua consulta!\\033[m')\n",
    "    case \"3\":\n",
    "        n1 = float(input ('Digite um valor em \\033[32mkm\\033[m: '))\n",
    "        a = n1\n",
    "        b = n1 * 10\n",
    "        c = n1 * 100\n",
    "        d = n1 * 1000\n",
    "        e = n1 * 10000\n",
    "        f = n1 * 100000\n",
    "        g = n1 * 1000000\n",
    "        h = n1 * 1000000000\n",
    "        i = n1 * 1000000000000\n",
    "        j = n1 * 10000000000000\n",
    "\n",
    "        k = n1 / 10000 * 2071\n",
    "        l = n1 / 10000 * 6214\n",
    "        m = n1 / 10000 * 6214\n",
    "        n = n1 / 1000 * 4971\n",
    "        o = n1 / 100 * 2734 \n",
    "        p = n1 / 100 * 4971\n",
    "        q = n1 / 10 * 1988\n",
    "        r = n1 / 10 * 1988\n",
    "        s = n1 / 10 * 1988\n",
    "        t = n1 * 1094\n",
    "        u = n1 * 3281\n",
    "        v = n1 * 4374\n",
    "        w = n1 * 9843\n",
    "        x = n1 * 39370\n",
    "        y = n1 * 472441\n",
    "        z = n1 * 39370079\n",
    "        aa = n1 * 39370078740\n",
    "\n",
    "        ab = n1 / 10000 * 2071\n",
    "        ac = n1 / 10000 * 6214\n",
    "        ad = n1 / 10000 * 6214\n",
    "        ae = n1 / 1000 * 9113\n",
    "        af = n1 / 100 * 2734\n",
    "        ag = n1 / 100 * 3645\n",
    "        ah = n1 / 1000 * 4971\n",
    "        ai = n1 / 100 * 4971\n",
    "        aj = n1 * 164\n",
    "        ak = n1 / 10 * 1988\n",
    "        al = n1 / 10 * 7291\n",
    "        au = n1 / 10 * 8749\n",
    "        av = n1 * 1094\n",
    "        aw = n1 * 1312\n",
    "        ax = n1 * 2187\n",
    "        ay = n1 * 3281\n",
    "        az = n1 * 4374\n",
    "        ba = n1 * 4374\n",
    "        bb = n1 * 6562\n",
    "        bc = n1 * 9843\n",
    "        bd = n1 * 13123\n",
    "        be = n1 * 39370\n",
    "        bf = n1 * 44994\n",
    "        bg = n1 * 52494\n",
    "        bh = n1 * 118110\n",
    "        bi = n1 * 472441\n",
    "        bj = n1 * 472441\n",
    "        bk = n1 * 472441\n",
    "        bl = n1 * 3937015\n",
    "        bm = n1 * 39370147\n",
    "        bn = n1 * 39370147\n",
    "\n",
    "        bo = n1 / 1000 * 4971\n",
    "        bp = n1 / 100 * 3281\n",
    "        bq = n1 / 100 * 4971\n",
    "        br = n1 / 100 * 9942\n",
    "        bs = n1 / 10 * 1988\n",
    "        bt = n1 * 1094\n",
    "        bu = n1 * 3281\n",
    "        bv = n1 * 4971\n",
    "        bw = n1 * 4971\n",
    "        bx = n1 * 3281\n",
    "\n",
    "        by = n1 / 100 * 18\n",
    "        bz = n1 / 100 * 54\n",
    "        ca = n1 / 10 * 54\n",
    "        cb = n1 / 10 * 5468\n",
    "\n",
    "        cc = n1 / 10000 * 5396\n",
    "        cd = n1 / 1000 * 4557\n",
    "        ce = n1 / 10 * 5468\n",
    "\n",
    "        cf = n1 / 10000 * 5396\n",
    "        cg = n1 / 1000 * 5396\n",
    "\n",
    "        ch = n1 / 1000 * 7698\n",
    "        ci = n1 * 10\n",
    "        cj = n1 / 1000 * 7975\n",
    "        ck = n1 / 10 * 125\n",
    "        cl = n1 / 10 * 119\n",
    "        cm = n1 / 10 * 119\n",
    "        cn = n1 / 100 * 1154\n",
    "        co = n1 / 100 * 1164\n",
    "        cp = n1 * 1155\n",
    "        cq = n1 / 10 * 9091\n",
    "        cr = n1 * 1196\n",
    "        cs = n1 * 1250\n",
    "        ct = n1 * 1196\n",
    "        cu = n1 * 1179\n",
    "        cv = n1 * 1196\n",
    "        cw = n1 * 1190\n",
    "        cx = n1 * 1193\n",
    "        cy = n1 * 1190\n",
    "        cz = n1 * 1198\n",
    "        da = n1 * 1193\n",
    "        db = n1 * 1190\n",
    "        dc = n1 * 1250\n",
    "        dd = n1 * 1151\n",
    "        de = n1 * 1193\n",
    "        df = n1 * 1196\n",
    "        dg = n1 * 1164\n",
    "        dh = n1 * 1190\n",
    "        di = n1 * 1196\n",
    "\n",
    "        dj = n1 / 10000 * 2546\n",
    "        dk = n1 / 1000 * 9167\n",
    "        dl = n1 * 330\n",
    "        dm = n1 * 550\n",
    "        dn = n1 * 550\n",
    "        do = n1 * 3300\n",
    "        dp = n1 * 33000\n",
    "        dq = n1 * 330000\n",
    "        dr = n1 * 3300000\n",
    "        ds = n1 * 33000000\n",
    "\n",
    "        dt = n1 / 10 * 1736\n",
    "        du = n1 / 100 * 3125\n",
    "        dv = n1 / 10 * 3125\n",
    "        dw = n1 * 625\n",
    "        dx = n1 * 3125\n",
    "        dy = n1 * 31250\n",
    "        dz = n1 * 312500\n",
    "        ea = n1 * 3125000\n",
    "        eb = n1 * 31250000\n",
    "        ec = n1 * 312500000\n",
    "        ed = n1 * 3125000000\n",
    "\n",
    "        ee = n1 * 2\n",
    "        ef = n1 * 30\n",
    "        eg = n1 * 300\n",
    "        eh = n1 * 3000\n",
    "        ei = n1 * 30000\n",
    "        ej = n1 * 300000\n",
    "        ek = n1 * 3000000\n",
    "        el = n1 * 30000000\n",
    "        em = n1 * 300000000\n",
    "        en = n1 * 3000000000\n",
    "        eo = n1 * 3000000\n",
    "\n",
    "        ep = n1 * 2692\n",
    "        eq = n1 * 26920\n",
    "        er = n1 * 269197\n",
    "\n",
    "        es = n1 / 10000 * 625\n",
    "        et = n1 * 25\n",
    "        eu = n1 * 500\n",
    "        ev = n1 * 2000\n",
    "        ew = n1 * 4000\n",
    "        ex = n1 * 48000\n",
    "        ey = n1 * 192000\n",
    "\n",
    "        ez = n1 / 1000\n",
    "\n",
    "        fa = n1 / 10000 * 1348\n",
    "\n",
    "        fb = n1 * 22497\n",
    "        fc = n1 * 196850\n",
    "\n",
    "        fd = n1 * 236220\n",
    "        fe = n1 * 236220\n",
    "        ff = n1 * 2834646\n",
    "        fg = n1 * 2834646\n",
    "        fh = n1 * 3779528\n",
    "        fi = n1 * 56692913\n",
    "\n",
    "        fj = n1 * 221648\n",
    "        fk = n1 * 2659776\n",
    "\n",
    "        fl = n1 * 150000\n",
    "\n",
    "        fm = n1 / 1000000000000000000000000000 * 7676\n",
    "        fn = n1 / 100000000000000000 * 3241\n",
    "        fo = n1 / 10000000000000000 * 1057\n",
    "        fp = n1 / 1000000000000 * 6685\n",
    "        fq = n1 / 100000000000 * 5559\n",
    "        fr = n1 / 1000000000 * 3336\n",
    "\n",
    "        fs = n1 * 3336\n",
    "        ft = n1 * 3336\n",
    "        fu = n1 * 3335641\n",
    "\n",
    "        fv = n1 / 10000000000000000000000000000000000000000 * 6187\n",
    "\n",
    "        fw = n1 / 100000 * 9524\n",
    "        fx = n1 / 100 * 1905\n",
    "        fy = n1 * 1778\n",
    "        fz = n1 * 1905\n",
    "        ga = n1 * 2222\n",
    "        gb = n1 * 2667\n",
    "        gc = n1 * 3333\n",
    "        gd = n1 * 3810\n",
    "        ge = n1 * 4444\n",
    "        gf = n1 * 8889\n",
    "        gg = n1 * 10667\n",
    "        gh = n1 * 13333\n",
    "        gi = n1 * 53333\n",
    "\n",
    "        gj = n1 / 10000 * 1349\n",
    "        gk = n1 / 10000 * 1799\n",
    "        gl = n1 / 10000 * 4498\n",
    "        gm = n1 / 10000 * 6747\n",
    "        gn = n1 / 1000 * 1349\n",
    "        go = n1 / 1000 * 2699\n",
    "        gp = n1 / 1000 * 5397\n",
    "        gq = n1 / 1000 * 5201\n",
    "        gr = n1 / 1000 * 5406\n",
    "        gs = n1 / 1000 * 5405\n",
    "        gt = n1 / 100 * 3238\n",
    "        gu = n1 / 100 * 5397\n",
    "        gv = n1 / 10 * 3238\n",
    "        gw = n1 / 10 * 3238\n",
    "        gx = n1 / 10 * 3238\n",
    "        gy = n1 / 10 * 5397\n",
    "        gz = n1 / 10 * 6477\n",
    "        ha = n1 * 1295\n",
    "        hb = n1 * 2159\n",
    "        hc = n1 * 2591\n",
    "        hd = n1 * 2879\n",
    "        he = n1 * 3238\n",
    "        hf = n1 * 4318\n",
    "        hg = n1 * 4710\n",
    "        hh = n1 * 5181\n",
    "        hi = n1 * 6477\n",
    "        hj = n1 * 6477\n",
    "        hk = n1 * 12953\n",
    "        hl = n1 * 12953\n",
    "        hm = n1 * 25907\n",
    "        hn = n1 * 51813\n",
    "\n",
    "        ho = n1 / 10000 * 1689\n",
    "        hp = n1 / 10000 * 4505\n",
    "        hq = n1 / 10000 * 6757\n",
    "        hr = n1 / 1000 * 5405\n",
    "        hs = n1 / 100 * 2815\n",
    "        ht = n1 / 10 * 3378\n",
    "        hu = n1 / 10 * 3378\n",
    "        hv = n1 / 10 * 6757\n",
    "        hw = n1 * 1351\n",
    "        hx = n1 * 1351\n",
    "        hy = n1 * 2252\n",
    "        hz = n1 * 2703\n",
    "        ia = n1 * 3378\n",
    "        ib = n1 * 4505\n",
    "        ic = n1 * 13514\n",
    "        id = n1 * 40541\n",
    "        ie = n1 * 40541\n",
    "        ig = n1 * 54054\n",
    "\n",
    "        ih = n1 / 10000 * 1495\n",
    "        ii = n1 / 10000 * 1794\n",
    "        ij = n1 / 10000 * 2393\n",
    "        ik = n1 / 10000 * 5383\n",
    "        il = n1 / 10000 * 7178\n",
    "        im = n1 / 100 * 2991\n",
    "        io = n1 * 145\n",
    "        ip = n1 / 10 * 2991\n",
    "        iq = n1 / 10 * 2991 * 2\n",
    "        ir = n1 / 10 * 7178\n",
    "        it = n1 * 1196\n",
    "        iu = n1 * 1794\n",
    "        iv = n1 * 2393\n",
    "        iw = n1 * 3589\n",
    "        ix = n1 * 4785\n",
    "        iy = n1 * 9570\n",
    "        iz = n1 * 43067\n",
    "        ja = n1 * 516805\n",
    "        jb = n1 * 6201662\n",
    "\n",
    "        jc = n1 / 10 * 4545\n",
    "        jd = n1 / 10 * 7576\n",
    "        je = n1 / 10 * 6061\n",
    "        jf = n1 / 10 * 9091\n",
    "        jg = n1 * 1515\n",
    "        jh = n1 * 1515 * 2\n",
    "        ji = n1 * 1515 * 3\n",
    "        jj = n1 * 36364\n",
    "        jk = n1 * 436364\n",
    "        jl = n1 * 5236364\n",
    "\n",
    "        jm = n1 / 10000 * 2246\n",
    "        jn = n1 / 10000 * 2252\n",
    "        jo = n1 / 10000 * 2565\n",
    "        jp = n1 / 100 * 25\n",
    "        jq = n1 / 10 * 171\n",
    "        jr = n1 * 171\n",
    "        js = n1 / 10 * 5131\n",
    "        jt = n1 * 3078\n",
    "        ju = n1 * 36941\n",
    "        jv = n1 * 443295\n",
    "\n",
    "        jw = n1 / 10000 * 1339\n",
    "        jx = n1 / 10000 * 9374\n",
    "        jy = n1 / 10000 * 4687\n",
    "        jz = n1 / 10 * 4032\n",
    "        ka = n1 / 10 * 4687\n",
    "        kb = n1 / 10 * 5682\n",
    "        kc = n1 * 1406\n",
    "        kd = n1 * 2381\n",
    "        ke = n1 * 3281\n",
    "        kf = n1 * 5624\n",
    "        kg = n1 * 22497\n",
    "        kh = n1 * 39370\n",
    "        ki = n1 * 393701\n",
    "\n",
    "        kj = n1 / 10000 * 1328\n",
    "        kk = n1 / 10 * 2655\n",
    "        kl = n1 * 1499\n",
    "        km = n1 * 3186\n",
    "        kn = n1 * 38233\n",
    "        ko = n1 * 458793\n",
    "\n",
    "        kp = n1 / 10000 * 1318\n",
    "        kq = n1 / 10 * 2636\n",
    "        kr = n1 / 10 * 5273\n",
    "        ks = n1 * 3164\n",
    "        kt = n1 * 37965\n",
    "        ku = n1 * 455581\n",
    "        kv = n1 * 5466970\n",
    "\n",
    "        kw = n1 / 10\n",
    "        kx = n1 / 100000 * 9356\n",
    "        ky = n1 / 10000 * 3742\n",
    "        kz = n1 / 100 * 2105\n",
    "        la = n1 / 100 * 3368\n",
    "        lb = n1 / 10 * 2105\n",
    "        lc = n1 / 10 * 5614\n",
    "        ld = n1 * 1684\n",
    "        le = n1 * 3368\n",
    "        lf = n1 * 6736\n",
    "        lg = n1 * 10104\n",
    "        lh = n1 * 40418\n",
    "        li = n1 * 33681\n",
    "        lj = n1 * 485012\n",
    "        lk = n1 * 404176\n",
    "\n",
    "        ll = n1 * 2187\n",
    "        lm = n1 * 4374\n",
    "        ln = n1 * 13123\n",
    "        lo = n1 * 52493\n",
    "        print ('-' * 30)\n",
    "        print ('\\033[0;30;46m-------MEDIDAS MÉTRICAS-------\\033[m')\n",
    "        print ('-' * 30)\n",
    "        print ('\\033[36m{} km |{} hm |{} dam |{} m |{} dm |{} cm |{} mm |{} mícron |{} nm |{} Å|\\033[m'.format(a, b, c, d, e, f, g, h, i, j))\n",
    "\n",
    "        print ('-' * 30)\n",
    "        print ('\\033[0;30;46m-------EUA E INGLATERRA-------\\033[m')\n",
    "        print ('-' * 30)\n",
    "        print ('\\033[36m{} légua |{} mi |{} land |{} furlong |{} bolt |{} chain |{} pole |{} rd |{} perch |{} yd |{} ft |{} palmo |{} hand |{} in |{} linha |{} mil |{} micropolegada |\\033[m'.format(k, l, m, n, o, p, q, r, s, t, u, v, w, x, y, z, aa))\n",
    "\n",
    "        print ('-' * 30)\n",
    "        print ('\\033[0;30;46m----------INGLATERRA----------\\033[m')\n",
    "        print ('-' * 30)\n",
    "        print ('\\033[36m{} légua |{} mi |{} land |{} skein |{} bolt |{} shackle |{} furlong |{} corrente |{} rope |{} pole |{} goad |{} ell |{} yd |{} ritmo |{} côvado |{} ft |{} palmo |{} nail |{} shaftment |{} hd |{} plm |{} in |{} finger |{} digitus |{} grãos de cevada |{} sementes de papoula |{} linha |{} botão |{} calibre |{} thou |{} mil |\\033[m'.format(ab, ac, ad, ae, af, ag, ah, ai, aj, ak, al, au, av, aw, ax, ay, az, ba, bb, bc, bd, be, bf, bg, bh, bi, bj, bk, bl, bm, bn))\n",
    "\n",
    "        print ('-' * 29)\n",
    "        print ('\\033[0;30;46m-----AGRIMENSURA DOS EUA-----\\033[m')\n",
    "        print ('-' * 29)\n",
    "        print ('\\033[36m{} furlong |{} corrente de ramsden - engenharia |{} corrente de gunter - agrimensor |{} corrente de gurley |{} pole de gunter |{} yard de gunter |{} link de ramsden |{} link de gunter |{} link de gurley |{} pé de gunter |\\033[m'.format(bo, bp, bq, br, bs, bt, bu, bv, bw, bx))\n",
    "\n",
    "        print ('-' * 29)\n",
    "        print ('\\033[0;30;46m-----------NÁUTICA-----------\\033[m')\n",
    "        print ('-' * 29)\n",
    "        print ('\\033[36m{} naut.leg |{} naut.mi |{} cbl |{} fath |\\033[m'.format(by, bz, ca, cb))\n",
    "\n",
    "        print ('-' * 29)\n",
    "        print ('\\033[0;30;46m---------NÁUTICA EUA---------\\033[m')\n",
    "        print ('-' * 29)\n",
    "        print ('\\033[36m{} milha marítima norte-americana |{} cabo norte-americano |{} fath |\\033[m'.format(cc, cd, ce))\n",
    "\n",
    "        print ('-' * 30)\n",
    "        print ('\\033[0;30;46m------NÁUTICA INGLATERRA------\\033[m')\n",
    "        print ('-' * 30)\n",
    "        print ('\\033[36m{} mira do almirantado |{} cabo do almirantado |\\033[m'.format(cf, cg))\n",
    "\n",
    "        print ('-' * 29)\n",
    "        print ('\\033[0;30;46m-----------ESPANHA-----------\\033[m')\n",
    "        print ('-' * 29)\n",
    "        print ('\\033[36m{} cuadra da Argentina |{} cuadra da Bolívia |{} cuadra do Chile |{} cuadra da Colômbia |{} cuadra do Equador |{} cuadra da Nicarágua |{} cuadra do Paraguai |{} cuadra do Uruguai |{} vara da Argentina |{} vara do Brasil |{} vara do Chile |{} vara da Colômbia |{} vara da Costa Rica |{} vara de Cuba |{} vara da República Dominicana |{} vara do Equador |{} vara de El Salvador |{} vara da Guatemala |{} vara de Honduras |{} vara do México |{} vara da Nicarágua |{} vara do Panamá |{} vara do Paraguai |{} vara do Peru - peruano |{} vara do Peru - espanhol |{} vara do Uruguai |{} vara de São Tomé e Príncipe |{} vara da Venezuela |\\033[m'.format(ch, ci, cj, ck, cl, cm, cn, co, cp, cq, cr, cs, ct, cu, cv, cw, cx, cy, cz, da, db, dc, dd, de, df, dg, dh, di))\n",
    "\n",
    "        print ('-' * 29)\n",
    "        print ('\\033[0;30;46m------------JAPÃO------------\\033[m')\n",
    "        print ('-' * 29)\n",
    "        print ('\\033[36m{} ri |{} cho |{} jo |{} hiro |{} ken |{} shaku |{} sun |{} bu |{} rin |{} mo |\\033[m'.format(dj, dk, dl, dm, dn, do, dp, dq, dr, ds))\n",
    "\n",
    "        print ('-' * 29)\n",
    "        print ('\\033[0;30;46m-------CHINA 1915#1930-------\\033[m')\n",
    "        print ('-' * 29)\n",
    "        print ('\\033[36m{} li - ⾥ |{} yin |{} zhang |{} bu |{} chi |{} cun |{} fen |{} li - 㢆 ou 釐 |{} hao |{} si |{} hu |\\033[m'.format(dt, du, dv, dw, dx, dy, dz, ea, eb, ec, ed))\n",
    "\n",
    "        print ('-' * 29)\n",
    "        print ('\\033[0;30;46m-------CHINA 1930#HOJE-------\\033[m')\n",
    "        print ('-' * 29)\n",
    "        print ('\\033[36m{} li - ⾥ |{} yin |{} zhang |{} chi |{} cun |{} fen |{} li - 㢆 |{} hao |{} si |{} hu |{} li - 釐 |\\033[m'.format(ee, ef, eg, eh, ei, ej, ek, el, em, en, eo))\n",
    "\n",
    "        print ('-' * 29)\n",
    "        print ('\\033[0;30;46m----------HONG KONG----------\\033[m')\n",
    "        print ('-' * 29)\n",
    "        print ('\\033[36m{} cek |{} tsun |{} fan |\\033[m'.format(ep, eq, er))\n",
    "\n",
    "        print ('-' * 29)\n",
    "        print ('\\033[0;30;46m----------TAILÂNDIA----------\\033[m')\n",
    "        print ('-' * 29)\n",
    "        print ('\\033[36m{} yot |{} sen |{} wa |{} sok |{} khuep |{} nio |{} krabiat |\\033[m'.format(es, et, eu, ev, ew, ex, ey))\n",
    "\n",
    "        print ('-' * 30)\n",
    "        print ('\\033[0;30;46m------------ÓPTICA------------\\033[m')\n",
    "        print ('-' * 30)\n",
    "        print ('\\033[36m{} dioptria |\\033[m'.format(ez))\n",
    "\n",
    "        print ('-' * 29)\n",
    "        print ('\\033[0;30;46m-------GEOGRAFIA ALEMÃ-------\\033[m')\n",
    "        print ('-' * 29)\n",
    "        print ('\\033[36m{} milha geográfica |\\033[m'.format(fa))\n",
    "\n",
    "        print ('-' * 30)\n",
    "        print ('\\033[0;30;46m----------COMPUTAÇÃO----------\\033[m')\n",
    "        print ('-' * 30)\n",
    "        print ('\\033[36m{} U |{} HP |\\033[m'.format(fb, fc))\n",
    "\n",
    "        print ('-' * 29)\n",
    "        print ('\\033[0;30;46m-------------ATA-------------\\033[m')\n",
    "        print ('-' * 29)\n",
    "        print ('\\033[36m{} paica |{} paica - PostScript |{} ponto |{} ponto - PostScript |{} px |{} twip |\\033[m'.format(fd, fe, ff, fg, fh, fi))\n",
    "\n",
    "        print ('-' * 29)\n",
    "        print ('\\033[0;30;46m------------DIDOT------------\\033[m')\n",
    "        print ('-' * 29)\n",
    "        print ('\\033[36m{} cícero |{} ponto |\\033[m'.format(fj, fk))\n",
    "\n",
    "        print ('-' * 29)\n",
    "        print ('\\033[0;30;46m-------CALÇADO EUROPEU-------\\033[m')\n",
    "        print ('-' * 29)\n",
    "        print ('\\033[36m{} ponto parisiense |\\033[m'.format(fl))\n",
    "\n",
    "        print ('-' * 30)\n",
    "        print ('\\033[0;30;46m----------ASTRONOMIA----------\\033[m')\n",
    "        print ('-' * 30)\n",
    "        print ('\\033[36m{} z |{} pc |{} ano-luz |{} au |{} minuto-luz |{} segundo-luz |\\033[m'.format(fm, fn, fo, fp, fq, fr))\n",
    "\n",
    "        print ('-' * 30)\n",
    "        print ('\\033[0;30;46m---------GRACE HOPPER---------\\033[m')\n",
    "        print ('-' * 30)\n",
    "        print ('\\033[36m{} microssegundo-luz |{} nanossegundo-luz |{} picossegundo-luz |\\033[m'.format(fs, ft, fu))\n",
    "\n",
    "        print ('-' * 30)\n",
    "        print ('\\033[0;30;46m-----------NATURAIS-----------\\033[m')\n",
    "        print ('-' * 30)\n",
    "        print ('\\033[36m{} L |\\033[m'.format(fv))\n",
    "\n",
    "        print ('-' * 29)\n",
    "        print ('\\033[0;30;43m------------EGITO------------\\033[m')\n",
    "        print ('-' * 29)\n",
    "        print ('\\033[34m{} iteru |{} knet |{} nbiw |{} meh niswt |{} meh nedjes |{} remen |{} djeser |{} pedj-aa |{} pedj-sheser |{} amem |{} deret |{} shesep |{} djeba |\\033[m'.format(fw, fx, fy, fz, ga, gb, gc, gd, ge, gf, gg, gh, gi))\n",
    "\n",
    "        print ('-' * 30)\n",
    "        print ('\\033[0;30;43m------------GRÉCIA------------\\033[m')\n",
    "        print ('-' * 30)\n",
    "        print ('\\033[34m{} schoinos |{} parasanges |{} dolichos |{} mílion |{} hippikon |{} diaulos |{} stadion |{} estádio olímpico |{} estádio ático |{} estádio ptolemaico |{} plethron |{} hamma |{} dekapous |{} akaina |{} kalamos |{} orgyia |{} diploun bēma |{} haploun bēma |{} pēchys |{} pygōn |{} pygmē |{} pous |{} spithamē |{} orthodōron |{} lichas |{} hemipodion |{} dichas |{} dōron |{} palaiste |{} kondylos |{} daktylos |\\033[m'.format(gj, gk, gl, gm, gn, go, gp, gq, gr, gs, gt, gu, gv, gw, gx, gy, gz, ha, hb, hc, hd, he, hf, hg, hh, hi, hj, hk, hl, hm, hn))\n",
    "\n",
    "        print ('-' * 30)\n",
    "        print ('\\033[0;30;43m-------------ROMA-------------\\033[m')\n",
    "        print ('-' * 30)\n",
    "        print ('\\033[34m{} schœnus |{} leuga |{} mille passus |{} stadium |{} actus |{} decempada |{} pertica |{} passus |{} pes sestertius |{} gradus |{} cubitus |{} palmipes |{} pes |{} palmus major |{} palmus |{} uncia |{} pollex |{} digitus |\\033[m'.format(ho, hp, hq, hr, hs, ht, hu, hv, hw, hx, hy, hz, ia, ib, ic, id, ie, ig))\n",
    "\n",
    "        print ('-' * 30)\n",
    "        print ('\\033[0;30;43m--------ESPANHA ANTIGA--------\\033[m')\n",
    "        print ('-' * 30)\n",
    "        print ('\\033[34m{} legua de por grado |{} legua marina |{} legua |{} milla marina |{} milla |{} cuerda de Valencia |{} cuerda |{} estadal |{} braza |{} paso |{} vara |{} codo de ribera |{} codo |{} pie |{} palmo |{} coto |{} pulgada |{} linea |{} punto |\\033[m'.format(ih, ii, ij, ik, il, im, io, ip, iq, ir, it, iu, iv, iw, ix, iy, iz, ja, jb))\n",
    "\n",
    "        print ('-' * 29)\n",
    "        print ('\\033[0;30;43m-------PORTUGAL ANTIGO-------\\033[m')\n",
    "        print ('-' * 29)\n",
    "        print ('\\033[34m{} braça |{} toesa |{} passo geométrico |{} vara |{} côvado |{} pé |{} palmo de craveira |{} polegada |{} linha |{} ponto |\\033[m'.format(jc, jd, je, jf, jg, jh, ji, jj, jk, jl))\n",
    "\n",
    "        print ('-' * 30)\n",
    "        print ('\\033[0;30;43m--------FRANCÊS ANTIGO--------\\033[m')\n",
    "        print ('-' * 30)\n",
    "        print ('\\033[34m{} lieue commune |{} lieue marine |{} lieue de post |{} lieue metrique |{} arpent |{} perche |{} toise |{} pied |{} pouce |{} ligne |\\033[m'.format(jm, jn, jo, jp, jq, jr, js, jt, ju, jv))\n",
    "\n",
    "        print ('-' * 29)\n",
    "        print ('\\033[0;30;43m--------RÚSSIA ANTIGA--------\\033[m')\n",
    "        print ('-' * 29)\n",
    "        print ('\\033[34m{} milha |{} verst |{} mezhevaya verst |{} kosaya sazhen |{} sazhen |{} makhovaya sazhen |{} arshin |{} lokot |{} pé |{} pyad |{} vershok |{} polegada |{} linha |\\033[m'.format(jw, jx, jy, jz, ka, kb, kc, kd, ke, kf, kg, kh, ki))\n",
    "\n",
    "        print ('-' * 29)\n",
    "        print ('\\033[0;30;43m-----------PRÚSSIA-----------\\033[m')\n",
    "        print ('-' * 29)\n",
    "        print ('\\033[34m{} meile |{} ruthe |{} elle |{} fuss |{} zoll |{} linie |\\033[m'.format(kj, kk, kl, km, kn, ko))\n",
    "\n",
    "        print ('-' * 30)\n",
    "        print ('\\033[0;30;43m--------ÁUSTRIA ANTIGA--------\\033[m')\n",
    "        print ('-' * 30)\n",
    "        print ('\\033[34m{} meile |{} ruthe |{} klafner |{} fuss |{} zoll |{} linie |{} punkt |\\033[m'.format(kp, kq, kr, ks, kt, ku, kv))\n",
    "\n",
    "        print ('-' * 29)\n",
    "        print ('\\033[0;30;43m--------SUÉCIA ANTIGA--------\\033[m')\n",
    "        print ('-' * 29)\n",
    "        print ('\\033[34m{} nymil |{} milha |{} fjärdingsväg |{} rev anterior a 1855 |{} rev posterior a 1855 |{} stång |{} famn |{} aln |{} fot |{} kvarter |{} tvärhand |{} tum anterior a 1855 |{} tum posterior a 1855 |{} linje anterior a 1855 |{} linje posterior a 1855 |\\033[m'.format(kw, kx, ky, kz, la, lb, lc, ld, le, lf, lg, lh, li, lj, lk))\n",
    "\n",
    "        print ('-' * 30)\n",
    "        print ('\\033[4;30;42m------------BÍBLIA------------\\033[m')\n",
    "        print ('-' * 30)\n",
    "        print ('\\033[35m{} côvado |{} palmo |{} tephach |{} etzbah |\\033[m'.format(ll, lm, ln, lo))\n",
    "\n",
    "        print ('\\033[36mA CATEC agradece a sua consulta!\\033[m')\n",
    "    case \"4\":\n",
    "        n1 = float(input ('Digite um valor em \\033[32mkg\\033[m: '))\n",
    "        a = n1 / 1000000\n",
    "        b = n1 / 1000\n",
    "        c = n1 \n",
    "        d = n1 * 1000\n",
    "        e = n1 * 100000\n",
    "        f = n1 * 1000000\n",
    "        g = n1 * 1000000000\n",
    "        h = n1 / 1000 * 9807\n",
    "        i = n1 / 1000000 * 9807\n",
    "        j = n1 * 5000\n",
    "        k = n1 / 100\n",
    "        l = n1 / 100\n",
    "        m = n1 * 602214129011674000000000000\n",
    "        n = n1 / 100000 * 6808\n",
    "        o = n1 / 100000 * 1261 \n",
    "        p = n1 / 100000 * 6808 / 4\n",
    "        q = n1 / 100000 * 6808 * 32\n",
    "        r = n1 / 100000 * 6808 * 128\n",
    "        s = n1 / 100000 * 6808 * 512\n",
    "        t = n1 / 100000 * 6808 * 4096\n",
    "        u = n1 / 100000 * 6808 * 12288\n",
    "        v = n1 / 100000 * 6808 * 294912\n",
    "        w = n1 / 1000000 * 3623\n",
    "        x = n1 / 100000 * 3212\n",
    "        y = n1 / 100000 * 2415\n",
    "        z = n1 / 100000 * 3105\n",
    "        aa = n1 / 100000 * 3623\n",
    "        ab = n1 / 10000 * 1449\n",
    "        ac = n1 / 1000 * 2174\n",
    "        ad = n1 / 1000 * 2174 * 2\n",
    "        ae = n1 / 1000 * 2174 * 4\n",
    "        af = n1 / 1000 * 2174 * 16\n",
    "        ag = n1 / 1000 * 2174 * 128\n",
    "        ah = n1 / 1000 * 2174 * 256\n",
    "        ai = n1 / 1000 * 2174 * 9216\n",
    "        aj = n1 / 100000 * 2043\n",
    "        ak = n1 / 1000 * 2043\n",
    "        al = n1 / 1000000 * 6105\n",
    "        au = n1 / 1000000 * 6105 * 10\n",
    "        av = n1 / 1000000 * 6105 * 400\n",
    "        aw = n1 / 1000000 * 6105 * 12800\n",
    "        ax = n1 / 1000000 * 6105 * 38400\n",
    "        ay = n1 / 1000000 * 6105 * 3686400\n",
    "        az = n1 / 1000000 * 6479\n",
    "        ba = n1 / 1000000 * 9719\n",
    "        bb = n1 / 100000 * 1944\n",
    "        bc = n1 / 100000 * 9719\n",
    "        bd = n1 / 1000 * 2138\n",
    "        be = n1 / 1000 * 2138 * 2\n",
    "        bf = n1 / 100 * 3421\n",
    "        bg = n1 / 100 * 3421 * 2\n",
    "        bh = n1 / 10 * 2053\n",
    "        bi = n1 / 10 * 2737\n",
    "        bj = n1 * 1095\n",
    "        bk = n1 * 16420\n",
    "        bl = n1 / 1000000 * 4464\n",
    "        bm = n1 / 1000000 * 6493\n",
    "        bn = n1 / 100000 * 1786\n",
    "        bo = n1 / 100000 * 8117\n",
    "        bp = n1 / 1000 * 1786\n",
    "        bq = n1 / 1000 * 1786 * 2\n",
    "        br = n1 / 1000 * 1786 * 4\n",
    "        bs = n1 / 1000 * 1786 * 16\n",
    "        bt = n1 / 100 * 6842\n",
    "        bu = n1 / 100 * 6842 * 4\n",
    "        bv = n1 / 100 * 6842 * 16\n",
    "        bw = n1 / 1000000 * 5881\n",
    "        bx = n1 / 1000000 * 5881 * 20\n",
    "        by = n1 / 1000 * 196\n",
    "        bz = n1 / 1000000 * 5881 * 400\n",
    "        ca = n1 / 1000000 * 5881 * 800\n",
    "        cb = n1 / 1000000 * 5881 * 40000\n",
    "        cc = n1 / 1000000 * 1102\n",
    "        cd = n1 / 1000000 * 1102 * 2000\n",
    "        ce = n1 / 1000000 * 1102 * 32000\n",
    "        cf = n1 / 10 * 2746\n",
    "        cg = n1 * 5217\n",
    "        ch = n1 / 100000 * 2939\n",
    "        ci = n1 / 100000 * 2939 * 60\n",
    "        cj = n1 / 100000 * 2939 * 3000\n",
    "        ck = n1 / 100000 * 2939 * 4500\n",
    "        cl = n1 / 100000 * 2939 * 6000\n",
    "        cm = n1 / 100000 * 2939 * 60000\n",
    "        cn = n1 / 100 * 3649 / 12\n",
    "        co = n1 / 100 * 3649\n",
    "        cp = n1 / 100 * 3649 * 2\n",
    "        cq = n1 / 100 * 3649 * 3\n",
    "        cr = n1 / 100 * 3649 * 4\n",
    "        cs = n1 / 100 * 3649 * 6\n",
    "        ct = n1 / 100 * 3649 * 8\n",
    "        cu = n1 / 100 * 3649 * 12\n",
    "        cv = n1 / 100 * 3649 * 24\n",
    "        cw = n1 / 100 * 3649 * 48\n",
    "        cx = n1 / 100 * 3649 * 144\n",
    "        cy = n1 / 1000 * 3317\n",
    "        cz = n1 / 1000 * 3649\n",
    "        da = n1 / 1000 * 4054\n",
    "        db = n1 / 1000 * 4561\n",
    "        dc = n1 / 1000 * 5212\n",
    "        dd = n1 / 100 * 3649 / 6\n",
    "        de = n1 / 1000 * 7297\n",
    "        df = n1 / 100 * 3649 / 4\n",
    "        dg = n1 / 100 * 3649 / 3\n",
    "        dh = n1 / 100 * 3649 / 3\n",
    "        di = n1 / 100 * 3649 / 2\n",
    "        dj = n1 / 100 * 2432\n",
    "        dk = n1 / 100000 * 2646\n",
    "        dl = n1 / 100000 * 2646 * 60\n",
    "        dm = n1 / 100000 * 2646 * 600\n",
    "        dn = n1 / 100000 * 2646 * 1500\n",
    "        do = n1 / 100000 * 2646 * 3000\n",
    "        dp = n1 / 100000 * 2646 * 3000\n",
    "        dq = n1 / 100000 * 2646 * 6000\n",
    "        dr = n1 / 100000 * 2646 * 9000\n",
    "        ds = n1 / 100000 * 2646 * 12000\n",
    "        dt = n1 / 100000 * 2646 * 18000\n",
    "        du = n1 / 100000 * 2646 * 36000\n",
    "        dv = n1 / 100000 * 2646 * 48000\n",
    "        dw = n1 / 100000 * 2646 * 72000\n",
    "        dx = n1 / 100000 * 2646 * 24000\n",
    "        dy = n1 / 100000 * 2646 * 144000\n",
    "        dz = n1 / 100000 * 2646 * 288000\n",
    "        ea = n1 / 100000 * 3858\n",
    "        eb = n1 / 100000 * 3858 * 60\n",
    "        ec = n1 / 100000 * 3858 * 600\n",
    "        ed = n1 / 100000 * 3858 * 1500\n",
    "        ee = n1 / 100000 * 3858 * 3000\n",
    "        ef = n1 / 100000 * 3858 * 3000\n",
    "        eg = n1 / 100000 * 3858 * 6000\n",
    "        eh = n1 / 100000 * 3858 * 9000\n",
    "        ei = n1 / 100000 * 3858 * 12000\n",
    "        ej = n1 / 100000 * 3858 * 18000\n",
    "        ek = n1 / 100000 * 3858 * 36000\n",
    "        el = n1 / 100000 * 3858 * 48000\n",
    "        em = n1 / 100000 * 3858 * 72000\n",
    "        en = n1 / 100000 * 3858 * 24000\n",
    "        eo = n1 / 100000 * 3858 * 144000\n",
    "        ep = n1 / 100000 * 3858 * 288000\n",
    "        eq = n1 * 45945087\n",
    "        er = n1 / 100000 * 1667\n",
    "        es = n1 / 100000 * 1667 * 50\n",
    "        et = n1 / 100000 * 1667 * 1000\n",
    "        eu = n1 / 100000 * 1667 * 4000\n",
    "        ev = n1 / 100 * 6596\n",
    "        ew = n1 / 100000 * 1667 * 8000\n",
    "        ex = n1 / 100000 * 1667 * 16000\n",
    "        ey = n1 / 100000 * 1667 * 32000\n",
    "        ez = n1 / 100000 * 1667 * 64000\n",
    "        fa = n1 / 100000 * 1667 * 128000\n",
    "        fb = n1 / 100000 * 1667 * 256000\n",
    "        fc = n1 / 100000 * 1667 * 512000\n",
    "        fd = n1 / 100000 * 1667 * 25600000\n",
    "        fe = n1 / 100000 * 134\n",
    "        ff = n1 / 100000 * 134 * 20\n",
    "        fg = n1 / 100000 * 134 * 160\n",
    "        fh = n1 / 100000 * 134 * 640\n",
    "        fi = n1 / 100000 * 134 * 800\n",
    "        fj = n1 / 100000 * 134 * 3200\n",
    "        fk = n1 / 100000 * 134 * 12800\n",
    "        fl = n1 / 100000 * 134 * 2400\n",
    "        fm = n1 / 100000 * 134 * 57600\n",
    "        fn = n1 / 100000 * 134 * 64000\n",
    "        fo = n1 / 100000 * 134 * 768000\n",
    "        fp = n1 / 100000 * 134 * 6144000\n",
    "        fq = n1 / 10000 * 2667\n",
    "        fr = n1 / 1000 * 1667\n",
    "        fs = n1 / 10000 * 2667 * 10\n",
    "        ft = n1 / 10000 * 2667 * 1000\n",
    "        fu = n1 / 10000 * 2667 * 10000\n",
    "        fv = n1 / 100000 * 1653\n",
    "        fw = n1 / 1000 * 1653\n",
    "        fx = n1 / 100 * 2646\n",
    "        fy = n1 / 10 * 2646\n",
    "        fz = n1 * 2646\n",
    "        ga = n1 / 100 * 2672\n",
    "        gb = n1 / 10 * 2672\n",
    "        gc = n1 * 2672\n",
    "        gd = n1 / 1000 * 1676\n",
    "        ge = n1 / 1000 * 1676 * 16\n",
    "        gf = n1 / 1000 * 1676 * 160\n",
    "        gg = n1 / 1000 * 1676 * 1600\n",
    "        gh = n1 / 1000 * 1676 * 16000\n",
    "        gi = n1 / 1000 * 1676 * 160000\n",
    "        gj = n1 / 100 * 2\n",
    "        gk = n1 * 2\n",
    "        gl = n1 * 32\n",
    "        gm = n1 * 320\n",
    "        gn = n1 * 3200\n",
    "        go = n1 * 32000\n",
    "        gp = n1 * 320000\n",
    "        gq = n1 * 3200000\n",
    "        gr = n1 / 100 * 2\n",
    "        gs = n1 * 2\n",
    "        gt = n1 * 20\n",
    "        gu = n1 * 200\n",
    "        gv = n1 * 2000\n",
    "        gw = n1 * 20000\n",
    "        gx = n1 * 200000\n",
    "        gy = n1 * 2000000\n",
    "        gz = n1 * 20000000\n",
    "        ha = n1 / 10000000 * 9842\n",
    "        hb = n1 / 1000000 * 1102\n",
    "        hc = n1 / 1000000 * 2205\n",
    "        hd = n1 / 100000 * 1968\n",
    "        he = n1 / 100000 * 1968\n",
    "        hf = n1 / 100000 * 2205\n",
    "        hg = n1 / 10000 * 1575\n",
    "        hh = n1 / 1000 * 2205\n",
    "        hi = n1 / 100 * 3527\n",
    "        hj = n1 / 10 * 5644\n",
    "        hk = n1 * 15432\n",
    "        hl = n1 / 1000 * 2679\n",
    "        hm = n1 / 100 * 3215\n",
    "        hn = n1 * 643\n",
    "        ho = n1 * 4878\n",
    "        hp = n1 * 15432\n",
    "        hq = n1 * 308647\n",
    "        hr = n1 * 7407532\n",
    "        hs = n1 / 1000 * 2679\n",
    "        ht = n1 / 100 * 3215\n",
    "        hu = n1 / 10 * 2572\n",
    "        hv = n1 / 10 * 7716\n",
    "        hw = n1 * 15432\n",
    "        print ('{} kT {} T {} kg {} g {} cg {} mg {} mcg'.format(a, b, c, d, e, f, g))\n",
    "        print ('{} N {} kN'.format(h, i))\n",
    "        print ('{} ct'.format(j))\n",
    "        print ('{} centner métrico {} quintal métrico'.format(k, l))\n",
    "        print ('{} amu'.format(m))\n",
    "        print ('{} M'.format(eq))\n",
    "        print ('---------APOTHECARIES---------')\n",
    "        print ('{} lb {} onça {} dracma {} escrópulo {} grão'.format(hs, ht, hu, hv, hw))\n",
    "        print ('-------------TROY-------------')\n",
    "        print ('{} lb {} ozt {} dwt {} ct {} grão {} mite {} doite'.format(hl, hm, hn, ho, hp, hq, hr))\n",
    "        print ('---------AVOIRDUPOIS---------')\n",
    "        print ('{} T longa INGLATERRA {} T curta EUA {} klb Massa {} quintal longo REINO UNIDO{} centner britânico {} quintal curto EUA {} st {} lb {} oz {} dr {} gr'.format(ha, hb, hc, hd, he, hf, hg, hh, hi, hj, hk))\n",
    "        print ('-' * 30)\n",
    "        print ('\\033[0;30;43m-----------PORTUGAL-----------\\033[m')\n",
    "        print ('-' * 30)\n",
    "        print ('\\033[34m{} @ |{} T |{} quintal |{} arrátel |{} quarta |{} onça |{} oitava |{} escrópulo |{} grão |\\033[m'.format(n, o, p, q, r, s, t, u, v))\n",
    "        print ('-' * 29)\n",
    "        print ('\\033[0;30;43m-----------ESPANHA-----------\\033[m')\n",
    "        print ('-' * 29)\n",
    "        print ('\\033[34m{} T |{} alqueire de trigo |{} alqueire de centeio |{} alqueire de cevada |{} quintal |{} @ |{} £ |{} marco |{} cuarterón |{} onça |{} oitava |{} adame |{} grão |\\033[m'.format(w, x, y, z, aa, ab, ac, ad, ae, af, ag, ah, ai))\n",
    "        print ('-' * 30)\n",
    "        print ('\\033[0;30;43m------------FRANÇA------------\\033[m')\n",
    "        print ('-' * 30)\n",
    "        print ('\\033[34m{} quintal |{} £ |\\033[m'.format(aj, ak))\n",
    "        print ('-' * 30)\n",
    "        print ('\\033[0;30;43m------------RÚSSIA------------\\033[m')\n",
    "        print ('-' * 30)\n",
    "        print ('\\033[34m{} berkovets |{} pud |{} £ |{} lot |{} zolotnik |{} dolya |\\033[m'.format(al, au, av, aw, ax, ay))\n",
    "        print ('-' * 29)\n",
    "        print ('\\033[0;30;43m-----------PRÚSSIA-----------\\033[m')\n",
    "        print ('-' * 29)\n",
    "        print ('\\033[34m{} schiffspfund |{} doppelzentner |{} zentner |{} stain |{} pfund |{} mark |{} unze |{} loth |{} quentchen |{} quint |{} pfennig |{} gran |\\033[m'.format(az, ba, bb, bc, bd, be, bf, bg, bh, bi, bj, bk))\n",
    "        print ('-' * 29)\n",
    "        print ('\\033[0;30;43m-----------ÁUSTRIA-----------\\033[m')\n",
    "        print ('-' * 29)\n",
    "        print ('\\033[34m{} kauch |{} saum |{} zentner |{} stain |{} pfund |{} mark |{} vierding |{} unze |{} loth |{} quentchen |{} denzt |\\033[m'.format(bl, bm, bn, bo, bp, bq, br, bs, bt, bu, bv))\n",
    "        print ('-' * 30)\n",
    "        print ('\\033[0;30;43m------------SUÉCIA------------\\033[m')\n",
    "        print ('-' * 30)\n",
    "        print ('\\033[34m{} skeppspund |{} lispund |{} bismerpund |{} skålpund |{} mark |{} ort |\\033[m'.format(bw, bx, by, bz, ca, cb))\n",
    "        print ('-' * 29)\n",
    "        print ('\\033[0;30;43m-------CHINA 1915#1930-------\\033[m')\n",
    "        print ('-' * 29)\n",
    "        print ('\\033[34m{} jin |{} liang |{} qian |{} fen |{} li |{} hao |\\033[m'.format(gd, ge, gf, gg, gh, gi))\n",
    "        print ('-' * 29)\n",
    "        print ('\\033[0;30;43m-------CHINA 1930#1959-------\\033[m')\n",
    "        print ('-' * 29)\n",
    "        print ('\\033[34m{} dan |{} jin |{} liang |{} qian |{} fen |{} li |{} hao |{} si |\\033[m'.format(gj, gk, gl, gm, gn, go, gp, gq))\n",
    "        print ('-' * 29)\n",
    "        print ('\\033[0;30;43m-------CHINA 1959#HOJE-------\\033[m')\n",
    "        print ('-' * 29)\n",
    "        print ('\\033[34m{} dan |{} jin |{} liang |{} qian |{} fen |{} li |{} hao |{} si |{} hu |\\033[m'.format(gr, gs, gt, gu, gv, gw, gx, gy, gz))\n",
    "        print ('-' * 29)\n",
    "        print ('\\033[0;30;43m-------------EUA-------------\\033[m')\n",
    "        print ('-' * 29)\n",
    "        print ('\\033[34m{} T curta |{} lb |{} oz |\\033[m'.format(cc, cd, ce))\n",
    "        print ('-' * 29)\n",
    "        print ('\\033[0;30;43m----------HONG KONG----------\\033[m')\n",
    "        print ('-' * 29)\n",
    "        print ('\\033[34m{} picul |{} catty |{} tael |{} mace |{} candareen |{} tael troy |{} mace troy |{} candareen troy |\\033[m'.format(fv, fw, fx, fy, fz, ga, gb, gc))\n",
    "        print ('-' * 29)\n",
    "        print ('\\033[0;30;43m------------JAPÃO------------\\033[m')\n",
    "        print ('-' * 29)\n",
    "        print ('\\033[34m{} kan |{} kin |{} nyakume |{} monnme |{} fun |\\033[m'.format(fq, fr, fs, ft, fu))\n",
    "        print ('-' * 29)\n",
    "        print ('\\033[0;30;43m------------ÍNDIA------------\\033[m')\n",
    "        print ('-' * 29)\n",
    "        print ('\\033[34m{} candy |{} maund |{} dhurra |{} halk |{} sèr |{} powa |{} chittak |{} parah |{} tank |{} tolä |{} māshā |{} rattī |\\033[m'.format(fe, ff, fg, fh, fi, fj, fk, fl, fm, fn, fo, fp))\n",
    "        print ('-' * 29)\n",
    "        print ('\\033[0;30;43m----------TAILÂNDIA----------\\033[m')\n",
    "        print ('-' * 29)\n",
    "        print ('\\033[34m{} hap |{} chang |{} tamlueng |{} baht |{} baht ouro |{} mayon |{} salueng |{} fueang |{} seek |{} siao |{} ath |{} solos |{} bia |\\033[m'.format(er, es, et, eu, ev, ew, ex, ey, ez, fa, fb, fc, fd))\n",
    "        print ('-' * 30)\n",
    "        print ('\\033[0;30;43m-------------ROMA-------------\\033[m')\n",
    "        print ('-' * 30)\n",
    "        print ('\\033[34m{} £ |{} onça |{} semionça |{} duella |{} sicílico |{} sextula |{} dracma |{} semisextula |{} escrópulo |{} óbolo |{} síliqua |{} deunx |{} dextans |{} dodrans |{} bes |{} septunx |{} semisse |{} quincunx |{} triente |{} quadrante |{} terúncio |{} sextante |{} sescúncia |\\033[m'.format(cn, co, cp, cq, cr, cs, ct, cu, cv, cw, cx, cy, cz, da, db, dc, dd, de, df, dg, dh, di, dj))\n",
    "        print ('-' * 30)\n",
    "        print ('\\033[0;30;43m-------GRÉCIA EGINÉTICO-------\\033[m')\n",
    "        print ('-' * 30)\n",
    "        print ('\\033[34m{} talento |{} mina |{} decadracma |{} tetradracma |{} didracma |{} estáter |{} dracma |{} tetróbolo |{} trióbolo |{} dióbolo |{} óbolo |{} tritartemorion |{} hemióbolo |{} trihemitetartemorion |{} tetartemorion |{} hemitetartemorion |\\033[m'.format(dk, dl, dm, dn, do, dp, dq, dr, ds, dt, du, dv, dw, dx, dy, dz))\n",
    "        print ('-' * 30)\n",
    "        print ('\\033[0;30;43m---------GRÉCIA ÁTICO---------\\033[m')\n",
    "        print ('-' * 30)\n",
    "        print ('\\033[34m{} talento |{} mina |{} decadracma |{} tetradracma |{} didracma |{} estáter |{} dracma |{} tetróbolo |{} trióbolo |{} dióbolo |{} óbolo |{} tritartemorion |{} hemióbolo |{} trihemitetartemorion |{} tetartemorion |{} hemitetartemorion |\\033[m'.format(ea, eb, ec, ed, ee, ef, eg, eh, ei, ej, ek, el, em, en, eo, ep))\n",
    "        print ('-' * 29)\n",
    "        print ('\\033[4;30;42m----------FÉ BAHÁ´I----------\\033[m')\n",
    "        print ('-' * 29)\n",
    "        print ('\\033[35m{} metical |{} nakhud |\\033[m'.format(cf, cg))\n",
    "        print ('-' * 30)\n",
    "        print ('\\033[4;30;42m------------BÍBLIA------------\\033[m')\n",
    "        print ('-' * 30)\n",
    "        print ('\\033[35m{} talento |{} mina |{} siclo |{} pim |{} beca |{} gera |\\033[m'.format(ch, ci, cj, ck, cl, cm))\n",
    "\n",
    "        print ('\\033[36mA CATEC agradece a sua consulta!\\033[m')\n",
    "    case \"5\":\n",
    "        n1 = float(input ('Digite um valor em \\033[32mºC\\033[m: '))\n",
    "        a = n1\n",
    "        b = 32 + 9 / 5 * a\n",
    "        c = 273.15 + a\n",
    "        d = a * 0.8\n",
    "        e = c / 1000000000000000000000000000000000000 * 7058\n",
    "        f = 491.7 + a * 1.8\n",
    "        g = a * 0.33\n",
    "        h = 7.5 + a * 0.525\n",
    "        i = 150 - a * 1.5 \n",
    "        print ('{}ºC {}ºF {}K {}ºRe {}Θ'.format(a, b, c, d, e))\n",
    "        print ('{}ºR {}ºN {}Rø {}ºD'.format(f, g, h, i))\n",
    "        print ('\\033[36mA CATEC agradece a sua consulta!\\033[m')\n",
    "    case \"6\":\n",
    "        n1 = float(input ('Digite um valor em \\033[32mkm/h\\033[m: '))\n",
    "        a = n1 / 10000000 * 2778\n",
    "        b = n1 / 10000 * 2778\n",
    "        c = n1 / 100000 * 1667\n",
    "        d = n1 / 100 * 1667\n",
    "        e = n1\n",
    "        f = n1 * 1000\n",
    "        g = n1 * 8766\n",
    "        h = n1 * 8765813\n",
    "        i = n1 / 10000000 * 1726\n",
    "        j = n1 / 10000 * 9113\n",
    "        k = n1 / 100 * 1094\n",
    "        l = n1 / 100000 * 1036\n",
    "        m = n1 / 100 * 5468\n",
    "        n = n1 / 10 * 6562\n",
    "        o = n1 / 10000 * 6214\n",
    "        p = n1 * 3281\n",
    "        q = n1 * 39370\n",
    "        r = n1 * 5447\n",
    "        s = n1 * 28759228\n",
    "        t = n1 * 345110740\n",
    "        u = n1 * 60 / e / e\n",
    "        v = n1 * 3600 / e / e\n",
    "        w = n1 * 360 / e / e\n",
    "        x = n1 / 100 * 9656 / e / e\n",
    "        y = n1 * 5794 / e / e\n",
    "        z = n1 / 10 * 3292 / e / e\n",
    "        aa = n1 * 1800 / e / e\n",
    "        ab = n1 / 100 * 54\n",
    "        ac = n1 / 100 * 54\n",
    "        ad = n1 / 1000000 * 817\n",
    "        ae = n1 / 1000000000000 * 926\n",
    "        print ('-' * 30)\n",
    "        print ('\\033[0;30;43m-------MEDIDAS MÉTRICAS-------\\033[m')\n",
    "        print ('-' * 30)\n",
    "        print ('\\033[34m{} km/s |{} m/s |{} quilômetro por minuto |{} metro por minuto |{} km/h |{} m/h |{} quilômetro por ano |{} metro por ano |\\033[m'.format(a, b, c, d, e, f, g, h))\n",
    "        print ('-' * 30)\n",
    "        print ('\\033[0;30;43m-------EUA E INGLATERRA-------\\033[m')\n",
    "        print ('-' * 30)\n",
    "        print ('\\033[34m{} milha por segundo |{} pé por segundo |{} polegada por segundo |{} milha por minuto |{} pé por minuto |{} polegada por minuto |{} mph |{} pé por hora |{} polegada por hora |{} milha por ano |{} pé por ano |{} polegada por ano |\\033[m'.format(i, j, k, l, m, n, o, p, q, r, s, t))\n",
    "        print ('-' * 29)\n",
    "        print ('\\033[0;30;43m------------RITMO------------\\033[m')\n",
    "        print ('-' * 29)\n",
    "        print ('\\033[34m{} minutos por quilômetro |{} segundos por quilômetro |{} segundos por 100 metros |{} minutos por milha |{} segundos por milha |{} segundos por 100 jardas |{} segundos por 500 metros |\\033[m'.format(u, v, w, x, y, z, aa))\n",
    "        print ('-' * 29)\n",
    "        print ('\\033[0;30;43m------UNIDADES NÁUTICAS------\\033[m')\n",
    "        print ('-' * 29)\n",
    "        print ('\\033[34m{} nó |{} milha marítima por hora |\\033[m'.format(ab, ac))\n",
    "        print ('-' * 30)\n",
    "        print ('\\033[4;30;42m------------FÍSICA------------\\033[m')\n",
    "        print ('-' * 30)\n",
    "        print ('\\033[35m{} velocidade do som no ar |{} velocidade da luz no vácuo |\\033[m'.format(ad, ae))\n",
    "\n",
    "        print ('\\033[36mA CATEC agradece a sua consulta!\\033[m')\n",
    "    case _:\n",
    "        print('\\033[31mTivemos um problema com os tipos de dados que você digitou!\\033[m')"
   ]
  },
  {
   "cell_type": "code",
   "execution_count": null,
   "id": "5fed3d2b-8598-4545-b774-6b782612b597",
   "metadata": {},
   "outputs": [],
   "source": []
  }
 ],
 "metadata": {
  "kernelspec": {
   "display_name": "Python 3 (ipykernel)",
   "language": "python",
   "name": "python3"
  },
  "language_info": {
   "codemirror_mode": {
    "name": "ipython",
    "version": 3
   },
   "file_extension": ".py",
   "mimetype": "text/x-python",
   "name": "python",
   "nbconvert_exporter": "python",
   "pygments_lexer": "ipython3",
   "version": "3.12.5"
  }
 },
 "nbformat": 4,
 "nbformat_minor": 5
}
